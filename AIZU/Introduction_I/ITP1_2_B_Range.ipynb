{
 "cells": [
  {
   "cell_type": "code",
   "execution_count": null,
   "id": "85334eb9",
   "metadata": {},
   "outputs": [],
   "source": [
    "s = [int(a) for a in input().split(\" \")]\n",
    "print(\"Yes\" if s[0]<s[1]<s[2] else \"No\")"
   ]
  }
 ],
 "metadata": {
  "kernelspec": {
   "display_name": "Python 3",
   "language": "python",
   "name": "python3"
  },
  "language_info": {
   "codemirror_mode": {
    "name": "ipython",
    "version": 3
   },
   "file_extension": ".py",
   "mimetype": "text/x-python",
   "name": "python",
   "nbconvert_exporter": "python",
   "pygments_lexer": "ipython3",
   "version": "3.8.8"
  }
 },
 "nbformat": 4,
 "nbformat_minor": 5
}
