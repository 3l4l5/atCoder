{
 "cells": [
  {
   "cell_type": "code",
   "execution_count": 7,
   "id": "936b5bb4",
   "metadata": {},
   "outputs": [
    {
     "name": "stdin",
     "output_type": "stream",
     "text": [
      " 1 + 2\n",
      " 0 ? 0\n"
     ]
    },
    {
     "name": "stdout",
     "output_type": "stream",
     "text": [
      "3\n"
     ]
    }
   ],
   "source": [
    "buf = \"\"\n",
    "buf_list = []\n",
    "while buf != \"?\":\n",
    "    s = input().split(\" \")\n",
    "    buf_list.append([int(s[0]), s[1], int(s[2])])\n",
    "    buf = s[1]\n",
    "for a in buf_list[:-1]:\n",
    "    if a[1] == \"+\": print(a[0] + a[2])\n",
    "    if a[1] == \"-\": print(a[0] - a[2])\n",
    "    if a[1] == \"*\": print(a[0] * a[2])\n",
    "    if a[1] == \"/\": print(a[0] // a[2])"
   ]
  },
  {
   "cell_type": "code",
   "execution_count": 5,
   "id": "acb08034",
   "metadata": {},
   "outputs": [
    {
     "name": "stdout",
     "output_type": "stream",
     "text": [
      "3.0\n",
      "38.0\n"
     ]
    }
   ],
   "source": [
    "for a in buf_list[:-1]:\n",
    "    if a[1] == \"+\": print(a[0] + a[2])\n",
    "    if a[1] == \"-\": print(a[0] - a[2])\n",
    "    if a[1] == \"*\": print(a[0] * a[2])\n",
    "    if a[1] == \"/\": print(a[0] // a[2])"
   ]
  },
  {
   "cell_type": "code",
   "execution_count": null,
   "id": "8a8b27c7",
   "metadata": {},
   "outputs": [],
   "source": [
    "1 + 2\n",
    "56 - 18\n",
    "13 * 2\n",
    "100 / 10\n",
    "27 + 81\n",
    "0 ? 0"
   ]
  }
 ],
 "metadata": {
  "kernelspec": {
   "display_name": "Python 3",
   "language": "python",
   "name": "python3"
  },
  "language_info": {
   "codemirror_mode": {
    "name": "ipython",
    "version": 3
   },
   "file_extension": ".py",
   "mimetype": "text/x-python",
   "name": "python",
   "nbconvert_exporter": "python",
   "pygments_lexer": "ipython3",
   "version": "3.8.8"
  }
 },
 "nbformat": 4,
 "nbformat_minor": 5
}
