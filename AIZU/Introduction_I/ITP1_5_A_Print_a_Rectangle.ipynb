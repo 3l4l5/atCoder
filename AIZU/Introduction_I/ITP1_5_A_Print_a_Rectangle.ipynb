{
 "cells": [
  {
   "cell_type": "code",
   "execution_count": 6,
   "id": "9d897459",
   "metadata": {},
   "outputs": [
    {
     "name": "stdin",
     "output_type": "stream",
     "text": [
      " 3 4\n",
      " 5 6\n",
      " 2 2\n",
      " 0 0\n"
     ]
    },
    {
     "name": "stdout",
     "output_type": "stream",
     "text": [
      "####\n",
      "####\n",
      "####\n",
      "\n",
      "######\n",
      "######\n",
      "######\n",
      "######\n",
      "######\n",
      "\n",
      "##\n",
      "##\n",
      "\n"
     ]
    }
   ],
   "source": [
    "buf = \"\"\n",
    "s = []\n",
    "while True:\n",
    "    buf = input()\n",
    "    if buf == \"0 0\": break\n",
    "    s.append([int(a) for a in buf.split(\" \")])\n",
    "for a in s:\n",
    "    for L in range(a[0]):\n",
    "        print(\"#\"*a[1])\n",
    "    print(\"\")"
   ]
  },
  {
   "cell_type": "code",
   "execution_count": null,
   "id": "56fc033d",
   "metadata": {},
   "outputs": [],
   "source": []
  }
 ],
 "metadata": {
  "kernelspec": {
   "display_name": "Python 3",
   "language": "python",
   "name": "python3"
  },
  "language_info": {
   "codemirror_mode": {
    "name": "ipython",
    "version": 3
   },
   "file_extension": ".py",
   "mimetype": "text/x-python",
   "name": "python",
   "nbconvert_exporter": "python",
   "pygments_lexer": "ipython3",
   "version": "3.8.8"
  }
 },
 "nbformat": 4,
 "nbformat_minor": 5
}
