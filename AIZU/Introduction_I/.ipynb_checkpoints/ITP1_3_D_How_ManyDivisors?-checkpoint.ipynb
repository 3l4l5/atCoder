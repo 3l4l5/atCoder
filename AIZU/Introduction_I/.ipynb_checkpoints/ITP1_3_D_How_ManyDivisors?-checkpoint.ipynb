{
 "cells": [
  {
   "cell_type": "code",
   "execution_count": 5,
   "id": "887ebba2",
   "metadata": {},
   "outputs": [
    {
     "name": "stdin",
     "output_type": "stream",
     "text": [
      " 5 14 80\n"
     ]
    }
   ],
   "source": [
    "s = [int(a) for a in input().split(\" \")]\n",
    "buf = 0\n",
    "for a in range(s[0], s[1]+1, 1):\n",
    "    buf += 1 if s[2]%a == 0 else 0\n",
    "print(buf)"
   ]
  },
  {
   "cell_type": "code",
   "execution_count": null,
   "id": "40553260",
   "metadata": {},
   "outputs": [],
   "source": []
  }
 ],
 "metadata": {
  "kernelspec": {
   "display_name": "Python 3",
   "language": "python",
   "name": "python3"
  },
  "language_info": {
   "codemirror_mode": {
    "name": "ipython",
    "version": 3
   },
   "file_extension": ".py",
   "mimetype": "text/x-python",
   "name": "python",
   "nbconvert_exporter": "python",
   "pygments_lexer": "ipython3",
   "version": "3.8.8"
  }
 },
 "nbformat": 4,
 "nbformat_minor": 5
}
