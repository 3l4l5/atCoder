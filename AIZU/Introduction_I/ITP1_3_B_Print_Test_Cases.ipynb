{
 "cells": [
  {
   "cell_type": "code",
   "execution_count": 14,
   "id": "c47246f1",
   "metadata": {},
   "outputs": [
    {
     "name": "stdin",
     "output_type": "stream",
     "text": [
      " 1\n",
      " 1\n",
      " 1\n",
      " 1\n",
      " 1\n",
      " 1\n",
      " 1\n",
      " 0\n"
     ]
    },
    {
     "name": "stdout",
     "output_type": "stream",
     "text": [
      "Case 1: 1\n",
      "Case 2: 1\n",
      "Case 3: 1\n",
      "Case 4: 1\n",
      "Case 5: 1\n",
      "Case 6: 1\n",
      "Case 7: 1\n"
     ]
    }
   ],
   "source": [
    "s = []\n",
    "num = 1\n",
    "while num!=\"0\":\n",
    "    num = input()\n",
    "    s.append(num)\n",
    "for a in range(len(s[:-1])):\n",
    "    print(\"Case {}: {}\".format(a+1, s[a]))"
   ]
  },
  {
   "cell_type": "code",
   "execution_count": null,
   "id": "7228e93d",
   "metadata": {},
   "outputs": [],
   "source": []
  }
 ],
 "metadata": {
  "kernelspec": {
   "display_name": "Python 3",
   "language": "python",
   "name": "python3"
  },
  "language_info": {
   "codemirror_mode": {
    "name": "ipython",
    "version": 3
   },
   "file_extension": ".py",
   "mimetype": "text/x-python",
   "name": "python",
   "nbconvert_exporter": "python",
   "pygments_lexer": "ipython3",
   "version": "3.8.8"
  }
 },
 "nbformat": 4,
 "nbformat_minor": 5
}
