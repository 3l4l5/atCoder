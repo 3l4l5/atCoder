{
 "cells": [
  {
   "cell_type": "code",
   "execution_count": 9,
   "id": "68c56d1e",
   "metadata": {},
   "outputs": [
    {
     "name": "stdin",
     "output_type": "stream",
     "text": [
      " 141421356 2236\n"
     ]
    },
    {
     "name": "stdout",
     "output_type": "stream",
     "text": [
      "63247 1064 63247.475850\n",
      "63247 1064 63247.47584973\n"
     ]
    }
   ],
   "source": [
    "a, b = [int(a) for a in input().split(\" \")]\n",
    "r1, r2 = divmod(a, b)\n",
    "r3 = a/b\n",
    "print(\"%d %d %f\" %(r1, r2, r3))\n",
    "print(r1, r2, '{:.13g}'.format(r3))"
   ]
  },
  {
   "cell_type": "code",
   "execution_count": 11,
   "id": "69c335e4",
   "metadata": {},
   "outputs": [
    {
     "name": "stdin",
     "output_type": "stream",
     "text": [
      " 2 100000009\n"
     ]
    },
    {
     "name": "stdout",
     "output_type": "stream",
     "text": [
      "0 2 0.000000\n",
      "0 2 1.9999998200000162e-08\n"
     ]
    }
   ],
   "source": [
    "a, b = [int(a) for a in input().split(\" \")]\n",
    "r1, r2 = divmod(a, b)\n",
    "r3 = a/b\n",
    "print(\"%d %d %f\" %(r1, r2, r3))\n",
    "print(r1, r2, '{}'.format(r3))"
   ]
  },
  {
   "cell_type": "code",
   "execution_count": null,
   "id": "70059ae1",
   "metadata": {},
   "outputs": [],
   "source": []
  }
 ],
 "metadata": {
  "kernelspec": {
   "display_name": "Python 3",
   "language": "python",
   "name": "python3"
  },
  "language_info": {
   "codemirror_mode": {
    "name": "ipython",
    "version": 3
   },
   "file_extension": ".py",
   "mimetype": "text/x-python",
   "name": "python",
   "nbconvert_exporter": "python",
   "pygments_lexer": "ipython3",
   "version": "3.8.8"
  }
 },
 "nbformat": 4,
 "nbformat_minor": 5
}
