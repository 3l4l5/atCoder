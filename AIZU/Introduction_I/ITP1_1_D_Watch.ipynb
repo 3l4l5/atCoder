{
 "cells": [
  {
   "cell_type": "code",
   "execution_count": 4,
   "id": "c738061d",
   "metadata": {},
   "outputs": [
    {
     "name": "stdin",
     "output_type": "stream",
     "text": [
      " 46979\n"
     ]
    },
    {
     "data": {
      "text/plain": [
       "(13, 179)"
      ]
     },
     "execution_count": 4,
     "metadata": {},
     "output_type": "execute_result"
    }
   ],
   "source": [
    "divmod(int(input()), 3600)"
   ]
  },
  {
   "cell_type": "code",
   "execution_count": 7,
   "id": "d1455d9c",
   "metadata": {},
   "outputs": [
    {
     "name": "stdin",
     "output_type": "stream",
     "text": [
      " 46979\n"
     ]
    },
    {
     "name": "stdout",
     "output_type": "stream",
     "text": [
      "13:2:59\n"
     ]
    }
   ],
   "source": [
    "h, m_ = divmod(int(input()), 3600)\n",
    "m, s = divmod(m_, 60)\n",
    "print(\"{}:{}:{}\".format(h,m,s))"
   ]
  },
  {
   "cell_type": "code",
   "execution_count": 6,
   "id": "eee33ff2",
   "metadata": {},
   "outputs": [
    {
     "data": {
      "text/plain": [
       "(13, 179)"
      ]
     },
     "execution_count": 6,
     "metadata": {},
     "output_type": "execute_result"
    }
   ],
   "source": [
    "h, m_"
   ]
  },
  {
   "cell_type": "code",
   "execution_count": null,
   "id": "9c89600e",
   "metadata": {},
   "outputs": [],
   "source": []
  }
 ],
 "metadata": {
  "kernelspec": {
   "display_name": "Python 3",
   "language": "python",
   "name": "python3"
  },
  "language_info": {
   "codemirror_mode": {
    "name": "ipython",
    "version": 3
   },
   "file_extension": ".py",
   "mimetype": "text/x-python",
   "name": "python",
   "nbconvert_exporter": "python",
   "pygments_lexer": "ipython3",
   "version": "3.8.8"
  }
 },
 "nbformat": 4,
 "nbformat_minor": 5
}
