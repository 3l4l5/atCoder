{
 "cells": [
  {
   "cell_type": "code",
   "execution_count": 12,
   "id": "61124d4f",
   "metadata": {},
   "outputs": [
    {
     "name": "stdin",
     "output_type": "stream",
     "text": [
      " 1 2\n",
      " 2 1\n",
      " 0 0\n"
     ]
    },
    {
     "name": "stdout",
     "output_type": "stream",
     "text": [
      "1 2\n",
      "1 2\n"
     ]
    }
   ],
   "source": [
    "s = []\n",
    "num = 1\n",
    "while num!=\"0 0\":\n",
    "    num = input()\n",
    "    s.append(num.split(\" \"))\n",
    "s = [[int(a[0]), int(a[1])] if int(a[0]) > int(a[1]) else [int(a[1]), int(a[0])] for a in s[:-1]]\n",
    "for a in s:\n",
    "    print(a[1], a[0])"
   ]
  },
  {
   "cell_type": "code",
   "execution_count": null,
   "id": "b8162d46",
   "metadata": {},
   "outputs": [],
   "source": []
  }
 ],
 "metadata": {
  "kernelspec": {
   "display_name": "Python 3",
   "language": "python",
   "name": "python3"
  },
  "language_info": {
   "codemirror_mode": {
    "name": "ipython",
    "version": 3
   },
   "file_extension": ".py",
   "mimetype": "text/x-python",
   "name": "python",
   "nbconvert_exporter": "python",
   "pygments_lexer": "ipython3",
   "version": "3.8.8"
  }
 },
 "nbformat": 4,
 "nbformat_minor": 5
}
