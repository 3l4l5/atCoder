{
 "cells": [
  {
   "cell_type": "code",
   "execution_count": 2,
   "id": "0c6c5266",
   "metadata": {},
   "outputs": [
    {
     "name": "stdin",
     "output_type": "stream",
     "text": [
      " 3 8 1\n"
     ]
    },
    {
     "name": "stdout",
     "output_type": "stream",
     "text": [
      "1 3 8\n"
     ]
    }
   ],
   "source": [
    "s = [int(a) for a in input().split(\" \")]\n",
    "s.sort()\n",
    "print(s[0],s[1],s[2])"
   ]
  },
  {
   "cell_type": "code",
   "execution_count": null,
   "id": "c533016d",
   "metadata": {},
   "outputs": [],
   "source": []
  }
 ],
 "metadata": {
  "kernelspec": {
   "display_name": "Python 3",
   "language": "python",
   "name": "python3"
  },
  "language_info": {
   "codemirror_mode": {
    "name": "ipython",
    "version": 3
   },
   "file_extension": ".py",
   "mimetype": "text/x-python",
   "name": "python",
   "nbconvert_exporter": "python",
   "pygments_lexer": "ipython3",
   "version": "3.8.8"
  }
 },
 "nbformat": 4,
 "nbformat_minor": 5
}
