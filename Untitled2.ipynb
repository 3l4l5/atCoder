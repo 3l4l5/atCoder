{
 "cells": [
  {
   "cell_type": "code",
   "execution_count": 38,
   "id": "c1d765c4",
   "metadata": {},
   "outputs": [
    {
     "name": "stdin",
     "output_type": "stream",
     "text": [
      " ooo???xxxx\n"
     ]
    }
   ],
   "source": [
    "S = input()"
   ]
  },
  {
   "cell_type": "code",
   "execution_count": 39,
   "id": "5e5188cb",
   "metadata": {},
   "outputs": [],
   "source": [
    "num = 0\n",
    "maru = []\n",
    "batu = []\n",
    "sank = []\n",
    "for s in S:\n",
    "    if s == \"o\":\n",
    "        maru.append(num)\n",
    "    elif s == \"x\":\n",
    "        batu.append(num)\n",
    "    elif s == \"?\":\n",
    "        sank.append(num)\n",
    "    num+=1"
   ]
  },
  {
   "cell_type": "code",
   "execution_count": 40,
   "id": "4cfb8891",
   "metadata": {},
   "outputs": [
    {
     "data": {
      "text/plain": [
       "([0, 1, 2], [6, 7, 8, 9], [3, 4, 5])"
      ]
     },
     "execution_count": 40,
     "metadata": {},
     "output_type": "execute_result"
    }
   ],
   "source": [
    "maru,batu,sank"
   ]
  },
  {
   "cell_type": "code",
   "execution_count": 78,
   "id": "38567c20",
   "metadata": {},
   "outputs": [
    {
     "name": "stdout",
     "output_type": "stream",
     "text": [
      "108\n"
     ]
    }
   ],
   "source": [
    "num = 0\n",
    "test = []\n",
    "test2 = []\n",
    "for a in range(10000):\n",
    "    con = True\n",
    "    for m in maru:\n",
    "        con = con and str(m) in str(a).zfill(4)\n",
    "    if con:\n",
    "        test.append(str(a).zfill(4))\n",
    "for b in test:\n",
    "    con = True\n",
    "    for s in batu:\n",
    "        con = con and not(str(s) in str(b).zfill(4))\n",
    "    if con:\n",
    "        test2.append(str(b).zfill(4))\n",
    "print(len(test2))"
   ]
  },
  {
   "cell_type": "code",
   "execution_count": 77,
   "id": "8b67dd49",
   "metadata": {},
   "outputs": [
    {
     "data": {
      "text/plain": [
       "108"
      ]
     },
     "execution_count": 77,
     "metadata": {},
     "output_type": "execute_result"
    }
   ],
   "source": [
    "len(test2)"
   ]
  },
  {
   "cell_type": "code",
   "execution_count": 81,
   "id": "f2131072",
   "metadata": {},
   "outputs": [
    {
     "name": "stdin",
     "output_type": "stream",
     "text": [
      " xxxxx?xxxo\n"
     ]
    },
    {
     "name": "stdout",
     "output_type": "stream",
     "text": [
      "15\n"
     ]
    }
   ],
   "source": [
    "S = input()\n",
    "num = 0\n",
    "maru = []\n",
    "batu = []\n",
    "sank = []\n",
    "for s in S:\n",
    "    if s == \"o\":\n",
    "        maru.append(num)\n",
    "    elif s == \"x\":\n",
    "        batu.append(num)\n",
    "    elif s == \"?\":\n",
    "        sank.append(num)\n",
    "    num+=1\n",
    "num = 0\n",
    "test = []\n",
    "test2 = []\n",
    "for a in range(10000):\n",
    "    con = True\n",
    "    for m in maru:\n",
    "        con = con and str(m) in str(a).zfill(4)\n",
    "    if con:\n",
    "        test.append(str(a).zfill(4))\n",
    "for b in test:\n",
    "    con = True\n",
    "    for s in batu:\n",
    "        con = con and not(str(s) in str(b).zfill(4))\n",
    "    if con:\n",
    "        test2.append(str(b).zfill(4))\n",
    "print(len(test2))"
   ]
  },
  {
   "cell_type": "code",
   "execution_count": null,
   "id": "de95cd7e",
   "metadata": {},
   "outputs": [],
   "source": []
  }
 ],
 "metadata": {
  "kernelspec": {
   "display_name": "Python 3",
   "language": "python",
   "name": "python3"
  },
  "language_info": {
   "codemirror_mode": {
    "name": "ipython",
    "version": 3
   },
   "file_extension": ".py",
   "mimetype": "text/x-python",
   "name": "python",
   "nbconvert_exporter": "python",
   "pygments_lexer": "ipython3",
   "version": "3.8.8"
  }
 },
 "nbformat": 4,
 "nbformat_minor": 5
}
