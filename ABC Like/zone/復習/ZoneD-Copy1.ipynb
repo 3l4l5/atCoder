{
 "cells": [
  {
   "cell_type": "code",
   "execution_count": 70,
   "id": "238153ae",
   "metadata": {},
   "outputs": [
    {
     "name": "stdin",
     "output_type": "stream",
     "text": [
      " hellospaceRhellospace\n"
     ]
    }
   ],
   "source": [
    "S = input()"
   ]
  },
  {
   "cell_type": "code",
   "execution_count": 71,
   "id": "5d567d37",
   "metadata": {},
   "outputs": [
    {
     "name": "stdin",
     "output_type": "stream",
     "text": [
      " hellospaceRhellospace\n"
     ]
    }
   ],
   "source": [
    "S = input()\n",
    "T = \"\"\n",
    "for s in S:\n",
    "    if s == \"R\":\n",
    "        T = T[::-1]\n",
    "    if s != \"R\":\n",
    "        T+=(s)\n",
    "T1 = []\n",
    "while True:\n",
    "    for t in T:\n",
    "        T1.append(T.replace(t*2, \"\"))\n",
    "    T2 = [len(a) for a in T1]\n",
    "    if T != T1[T2.index(min(T2))]:\n",
    "        T = T1[T2.index(min(T2))]\n",
    "        continue\n",
    "    else:\n",
    "        break\n",
    "print(T)"
   ]
  },
  {
   "cell_type": "code",
   "execution_count": 95,
   "id": "dbead6b2",
   "metadata": {},
   "outputs": [
    {
     "name": "stdin",
     "output_type": "stream",
     "text": [
      " ozRnonnoeRll\n"
     ]
    },
    {
     "name": "stdout",
     "output_type": "stream",
     "text": [
      "zoenRzo\n"
     ]
    }
   ],
   "source": [
    "S = input()\n",
    "S1 = \"\"\n",
    "R_list = [i for i, x in enumerate(S) if x == \"R\"]\n",
    "for a in range(len(R_list)-1):\n",
    "    S1 += \n",
    "S1 += S[a+1:]\n",
    "T = S1\n",
    "T1 = []\n",
    "while True:\n",
    "    for t in T:\n",
    "        T1.append(T.replace(t*2, \"\"))\n",
    "    T2 = [len(a) for a in T1]\n",
    "    if T != T1[T2.index(min(T2))]:\n",
    "        T = T1[T2.index(min(T2))]\n",
    "        continue\n",
    "    else:\n",
    "        break\n",
    "print(T)"
   ]
  },
  {
   "cell_type": "code",
   "execution_count": 106,
   "id": "863c7e0c",
   "metadata": {},
   "outputs": [
    {
     "data": {
      "text/plain": [
       "['ab', 'dc', 'ef']"
      ]
     },
     "execution_count": 106,
     "metadata": {},
     "output_type": "execute_result"
    }
   ],
   "source": [
    "S = \"abRcdRef\"\n",
    "l = S.split(\"R\")\n",
    "if len(l)%2 == 0:\n",
    "    for a in range(len(l)):\n",
    "        print(l[a])\n",
    "else:\n",
    "    for a in range(len(l)):\n",
    "        if a % 2 != 0:\n",
    "            l[a] = l[a][::-1]\n"
   ]
  },
  {
   "cell_type": "code",
   "execution_count": 88,
   "id": "2ced367b",
   "metadata": {},
   "outputs": [],
   "source": [
    "S1 = \"\"\n",
    "for a in [i for i, x in enumerate(S) if x == \"R\"]:\n",
    "    S1 += S[:a][::-1]\n",
    "S1 += S[a+1:]"
   ]
  },
  {
   "cell_type": "code",
   "execution_count": 89,
   "id": "2cfc1123",
   "metadata": {},
   "outputs": [
    {
     "data": {
      "text/plain": [
       "'ecapsollehhellospace'"
      ]
     },
     "execution_count": 89,
     "metadata": {},
     "output_type": "execute_result"
    }
   ],
   "source": [
    "S1"
   ]
  },
  {
   "cell_type": "code",
   "execution_count": 76,
   "id": "8319af26",
   "metadata": {},
   "outputs": [
    {
     "data": {
      "text/plain": [
       "[]"
      ]
     },
     "execution_count": 76,
     "metadata": {},
     "output_type": "execute_result"
    }
   ],
   "source": [
    "T1"
   ]
  },
  {
   "cell_type": "code",
   "execution_count": 72,
   "id": "8143a9d4",
   "metadata": {},
   "outputs": [
    {
     "data": {
      "text/plain": [
       "''"
      ]
     },
     "execution_count": 72,
     "metadata": {},
     "output_type": "execute_result"
    }
   ],
   "source": [
    "T"
   ]
  },
  {
   "cell_type": "code",
   "execution_count": 59,
   "id": "d6bcd94a",
   "metadata": {},
   "outputs": [],
   "source": [
    "T2 = [len(a) for a in T1]"
   ]
  },
  {
   "cell_type": "code",
   "execution_count": 62,
   "id": "9d515333",
   "metadata": {},
   "outputs": [
    {
     "data": {
      "text/plain": [
       "'zonooe'"
      ]
     },
     "execution_count": 62,
     "metadata": {},
     "output_type": "execute_result"
    }
   ],
   "source": [
    "T1[T2.index(min(T2))]"
   ]
  },
  {
   "cell_type": "code",
   "execution_count": 41,
   "id": "8300fd9c",
   "metadata": {},
   "outputs": [],
   "source": [
    "buf2 = []\n",
    "for a in [[i for i, x in enumerate(T) if x == a] for a in T]:\n",
    "    if len(a)>1:\n",
    "        for b in range(len(a)-1):\n",
    "            if a[b] == a[b + 1] -1:\n",
    "                buf2.append(a[b])"
   ]
  },
  {
   "cell_type": "code",
   "execution_count": 42,
   "id": "aecabf90",
   "metadata": {},
   "outputs": [
    {
     "data": {
      "text/plain": [
       "[4]"
      ]
     },
     "execution_count": 42,
     "metadata": {},
     "output_type": "execute_result"
    }
   ],
   "source": [
    "for c in list(set(buf2)):\n",
    "    "
   ]
  },
  {
   "cell_type": "code",
   "execution_count": 47,
   "id": "e25fe4e4",
   "metadata": {},
   "outputs": [
    {
     "data": {
      "text/plain": [
       "'zonooe'"
      ]
     },
     "execution_count": 47,
     "metadata": {},
     "output_type": "execute_result"
    }
   ],
   "source": [
    "T.replace('nn', '')"
   ]
  },
  {
   "cell_type": "markdown",
   "id": "9038a429",
   "metadata": {},
   "source": [
    "# "
   ]
  },
  {
   "cell_type": "markdown",
   "id": "7652f24d",
   "metadata": {},
   "source": [
    "# 復習"
   ]
  },
  {
   "cell_type": "markdown",
   "id": "cb85f666",
   "metadata": {},
   "source": [
    "Rがくる毎に反転をしていると、時間がかかってしまうが、「反転して右に追加」を反転させた文字列を左に追加としても問題はない。"
   ]
  },
  {
   "cell_type": "code",
   "execution_count": 12,
   "id": "f3194629",
   "metadata": {},
   "outputs": [
    {
     "name": "stdin",
     "output_type": "stream",
     "text": [
      " ozRnonnoe\n"
     ]
    }
   ],
   "source": [
    "S = input()"
   ]
  },
  {
   "cell_type": "code",
   "execution_count": 34,
   "id": "5d26f487",
   "metadata": {},
   "outputs": [],
   "source": [
    "SR = S.split(\"R\")"
   ]
  },
  {
   "cell_type": "code",
   "execution_count": 35,
   "id": "b8ab3df5",
   "metadata": {},
   "outputs": [
    {
     "name": "stdout",
     "output_type": "stream",
     "text": [
      "oz\n",
      "eonnonoz\n"
     ]
    }
   ],
   "source": [
    "string = \"\"\n",
    "for a in range(len(SR)):\n",
    "    if a%2 == 0:\n",
    "        string += SR[a]\n",
    "    else:\n",
    "        SR[a] = SR[a][::-1]\n",
    "        SR[a] += string\n",
    "        string = SR[a]\n",
    "    print(string)"
   ]
  },
  {
   "cell_type": "code",
   "execution_count": 36,
   "id": "30d28db0",
   "metadata": {},
   "outputs": [],
   "source": [
    "string1 = string[::-1] if len(SR)%2==0 else string"
   ]
  },
  {
   "cell_type": "code",
   "execution_count": 37,
   "id": "4e4036c6",
   "metadata": {},
   "outputs": [
    {
     "data": {
      "text/plain": [
       "'zononnoe'"
      ]
     },
     "execution_count": 37,
     "metadata": {},
     "output_type": "execute_result"
    }
   ],
   "source": [
    "string1"
   ]
  },
  {
   "cell_type": "code",
   "execution_count": 38,
   "id": "0f2d34ce",
   "metadata": {},
   "outputs": [
    {
     "name": "stdout",
     "output_type": "stream",
     "text": [
      "zone\n"
     ]
    }
   ],
   "source": [
    "T = string1\n",
    "T1 = []\n",
    "while True:\n",
    "    for t in T:\n",
    "        T1.append(T.replace(t*2, \"\"))\n",
    "    T2 = [len(a) for a in T1]\n",
    "    if T != T1[T2.index(min(T2))]:\n",
    "        T = T1[T2.index(min(T2))]\n",
    "        continue\n",
    "    else:\n",
    "        break\n",
    "print(T)"
   ]
  },
  {
   "cell_type": "code",
   "execution_count": 1,
   "id": "70965032",
   "metadata": {},
   "outputs": [
    {
     "name": "stdin",
     "output_type": "stream",
     "text": [
      " ozRnonnoe\n"
     ]
    },
    {
     "name": "stdout",
     "output_type": "stream",
     "text": [
      "zone\n"
     ]
    }
   ],
   "source": [
    "S = input()\n",
    "if S==\"\":\n",
    "    print(S)\n",
    "else:\n",
    "    SR = S.split(\"R\")\n",
    "    string = \"\"\n",
    "    for a in range(len(SR)):\n",
    "        if a%2 == 0:\n",
    "            string += SR[a]\n",
    "        else:\n",
    "            SR[a] = SR[a][::-1]\n",
    "            SR[a] += string\n",
    "            string = SR[a]\n",
    "    string1 = string[::-1] if len(SR)%2==0 else string\n",
    "    T = string1\n",
    "    T1 = []\n",
    "    while True:\n",
    "        for t in T:\n",
    "            T1.append(T.replace(t*2, \"\"))\n",
    "        T2 = [len(a) for a in T1]\n",
    "        if T != T1[T2.index(min(T2))]:\n",
    "            T = T1[T2.index(min(T2))]\n",
    "            continue\n",
    "        else:\n",
    "            break\n",
    "    print(T)"
   ]
  },
  {
   "cell_type": "code",
   "execution_count": 3,
   "id": "403a13fa",
   "metadata": {},
   "outputs": [
    {
     "name": "stdin",
     "output_type": "stream",
     "text": [
      " ozRnonnoe\n"
     ]
    },
    {
     "name": "stdout",
     "output_type": "stream",
     "text": [
      "deque(['o'])\n",
      "deque(['o', 'z'])\n",
      "deque(['o', 'z'])\n",
      "deque(['n', 'o', 'z'])\n",
      "deque(['o', 'n', 'o', 'z'])\n",
      "deque(['n', 'o', 'n', 'o', 'z'])\n",
      "deque(['o', 'n', 'o', 'z'])\n",
      "deque(['n', 'o', 'z'])\n",
      "deque(['e', 'n', 'o', 'z'])\n",
      "zone\n"
     ]
    }
   ],
   "source": [
    "from collections import deque\n",
    "s = deque()\n",
    "rev = False\n",
    "for i in input():\n",
    "    if i == 'R':\n",
    "        rev = not rev\n",
    "    elif rev:\n",
    "        if s and s[0] == i:\n",
    "            s.popleft()\n",
    "        else:\n",
    "            s.appendleft(i)\n",
    "    else:\n",
    "        if s and s[-1] == i:\n",
    "            s.pop()\n",
    "        else:\n",
    "            s.append(i)\n",
    "    print(s)\n",
    "if rev:\n",
    "    s = reversed(s)\n",
    "print(\"\".join(s))"
   ]
  },
  {
   "cell_type": "code",
   "execution_count": 25,
   "id": "88cf87b7",
   "metadata": {},
   "outputs": [
    {
     "name": "stdin",
     "output_type": "stream",
     "text": [
      " ozRnonnoe\n"
     ]
    },
    {
     "name": "stdout",
     "output_type": "stream",
     "text": [
      "zone\n"
     ]
    }
   ],
   "source": [
    "from collections import deque\n",
    "rev = False\n",
    "s = deque()\n",
    "for i in input():\n",
    "    if i==\"R\":\n",
    "        rev = not rev\n",
    "    elif rev:\n",
    "        if s and s[0] == i:\n",
    "            s.popleft()\n",
    "        else:\n",
    "            s.appendleft(i)\n",
    "    else:\n",
    "        if s and s[-1] == i:\n",
    "            s.pop()\n",
    "        else:\n",
    "            s.append(i)\n",
    "if rev:\n",
    "    s = reversed(s)\n",
    "print(\"\".join(s))"
   ]
  },
  {
   "cell_type": "code",
   "execution_count": 24,
   "id": "d7272cff",
   "metadata": {},
   "outputs": [
    {
     "data": {
      "text/plain": [
       "['z', 'o', 'n', 'e']"
      ]
     },
     "execution_count": 24,
     "metadata": {},
     "output_type": "execute_result"
    }
   ],
   "source": [
    "[a for a in s]"
   ]
  },
  {
   "cell_type": "code",
   "execution_count": 18,
   "id": "72253237",
   "metadata": {},
   "outputs": [],
   "source": [
    "s.append(1)"
   ]
  },
  {
   "cell_type": "code",
   "execution_count": 22,
   "id": "2b09ed40",
   "metadata": {},
   "outputs": [],
   "source": [
    "if s:\n",
    "    print(\"a\")"
   ]
  },
  {
   "cell_type": "code",
   "execution_count": 21,
   "id": "f3b3cd94",
   "metadata": {},
   "outputs": [
    {
     "data": {
      "text/plain": [
       "1"
      ]
     },
     "execution_count": 21,
     "metadata": {},
     "output_type": "execute_result"
    }
   ],
   "source": [
    "s.pop()"
   ]
  },
  {
   "cell_type": "code",
   "execution_count": null,
   "id": "17c5426d",
   "metadata": {},
   "outputs": [],
   "source": []
  }
 ],
 "metadata": {
  "kernelspec": {
   "display_name": "Python 3",
   "language": "python",
   "name": "python3"
  },
  "language_info": {
   "codemirror_mode": {
    "name": "ipython",
    "version": 3
   },
   "file_extension": ".py",
   "mimetype": "text/x-python",
   "name": "python",
   "nbconvert_exporter": "python",
   "pygments_lexer": "ipython3",
   "version": "3.8.8"
  }
 },
 "nbformat": 4,
 "nbformat_minor": 5
}
