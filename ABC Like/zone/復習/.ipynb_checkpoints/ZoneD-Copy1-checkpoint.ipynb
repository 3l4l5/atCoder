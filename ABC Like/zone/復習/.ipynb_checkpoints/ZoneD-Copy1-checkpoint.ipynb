{
 "cells": [
  {
   "cell_type": "code",
   "execution_count": 70,
   "id": "ebe12211",
   "metadata": {},
   "outputs": [
    {
     "name": "stdin",
     "output_type": "stream",
     "text": [
      " hellospaceRhellospace\n"
     ]
    }
   ],
   "source": [
    "S = input()"
   ]
  },
  {
   "cell_type": "code",
   "execution_count": 71,
   "id": "b426b8d6",
   "metadata": {},
   "outputs": [
    {
     "name": "stdin",
     "output_type": "stream",
     "text": [
      " hellospaceRhellospace\n"
     ]
    }
   ],
   "source": [
    "S = input()\n",
    "T = \"\"\n",
    "for s in S:\n",
    "    if s == \"R\":\n",
    "        T = T[::-1]\n",
    "    if s != \"R\":\n",
    "        T+=(s)\n",
    "T1 = []\n",
    "while True:\n",
    "    for t in T:\n",
    "        T1.append(T.replace(t*2, \"\"))\n",
    "    T2 = [len(a) for a in T1]\n",
    "    if T != T1[T2.index(min(T2))]:\n",
    "        T = T1[T2.index(min(T2))]\n",
    "        continue\n",
    "    else:\n",
    "        break\n",
    "print(T)"
   ]
  },
  {
   "cell_type": "code",
   "execution_count": 95,
   "id": "8c00e771",
   "metadata": {},
   "outputs": [
    {
     "name": "stdin",
     "output_type": "stream",
     "text": [
      " ozRnonnoeRll\n"
     ]
    },
    {
     "name": "stdout",
     "output_type": "stream",
     "text": [
      "zoenRzo\n"
     ]
    }
   ],
   "source": [
    "S = input()\n",
    "S1 = \"\"\n",
    "R_list = [i for i, x in enumerate(S) if x == \"R\"]\n",
    "for a in range(len(R_list)-1):\n",
    "    S1 += \n",
    "S1 += S[a+1:]\n",
    "T = S1\n",
    "T1 = []\n",
    "while True:\n",
    "    for t in T:\n",
    "        T1.append(T.replace(t*2, \"\"))\n",
    "    T2 = [len(a) for a in T1]\n",
    "    if T != T1[T2.index(min(T2))]:\n",
    "        T = T1[T2.index(min(T2))]\n",
    "        continue\n",
    "    else:\n",
    "        break\n",
    "print(T)"
   ]
  },
  {
   "cell_type": "code",
   "execution_count": 106,
   "id": "71eddc9d",
   "metadata": {},
   "outputs": [
    {
     "data": {
      "text/plain": [
       "['ab', 'dc', 'ef']"
      ]
     },
     "execution_count": 106,
     "metadata": {},
     "output_type": "execute_result"
    }
   ],
   "source": [
    "S = \"abRcdRef\"\n",
    "l = S.split(\"R\")\n",
    "if len(l)%2 == 0:\n",
    "    for a in range(len(l)):\n",
    "        print(l[a])\n",
    "else:\n",
    "    for a in range(len(l)):\n",
    "        if a % 2 != 0:\n",
    "            l[a] = l[a][::-1]\n"
   ]
  },
  {
   "cell_type": "code",
   "execution_count": 88,
   "id": "d850d437",
   "metadata": {},
   "outputs": [],
   "source": [
    "S1 = \"\"\n",
    "for a in [i for i, x in enumerate(S) if x == \"R\"]:\n",
    "    S1 += S[:a][::-1]\n",
    "S1 += S[a+1:]"
   ]
  },
  {
   "cell_type": "code",
   "execution_count": 89,
   "id": "687f2a7f",
   "metadata": {},
   "outputs": [
    {
     "data": {
      "text/plain": [
       "'ecapsollehhellospace'"
      ]
     },
     "execution_count": 89,
     "metadata": {},
     "output_type": "execute_result"
    }
   ],
   "source": [
    "S1"
   ]
  },
  {
   "cell_type": "code",
   "execution_count": 76,
   "id": "ba4a245c",
   "metadata": {},
   "outputs": [
    {
     "data": {
      "text/plain": [
       "[]"
      ]
     },
     "execution_count": 76,
     "metadata": {},
     "output_type": "execute_result"
    }
   ],
   "source": [
    "T1"
   ]
  },
  {
   "cell_type": "code",
   "execution_count": 72,
   "id": "8441ebca",
   "metadata": {},
   "outputs": [
    {
     "data": {
      "text/plain": [
       "''"
      ]
     },
     "execution_count": 72,
     "metadata": {},
     "output_type": "execute_result"
    }
   ],
   "source": [
    "T"
   ]
  },
  {
   "cell_type": "code",
   "execution_count": 59,
   "id": "82a10acc",
   "metadata": {},
   "outputs": [],
   "source": [
    "T2 = [len(a) for a in T1]"
   ]
  },
  {
   "cell_type": "code",
   "execution_count": 62,
   "id": "fbdf8950",
   "metadata": {},
   "outputs": [
    {
     "data": {
      "text/plain": [
       "'zonooe'"
      ]
     },
     "execution_count": 62,
     "metadata": {},
     "output_type": "execute_result"
    }
   ],
   "source": [
    "T1[T2.index(min(T2))]"
   ]
  },
  {
   "cell_type": "code",
   "execution_count": 41,
   "id": "94b67c30",
   "metadata": {},
   "outputs": [],
   "source": [
    "buf2 = []\n",
    "for a in [[i for i, x in enumerate(T) if x == a] for a in T]:\n",
    "    if len(a)>1:\n",
    "        for b in range(len(a)-1):\n",
    "            if a[b] == a[b + 1] -1:\n",
    "                buf2.append(a[b])"
   ]
  },
  {
   "cell_type": "code",
   "execution_count": 42,
   "id": "13da8e26",
   "metadata": {},
   "outputs": [
    {
     "data": {
      "text/plain": [
       "[4]"
      ]
     },
     "execution_count": 42,
     "metadata": {},
     "output_type": "execute_result"
    }
   ],
   "source": [
    "for c in list(set(buf2)):\n",
    "    "
   ]
  },
  {
   "cell_type": "code",
   "execution_count": 47,
   "id": "cceb1cb3",
   "metadata": {},
   "outputs": [
    {
     "data": {
      "text/plain": [
       "'zonooe'"
      ]
     },
     "execution_count": 47,
     "metadata": {},
     "output_type": "execute_result"
    }
   ],
   "source": [
    "T.replace('nn', '')"
   ]
  },
  {
   "cell_type": "markdown",
   "id": "14ce5cb0",
   "metadata": {},
   "source": [
    "# "
   ]
  },
  {
   "cell_type": "markdown",
   "id": "a32cd5cd",
   "metadata": {},
   "source": [
    "# 復習"
   ]
  },
  {
   "cell_type": "markdown",
   "id": "8038eef6",
   "metadata": {},
   "source": [
    "Rがくる毎に反転をしていると、時間がかかってしまうが、「反転して右に追加」を反転させた文字列を左に追加としても問題はない。"
   ]
  },
  {
   "cell_type": "code",
   "execution_count": 12,
   "id": "d45b757f",
   "metadata": {},
   "outputs": [
    {
     "name": "stdin",
     "output_type": "stream",
     "text": [
      " ozRnonnoe\n"
     ]
    }
   ],
   "source": [
    "S = input()"
   ]
  },
  {
   "cell_type": "code",
   "execution_count": 34,
   "id": "cc5037a9",
   "metadata": {},
   "outputs": [],
   "source": [
    "SR = S.split(\"R\")"
   ]
  },
  {
   "cell_type": "code",
   "execution_count": 35,
   "id": "011b82fd",
   "metadata": {},
   "outputs": [
    {
     "name": "stdout",
     "output_type": "stream",
     "text": [
      "oz\n",
      "eonnonoz\n"
     ]
    }
   ],
   "source": [
    "string = \"\"\n",
    "for a in range(len(SR)):\n",
    "    if a%2 == 0:\n",
    "        string += SR[a]\n",
    "    else:\n",
    "        SR[a] = SR[a][::-1]\n",
    "        SR[a] += string\n",
    "        string = SR[a]\n",
    "    print(string)"
   ]
  },
  {
   "cell_type": "code",
   "execution_count": 36,
   "id": "d9e108c6",
   "metadata": {},
   "outputs": [],
   "source": [
    "string1 = string[::-1] if len(SR)%2==0 else string"
   ]
  },
  {
   "cell_type": "code",
   "execution_count": 37,
   "id": "b1a6a3f6",
   "metadata": {},
   "outputs": [
    {
     "data": {
      "text/plain": [
       "'zononnoe'"
      ]
     },
     "execution_count": 37,
     "metadata": {},
     "output_type": "execute_result"
    }
   ],
   "source": [
    "string1"
   ]
  },
  {
   "cell_type": "code",
   "execution_count": 38,
   "id": "a42a988d",
   "metadata": {},
   "outputs": [
    {
     "name": "stdout",
     "output_type": "stream",
     "text": [
      "zone\n"
     ]
    }
   ],
   "source": [
    "T = string1\n",
    "T1 = []\n",
    "while True:\n",
    "    for t in T:\n",
    "        T1.append(T.replace(t*2, \"\"))\n",
    "    T2 = [len(a) for a in T1]\n",
    "    if T != T1[T2.index(min(T2))]:\n",
    "        T = T1[T2.index(min(T2))]\n",
    "        continue\n",
    "    else:\n",
    "        break\n",
    "print(T)"
   ]
  },
  {
   "cell_type": "code",
   "execution_count": 4,
   "id": "580ad7ed",
   "metadata": {},
   "outputs": [
    {
     "name": "stdin",
     "output_type": "stream",
     "text": [
      " \n"
     ]
    },
    {
     "ename": "ValueError",
     "evalue": "min() arg is an empty sequence",
     "output_type": "error",
     "traceback": [
      "\u001b[0;31m-------------------------------------------------------------------\u001b[0m",
      "\u001b[0;31mValueError\u001b[0m                        Traceback (most recent call last)",
      "\u001b[0;32m<ipython-input-4-6e7883e7d59f>\u001b[0m in \u001b[0;36m<module>\u001b[0;34m\u001b[0m\n\u001b[1;32m     16\u001b[0m         \u001b[0mT1\u001b[0m\u001b[0;34m.\u001b[0m\u001b[0mappend\u001b[0m\u001b[0;34m(\u001b[0m\u001b[0mT\u001b[0m\u001b[0;34m.\u001b[0m\u001b[0mreplace\u001b[0m\u001b[0;34m(\u001b[0m\u001b[0mt\u001b[0m\u001b[0;34m*\u001b[0m\u001b[0;36m2\u001b[0m\u001b[0;34m,\u001b[0m \u001b[0;34m\"\"\u001b[0m\u001b[0;34m)\u001b[0m\u001b[0;34m)\u001b[0m\u001b[0;34m\u001b[0m\u001b[0;34m\u001b[0m\u001b[0m\n\u001b[1;32m     17\u001b[0m     \u001b[0mT2\u001b[0m \u001b[0;34m=\u001b[0m \u001b[0;34m[\u001b[0m\u001b[0mlen\u001b[0m\u001b[0;34m(\u001b[0m\u001b[0ma\u001b[0m\u001b[0;34m)\u001b[0m \u001b[0;32mfor\u001b[0m \u001b[0ma\u001b[0m \u001b[0;32min\u001b[0m \u001b[0mT1\u001b[0m\u001b[0;34m]\u001b[0m\u001b[0;34m\u001b[0m\u001b[0;34m\u001b[0m\u001b[0m\n\u001b[0;32m---> 18\u001b[0;31m     \u001b[0;32mif\u001b[0m \u001b[0mT\u001b[0m \u001b[0;34m!=\u001b[0m \u001b[0mT1\u001b[0m\u001b[0;34m[\u001b[0m\u001b[0mT2\u001b[0m\u001b[0;34m.\u001b[0m\u001b[0mindex\u001b[0m\u001b[0;34m(\u001b[0m\u001b[0mmin\u001b[0m\u001b[0;34m(\u001b[0m\u001b[0mT2\u001b[0m\u001b[0;34m)\u001b[0m\u001b[0;34m)\u001b[0m\u001b[0;34m]\u001b[0m\u001b[0;34m:\u001b[0m\u001b[0;34m\u001b[0m\u001b[0;34m\u001b[0m\u001b[0m\n\u001b[0m\u001b[1;32m     19\u001b[0m         \u001b[0mT\u001b[0m \u001b[0;34m=\u001b[0m \u001b[0mT1\u001b[0m\u001b[0;34m[\u001b[0m\u001b[0mT2\u001b[0m\u001b[0;34m.\u001b[0m\u001b[0mindex\u001b[0m\u001b[0;34m(\u001b[0m\u001b[0mmin\u001b[0m\u001b[0;34m(\u001b[0m\u001b[0mT2\u001b[0m\u001b[0;34m)\u001b[0m\u001b[0;34m)\u001b[0m\u001b[0;34m]\u001b[0m\u001b[0;34m\u001b[0m\u001b[0;34m\u001b[0m\u001b[0m\n\u001b[1;32m     20\u001b[0m         \u001b[0;32mcontinue\u001b[0m\u001b[0;34m\u001b[0m\u001b[0;34m\u001b[0m\u001b[0m\n",
      "\u001b[0;31mValueError\u001b[0m: min() arg is an empty sequence"
     ]
    }
   ],
   "source": [
    "S = input()\n",
    "if S==\"\":\n",
    "    print(S)\n",
    "else:\n",
    "    SR = S.split(\"R\")\n",
    "    string = \"\"\n",
    "    for a in range(len(SR)):\n",
    "        if a%2 == 0:\n",
    "            string += SR[a]\n",
    "        else:\n",
    "            SR[a] = SR[a][::-1]\n",
    "            SR[a] += string\n",
    "            string = SR[a]\n",
    "    string1 = string[::-1] if len(SR)%2==0 else string\n",
    "    T = string1\n",
    "    T1 = []\n",
    "    while True:\n",
    "        for t in T:\n",
    "            T1.append(T.replace(t*2, \"\"))\n",
    "        T2 = [len(a) for a in T1]\n",
    "        if T != T1[T2.index(min(T2))]:\n",
    "            T = T1[T2.index(min(T2))]\n",
    "            continue\n",
    "        else:\n",
    "            break\n",
    "    print(T)"
   ]
  },
  {
   "cell_type": "code",
   "execution_count": null,
   "id": "8e31f88c",
   "metadata": {},
   "outputs": [],
   "source": []
  }
 ],
 "metadata": {
  "kernelspec": {
   "display_name": "Python 3",
   "language": "python",
   "name": "python3"
  },
  "language_info": {
   "codemirror_mode": {
    "name": "ipython",
    "version": 3
   },
   "file_extension": ".py",
   "mimetype": "text/x-python",
   "name": "python",
   "nbconvert_exporter": "python",
   "pygments_lexer": "ipython3",
   "version": "3.8.8"
  }
 },
 "nbformat": 4,
 "nbformat_minor": 5
}
