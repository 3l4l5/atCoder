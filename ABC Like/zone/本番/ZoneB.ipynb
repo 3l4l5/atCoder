{
 "cells": [
  {
   "cell_type": "code",
   "execution_count": 26,
   "id": "4c3514a8",
   "metadata": {},
   "outputs": [
    {
     "name": "stdin",
     "output_type": "stream",
     "text": [
      " 5 896 483\n",
      " 228 59\n",
      " 529 310\n",
      " 339 60\n",
      " 78 266\n",
      " 659 391\n"
     ]
    },
    {
     "name": "stdout",
     "output_type": "stream",
     "text": [
      "245.30806845965773\n"
     ]
    }
   ],
   "source": [
    "N, D, H = [int(a) for a in input().split(\" \")]\n",
    "dh = []\n",
    "for a in range(N):\n",
    "    dh.append([int(a) for a in input().split(\" \")])\n",
    "buf1 = []\n",
    "for dh_ in dh:\n",
    "    buf1.append((dh_[1] - H) / (D - dh_[0]))\n",
    "H1 = H + max(buf1)*D\n",
    "print(H1 if H1 > 0 else 0)"
   ]
  },
  {
   "cell_type": "code",
   "execution_count": 25,
   "id": "f9b66374",
   "metadata": {},
   "outputs": [
    {
     "name": "stdout",
     "output_type": "stream",
     "text": [
      "245.30806845965773\n"
     ]
    }
   ],
   "source": [
    "buf1 = []\n",
    "for dh_ in dh:\n",
    "    buf1.append((dh_[1] - H) / (D - dh_[0]))\n",
    "print(H + max(buf1)*D)"
   ]
  },
  {
   "cell_type": "code",
   "execution_count": null,
   "id": "02c316ea",
   "metadata": {},
   "outputs": [],
   "source": [
    "5 896 483\n",
    "228 59\n",
    "529 310\n",
    "339 60\n",
    "78 266\n",
    "659 391\n"
   ]
  },
  {
   "cell_type": "code",
   "execution_count": 21,
   "id": "e3f7d741",
   "metadata": {},
   "outputs": [
    {
     "data": {
      "text/plain": [
       "[78, 266]"
      ]
     },
     "execution_count": 21,
     "metadata": {},
     "output_type": "execute_result"
    }
   ],
   "source": [
    "dh[buf1.index(max(buf1))]"
   ]
  },
  {
   "cell_type": "code",
   "execution_count": 22,
   "id": "a15e49a2",
   "metadata": {},
   "outputs": [
    {
     "data": {
      "text/plain": [
       "245.30806845965773"
      ]
     },
     "execution_count": 22,
     "metadata": {},
     "output_type": "execute_result"
    }
   ],
   "source": [
    "H + max(buf1)*D"
   ]
  },
  {
   "cell_type": "code",
   "execution_count": 23,
   "id": "e09f3a3f",
   "metadata": {},
   "outputs": [
    {
     "data": {
      "text/plain": [
       "-237.69193154034227"
      ]
     },
     "execution_count": 23,
     "metadata": {},
     "output_type": "execute_result"
    }
   ],
   "source": [
    "max(buf1)*D"
   ]
  },
  {
   "cell_type": "code",
   "execution_count": 27,
   "id": "20973824",
   "metadata": {},
   "outputs": [
    {
     "data": {
      "text/plain": [
       "4492502000.0"
      ]
     },
     "execution_count": 27,
     "metadata": {},
     "output_type": "execute_result"
    }
   ],
   "source": [
    "3000*2999*2996/6"
   ]
  },
  {
   "cell_type": "code",
   "execution_count": null,
   "id": "327dc231",
   "metadata": {},
   "outputs": [],
   "source": []
  }
 ],
 "metadata": {
  "kernelspec": {
   "display_name": "Python 3",
   "language": "python",
   "name": "python3"
  },
  "language_info": {
   "codemirror_mode": {
    "name": "ipython",
    "version": 3
   },
   "file_extension": ".py",
   "mimetype": "text/x-python",
   "name": "python",
   "nbconvert_exporter": "python",
   "pygments_lexer": "ipython3",
   "version": "3.8.8"
  }
 },
 "nbformat": 4,
 "nbformat_minor": 5
}
