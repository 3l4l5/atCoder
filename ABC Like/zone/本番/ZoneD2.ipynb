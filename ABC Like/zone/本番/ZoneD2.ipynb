{
 "cells": [
  {
   "cell_type": "code",
   "execution_count": null,
   "id": "39c09596",
   "metadata": {},
   "outputs": [],
   "source": [
    "ZONe"
   ]
  },
  {
   "cell_type": "code",
   "execution_count": 7,
   "id": "a8f6a41b",
   "metadata": {},
   "outputs": [
    {
     "name": "stdin",
     "output_type": "stream",
     "text": [
      " ZONeZONeZONe\n"
     ]
    },
    {
     "name": "stdout",
     "output_type": "stream",
     "text": [
      "ZONe\n",
      "ONeZ\n",
      "NeZO\n",
      "eZON\n",
      "ZONe\n",
      "ONeZ\n",
      "NeZO\n",
      "eZON\n",
      "ZONe\n",
      "3\n"
     ]
    }
   ],
   "source": [
    "s = input()\n",
    "pat = \"ZONe\"\n",
    "count = 0\n",
    "for a in range(len(s)-3):\n",
    "    if s[a]+s[a+1]+s[a+2]+s[a+3] == pat: count+=1\n",
    "print(count)\n"
   ]
  },
  {
   "cell_type": "code",
   "execution_count": 4,
   "id": "0524ca8e",
   "metadata": {},
   "outputs": [
    {
     "name": "stdout",
     "output_type": "stream",
     "text": [
      "4\n",
      "5\n",
      "6\n",
      "7\n",
      "8\n",
      "9\n"
     ]
    }
   ],
   "source": [
    "s = \"123456789\"\n",
    "for a in range(len(s)-3):\n",
    "    print(s[a+3])"
   ]
  },
  {
   "cell_type": "code",
   "execution_count": null,
   "id": "f755ba7e",
   "metadata": {},
   "outputs": [],
   "source": []
  }
 ],
 "metadata": {
  "kernelspec": {
   "display_name": "Python 3",
   "language": "python",
   "name": "python3"
  },
  "language_info": {
   "codemirror_mode": {
    "name": "ipython",
    "version": 3
   },
   "file_extension": ".py",
   "mimetype": "text/x-python",
   "name": "python",
   "nbconvert_exporter": "python",
   "pygments_lexer": "ipython3",
   "version": "3.8.8"
  }
 },
 "nbformat": 4,
 "nbformat_minor": 5
}
