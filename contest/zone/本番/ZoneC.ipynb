{
 "cells": [
  {
   "cell_type": "code",
   "execution_count": 1,
   "id": "b9d8eda5",
   "metadata": {},
   "outputs": [
    {
     "name": "stdin",
     "output_type": "stream",
     "text": [
      " 3\n",
      " 3 9 6 4 6\n",
      " 6 9 3 1 1\n",
      " 8 8 9 3 7\n"
     ]
    }
   ],
   "source": [
    "N = int(input())\n",
    "ABCDE = []\n",
    "for a in range(N):\n",
    "    ABCDE.append([int(b) for b in input().split(\" \")])"
   ]
  },
  {
   "cell_type": "code",
   "execution_count": 2,
   "id": "29a99e95",
   "metadata": {},
   "outputs": [
    {
     "data": {
      "text/plain": [
       "[[3, 9, 6, 4, 6], [6, 9, 3, 1, 1], [8, 8, 9, 3, 7]]"
      ]
     },
     "execution_count": 2,
     "metadata": {},
     "output_type": "execute_result"
    }
   ],
   "source": [
    "ABCDE"
   ]
  },
  {
   "cell_type": "code",
   "execution_count": null,
   "id": "fb391316",
   "metadata": {},
   "outputs": [],
   "source": []
  }
 ],
 "metadata": {
  "kernelspec": {
   "display_name": "Python 3",
   "language": "python",
   "name": "python3"
  },
  "language_info": {
   "codemirror_mode": {
    "name": "ipython",
    "version": 3
   },
   "file_extension": ".py",
   "mimetype": "text/x-python",
   "name": "python",
   "nbconvert_exporter": "python",
   "pygments_lexer": "ipython3",
   "version": "3.8.8"
  }
 },
 "nbformat": 4,
 "nbformat_minor": 5
}
