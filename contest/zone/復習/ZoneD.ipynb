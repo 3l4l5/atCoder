{
 "cells": [
  {
   "cell_type": "code",
   "execution_count": 70,
   "id": "1fdacd50",
   "metadata": {},
   "outputs": [
    {
     "name": "stdin",
     "output_type": "stream",
     "text": [
      " hellospaceRhellospace\n"
     ]
    }
   ],
   "source": [
    "S = input()"
   ]
  },
  {
   "cell_type": "code",
   "execution_count": 71,
   "id": "b4e1bdfa",
   "metadata": {},
   "outputs": [
    {
     "name": "stdin",
     "output_type": "stream",
     "text": [
      " hellospaceRhellospace\n"
     ]
    }
   ],
   "source": [
    "S = input()\n",
    "T = \"\"\n",
    "for s in S:\n",
    "    if s == \"R\":\n",
    "        T = T[::-1]\n",
    "    if s != \"R\":\n",
    "        T+=(s)\n",
    "T1 = []\n",
    "while True:\n",
    "    for t in T:\n",
    "        T1.append(T.replace(t*2, \"\"))\n",
    "    T2 = [len(a) for a in T1]\n",
    "    if T != T1[T2.index(min(T2))]:\n",
    "        T = T1[T2.index(min(T2))]\n",
    "        continue\n",
    "    else:\n",
    "        break\n",
    "print(T)"
   ]
  },
  {
   "cell_type": "code",
   "execution_count": 95,
   "id": "ff9adee1",
   "metadata": {},
   "outputs": [
    {
     "name": "stdin",
     "output_type": "stream",
     "text": [
      " ozRnonnoeRll\n"
     ]
    },
    {
     "name": "stdout",
     "output_type": "stream",
     "text": [
      "zoenRzo\n"
     ]
    }
   ],
   "source": [
    "S = input()\n",
    "S1 = \"\"\n",
    "R_list = [i for i, x in enumerate(S) if x == \"R\"]\n",
    "for a in range(len(R_list)-1):\n",
    "    S1 += \n",
    "S1 += S[a+1:]\n",
    "T = S1\n",
    "T1 = []\n",
    "while True:\n",
    "    for t in T:\n",
    "        T1.append(T.replace(t*2, \"\"))\n",
    "    T2 = [len(a) for a in T1]\n",
    "    if T != T1[T2.index(min(T2))]:\n",
    "        T = T1[T2.index(min(T2))]\n",
    "        continue\n",
    "    else:\n",
    "        break\n",
    "print(T)"
   ]
  },
  {
   "cell_type": "code",
   "execution_count": 106,
   "id": "29fe42ff",
   "metadata": {},
   "outputs": [
    {
     "data": {
      "text/plain": [
       "['ab', 'dc', 'ef']"
      ]
     },
     "execution_count": 106,
     "metadata": {},
     "output_type": "execute_result"
    }
   ],
   "source": [
    "S = \"abRcdRef\"\n",
    "l = S.split(\"R\")\n",
    "if len(l)%2 == 0:\n",
    "    for a in range(len(l)):\n",
    "        print(l[a])\n",
    "else:\n",
    "    for a in range(len(l)):\n",
    "        if a % 2 != 0:\n",
    "            l[a] = l[a][::-1]\n"
   ]
  },
  {
   "cell_type": "code",
   "execution_count": 88,
   "id": "d7c819a9",
   "metadata": {},
   "outputs": [],
   "source": [
    "S1 = \"\"\n",
    "for a in [i for i, x in enumerate(S) if x == \"R\"]:\n",
    "    S1 += S[:a][::-1]\n",
    "S1 += S[a+1:]"
   ]
  },
  {
   "cell_type": "code",
   "execution_count": 89,
   "id": "90baf0b2",
   "metadata": {},
   "outputs": [
    {
     "data": {
      "text/plain": [
       "'ecapsollehhellospace'"
      ]
     },
     "execution_count": 89,
     "metadata": {},
     "output_type": "execute_result"
    }
   ],
   "source": [
    "S1"
   ]
  },
  {
   "cell_type": "code",
   "execution_count": 76,
   "id": "edf3df30",
   "metadata": {},
   "outputs": [
    {
     "data": {
      "text/plain": [
       "[]"
      ]
     },
     "execution_count": 76,
     "metadata": {},
     "output_type": "execute_result"
    }
   ],
   "source": [
    "T1"
   ]
  },
  {
   "cell_type": "code",
   "execution_count": 72,
   "id": "a5a4d1bc",
   "metadata": {},
   "outputs": [
    {
     "data": {
      "text/plain": [
       "''"
      ]
     },
     "execution_count": 72,
     "metadata": {},
     "output_type": "execute_result"
    }
   ],
   "source": [
    "T"
   ]
  },
  {
   "cell_type": "code",
   "execution_count": 59,
   "id": "c274f2f6",
   "metadata": {},
   "outputs": [],
   "source": [
    "T2 = [len(a) for a in T1]"
   ]
  },
  {
   "cell_type": "code",
   "execution_count": 62,
   "id": "22641261",
   "metadata": {},
   "outputs": [
    {
     "data": {
      "text/plain": [
       "'zonooe'"
      ]
     },
     "execution_count": 62,
     "metadata": {},
     "output_type": "execute_result"
    }
   ],
   "source": [
    "T1[T2.index(min(T2))]"
   ]
  },
  {
   "cell_type": "code",
   "execution_count": 41,
   "id": "3dc02523",
   "metadata": {},
   "outputs": [],
   "source": [
    "buf2 = []\n",
    "for a in [[i for i, x in enumerate(T) if x == a] for a in T]:\n",
    "    if len(a)>1:\n",
    "        for b in range(len(a)-1):\n",
    "            if a[b] == a[b + 1] -1:\n",
    "                buf2.append(a[b])"
   ]
  },
  {
   "cell_type": "code",
   "execution_count": 42,
   "id": "79009374",
   "metadata": {},
   "outputs": [
    {
     "data": {
      "text/plain": [
       "[4]"
      ]
     },
     "execution_count": 42,
     "metadata": {},
     "output_type": "execute_result"
    }
   ],
   "source": [
    "for c in list(set(buf2)):\n",
    "    "
   ]
  },
  {
   "cell_type": "code",
   "execution_count": 47,
   "id": "ea420a23",
   "metadata": {},
   "outputs": [
    {
     "data": {
      "text/plain": [
       "'zonooe'"
      ]
     },
     "execution_count": 47,
     "metadata": {},
     "output_type": "execute_result"
    }
   ],
   "source": [
    "T.replace('nn', '')"
   ]
  },
  {
   "cell_type": "markdown",
   "id": "48d92cb3",
   "metadata": {},
   "source": [
    "# "
   ]
  },
  {
   "cell_type": "code",
   "execution_count": null,
   "id": "3bb51b37",
   "metadata": {},
   "outputs": [],
   "source": []
  }
 ],
 "metadata": {
  "kernelspec": {
   "display_name": "Python 3",
   "language": "python",
   "name": "python3"
  },
  "language_info": {
   "codemirror_mode": {
    "name": "ipython",
    "version": 3
   },
   "file_extension": ".py",
   "mimetype": "text/x-python",
   "name": "python",
   "nbconvert_exporter": "python",
   "pygments_lexer": "ipython3",
   "version": "3.8.8"
  }
 },
 "nbformat": 4,
 "nbformat_minor": 5
}
