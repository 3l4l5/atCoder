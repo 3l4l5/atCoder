{
 "cells": [
  {
   "cell_type": "code",
   "execution_count": 1,
   "id": "9807a002",
   "metadata": {},
   "outputs": [
    {
     "name": "stdin",
     "output_type": "stream",
     "text": [
      " 6\n",
      " 0 153 10 10 23\n"
     ]
    }
   ],
   "source": [
    "N = int(input())\n",
    "B = [int(a) for a in input().split()]"
   ]
  },
  {
   "cell_type": "code",
   "execution_count": 14,
   "id": "3ef0c733",
   "metadata": {},
   "outputs": [],
   "source": [
    "N = int(input())\n",
    "B = [int(a) for a in input().split()]\n",
    "A = []\n",
    "A.append(B[0])\n",
    "for b in range(N-2):\n",
    "    A.append(min(B[b], B[b+1]))\n",
    "A.append(B[-1])\n",
    "print(sum(A))"
   ]
  },
  {
   "cell_type": "code",
   "execution_count": 16,
   "id": "4de838c6",
   "metadata": {},
   "outputs": [
    {
     "data": {
      "text/plain": [
       "53"
      ]
     },
     "execution_count": 16,
     "metadata": {},
     "output_type": "execute_result"
    }
   ],
   "source": [
    "print(sum(A))"
   ]
  },
  {
   "cell_type": "code",
   "execution_count": null,
   "id": "ccbb6850",
   "metadata": {},
   "outputs": [],
   "source": []
  }
 ],
 "metadata": {
  "kernelspec": {
   "display_name": "Python 3",
   "language": "python",
   "name": "python3"
  },
  "language_info": {
   "codemirror_mode": {
    "name": "ipython",
    "version": 3
   },
   "file_extension": ".py",
   "mimetype": "text/x-python",
   "name": "python",
   "nbconvert_exporter": "python",
   "pygments_lexer": "ipython3",
   "version": "3.8.8"
  }
 },
 "nbformat": 4,
 "nbformat_minor": 5
}
