{
 "cells": [
  {
   "cell_type": "markdown",
   "id": "6270340a",
   "metadata": {},
   "source": [
    "# B - Remove It"
   ]
  },
  {
   "cell_type": "code",
   "execution_count": 5,
   "id": "9cd3f1d0",
   "metadata": {},
   "outputs": [
    {
     "name": "stdin",
     "output_type": "stream",
     "text": [
      " 5 5\n",
      " 3 5 6 5 4\n"
     ]
    }
   ],
   "source": [
    "N, X = [int(a) for a in input().split(\" \")]\n",
    "A = [int(a) for a in input().split(\" \")]"
   ]
  },
  {
   "cell_type": "code",
   "execution_count": 6,
   "id": "c64d6456",
   "metadata": {},
   "outputs": [
    {
     "data": {
      "text/plain": [
       "[3, 5, 6, 5, 4]"
      ]
     },
     "execution_count": 6,
     "metadata": {},
     "output_type": "execute_result"
    }
   ],
   "source": [
    "A"
   ]
  },
  {
   "cell_type": "code",
   "execution_count": 9,
   "id": "78dc3823",
   "metadata": {},
   "outputs": [],
   "source": [
    "droped = []\n",
    "for a in A:\n",
    "    if a != N:\n",
    "        droped.append(a)"
   ]
  },
  {
   "cell_type": "code",
   "execution_count": 12,
   "id": "45db6a79",
   "metadata": {},
   "outputs": [
    {
     "name": "stdout",
     "output_type": "stream",
     "text": [
      "3 6 4 "
     ]
    }
   ],
   "source": [
    "for i in droped:\n",
    "    print(i, end=\" \")"
   ]
  },
  {
   "cell_type": "code",
   "execution_count": 14,
   "id": "33a62adc",
   "metadata": {},
   "outputs": [
    {
     "name": "stdin",
     "output_type": "stream",
     "text": [
      " 5 5\n",
      " 3 5 6 5 4\n"
     ]
    },
    {
     "name": "stdout",
     "output_type": "stream",
     "text": [
      "3 6 4 "
     ]
    }
   ],
   "source": [
    "N, X = [int(a) for a in input().split(\" \")]\n",
    "A = [int(a) for a in input().split(\" \")]\n",
    "droped = []\n",
    "for a in A:\n",
    "    if a != X:\n",
    "        droped.append(a)\n",
    "for i in droped:\n",
    "    print(i, end=\" \")"
   ]
  },
  {
   "cell_type": "code",
   "execution_count": null,
   "id": "5ac13b61",
   "metadata": {},
   "outputs": [],
   "source": []
  }
 ],
 "metadata": {
  "kernelspec": {
   "display_name": "Python 3",
   "language": "python",
   "name": "python3"
  },
  "language_info": {
   "codemirror_mode": {
    "name": "ipython",
    "version": 3
   },
   "file_extension": ".py",
   "mimetype": "text/x-python",
   "name": "python",
   "nbconvert_exporter": "python",
   "pygments_lexer": "ipython3",
   "version": "3.8.8"
  }
 },
 "nbformat": 4,
 "nbformat_minor": 5
}
