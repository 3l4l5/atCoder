{
 "cells": [
  {
   "cell_type": "code",
   "execution_count": 30,
   "id": "5757d65d",
   "metadata": {},
   "outputs": [
    {
     "name": "stdin",
     "output_type": "stream",
     "text": [
      " 33\n"
     ]
    }
   ],
   "source": [
    "N = int(input())"
   ]
  },
  {
   "cell_type": "code",
   "execution_count": 31,
   "id": "ae6d2f70",
   "metadata": {},
   "outputs": [
    {
     "name": "stdin",
     "output_type": "stream",
     "text": [
      " 33\n"
     ]
    },
    {
     "name": "stdout",
     "output_type": "stream",
     "text": [
      "11\n",
      "22\n",
      "33\n",
      "44\n",
      "3\n"
     ]
    }
   ],
   "source": [
    "N = int(input())\n",
    "count = 1\n",
    "num = 0\n",
    "num_ = 0\n",
    "while num_ <= N:\n",
    "    num_ = int(str(count)*2)\n",
    "    count += 1\n",
    "print(count - 2)"
   ]
  },
  {
   "cell_type": "code",
   "execution_count": 29,
   "id": "7027b57f",
   "metadata": {},
   "outputs": [
    {
     "data": {
      "text/plain": [
       "3"
      ]
     },
     "execution_count": 29,
     "metadata": {},
     "output_type": "execute_result"
    }
   ],
   "source": [
    "count - 2"
   ]
  },
  {
   "cell_type": "code",
   "execution_count": null,
   "id": "17aecec8",
   "metadata": {},
   "outputs": [],
   "source": []
  }
 ],
 "metadata": {
  "kernelspec": {
   "display_name": "Python 3",
   "language": "python",
   "name": "python3"
  },
  "language_info": {
   "codemirror_mode": {
    "name": "ipython",
    "version": 3
   },
   "file_extension": ".py",
   "mimetype": "text/x-python",
   "name": "python",
   "nbconvert_exporter": "python",
   "pygments_lexer": "ipython3",
   "version": "3.8.8"
  }
 },
 "nbformat": 4,
 "nbformat_minor": 5
}
