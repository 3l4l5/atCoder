{
 "cells": [
  {
   "cell_type": "markdown",
   "id": "4e0b4585",
   "metadata": {},
   "source": [
    "# C-IPFL"
   ]
  },
  {
   "cell_type": "code",
   "execution_count": 5,
   "id": "b3254311",
   "metadata": {},
   "outputs": [
    {
     "name": "stdin",
     "output_type": "stream",
     "text": [
      " 2\n",
      " FLIP\n",
      " 2\n",
      " 2 0 0\n",
      " 1 1 4\n"
     ]
    }
   ],
   "source": [
    "N = int(input())\n",
    "S = [a for a in input()]\n",
    "Q = int(input())\n",
    "TAB = []\n",
    "for a in [0]*Q:\n",
    "    TAB.append(input().split(\" \"))"
   ]
  },
  {
   "cell_type": "code",
   "execution_count": 37,
   "id": "917de71e",
   "metadata": {},
   "outputs": [
    {
     "name": "stdout",
     "output_type": "stream",
     "text": [
      "flip\n",
      "change\n"
     ]
    }
   ],
   "source": [
    "N = int(input())\n",
    "S = [a for a in input()]\n",
    "Q = int(input())\n",
    "TAB = []\n",
    "for a in [0]*Q:\n",
    "    TAB.append(input().split(\" \"))\n",
    "buffer = \"\"\n",
    "list_len = len(S)//2\n",
    "for a in range(Q):\n",
    "    if TAB[a][0]==\"1\":\n",
    "        buffer = S[int(TAB[a][1])-1]\n",
    "        S[int(TAB[a][1])-1] = S[int(TAB[a][2])-1]\n",
    "        S[int(TAB[a][2])-1] = buffer\n",
    "    else:\n",
    "        buffer = S[list_len:]\n",
    "        S = buffer + S[:list_len]\n",
    "print(\"\".join(S))"
   ]
  },
  {
   "cell_type": "code",
   "execution_count": 39,
   "id": "8bd3542b",
   "metadata": {},
   "outputs": [
    {
     "data": {
      "text/plain": [
       "'LPFI'"
      ]
     },
     "execution_count": 39,
     "metadata": {},
     "output_type": "execute_result"
    }
   ],
   "source": [
    "print(\"\".join(S))"
   ]
  },
  {
   "cell_type": "code",
   "execution_count": 11,
   "id": "2a624932",
   "metadata": {},
   "outputs": [],
   "source": [
    "S = ['F', 'L', 'I', 'P']"
   ]
  },
  {
   "cell_type": "code",
   "execution_count": 12,
   "id": "1af53045",
   "metadata": {},
   "outputs": [
    {
     "name": "stdout",
     "output_type": "stream",
     "text": [
      "LPFI\n"
     ]
    }
   ],
   "source": [
    "flip = False\n",
    "buffer = \"\"\n",
    "list_len = len(S)//2\n",
    "for a in range(Q):\n",
    "    if TAB[a][0]==\"1\":\n",
    "        if flip:\n",
    "            a1 = int(TAB[a][1])-1 + list_len if list_len > int(TAB[a][1])-1 else int(TAB[a][1])-1 - list_len\n",
    "            a2 = int(TAB[a][2])-1 + list_len if list_len > int(TAB[a][2])-1 else int(TAB[a][2])-1 - list_len\n",
    "            buffer = S[a1]\n",
    "            S[a1] = S[a2]\n",
    "            S[a2] = buffer\n",
    "        else:\n",
    "            buffer = S[int(TAB[a][1])-1]\n",
    "            S[int(TAB[a][1])-1] = S[int(TAB[a][2])-1]\n",
    "            S[int(TAB[a][2])-1] = buffer\n",
    "    else:\n",
    "        flip = not flip\n",
    "if flip:\n",
    "    S = S[list_len:] + S[:list_len]\n",
    "print(\"\".join(S))"
   ]
  },
  {
   "cell_type": "code",
   "execution_count": 3,
   "id": "610a36a3",
   "metadata": {},
   "outputs": [],
   "source": [
    "S=[\"F\",\"L\",\"I\",\"P\"]"
   ]
  },
  {
   "cell_type": "code",
   "execution_count": 9,
   "id": "993d100e",
   "metadata": {},
   "outputs": [
    {
     "name": "stdout",
     "output_type": "stream",
     "text": [
      "True\n",
      "chenge\n"
     ]
    }
   ],
   "source": [
    "flip = False\n",
    "buffer = \"\"\n",
    "list_len = len(S) // 2\n",
    "for tab in TAB:\n",
    "    if tab[0] == \"1\":\n",
    "        print(\"chenge\")\n",
    "    else:\n",
    "        flip = not flip\n",
    "        print(flip)"
   ]
  },
  {
   "cell_type": "code",
   "execution_count": 13,
   "id": "ef832df1",
   "metadata": {},
   "outputs": [
    {
     "name": "stdin",
     "output_type": "stream",
     "text": [
      " 2\n",
      " FLIP\n",
      " 2\n",
      " 2 0 0\n",
      " 1 1 4\n"
     ]
    },
    {
     "name": "stdout",
     "output_type": "stream",
     "text": [
      "LPFI\n"
     ]
    }
   ],
   "source": [
    "N = int(input())\n",
    "S = [a for a in input()]\n",
    "Q = int(input())\n",
    "TAB = []\n",
    "for a in [0]*Q:\n",
    "    TAB.append(input().split(\" \"))\n",
    "\n",
    "flip = False\n",
    "buffer = \"\"\n",
    "list_len = len(S)//2\n",
    "for a in range(Q):\n",
    "    if TAB[a][0]==\"1\":\n",
    "        if flip:\n",
    "            a1 = int(TAB[a][1])-1 + list_len if list_len > int(TAB[a][1])-1 else int(TAB[a][1])-1 - list_len\n",
    "            a2 = int(TAB[a][2])-1 + list_len if list_len > int(TAB[a][2])-1 else int(TAB[a][2])-1 - list_len\n",
    "            buffer = S[a1]\n",
    "            S[a1] = S[a2]\n",
    "            S[a2] = buffer\n",
    "        else:\n",
    "            buffer = S[int(TAB[a][1])-1]\n",
    "            S[int(TAB[a][1])-1] = S[int(TAB[a][2])-1]\n",
    "            S[int(TAB[a][2])-1] = buffer\n",
    "    else:\n",
    "        flip = not flip\n",
    "if flip:\n",
    "    S = S[list_len:] + S[:list_len]\n",
    "print(\"\".join(S))"
   ]
  },
  {
   "cell_type": "code",
   "execution_count": null,
   "id": "d271cf37",
   "metadata": {},
   "outputs": [],
   "source": []
  }
 ],
 "metadata": {
  "kernelspec": {
   "display_name": "Python 3",
   "language": "python",
   "name": "python3"
  },
  "language_info": {
   "codemirror_mode": {
    "name": "ipython",
    "version": 3
   },
   "file_extension": ".py",
   "mimetype": "text/x-python",
   "name": "python",
   "nbconvert_exporter": "python",
   "pygments_lexer": "ipython3",
   "version": "3.8.8"
  }
 },
 "nbformat": 4,
 "nbformat_minor": 5
}
