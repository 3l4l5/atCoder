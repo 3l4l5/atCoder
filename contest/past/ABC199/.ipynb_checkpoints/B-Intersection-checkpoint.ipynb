{
 "cells": [
  {
   "cell_type": "markdown",
   "id": "5193ba4a",
   "metadata": {},
   "source": [
    "# B-Intersection"
   ]
  },
  {
   "cell_type": "code",
   "execution_count": 7,
   "id": "ac1218da",
   "metadata": {},
   "outputs": [
    {
     "name": "stdin",
     "output_type": "stream",
     "text": [
      " 3\n",
      " 3 2 5\n",
      " 6 9 8\n"
     ]
    }
   ],
   "source": [
    "N = int(input())\n",
    "A = [int(a) for a in input().split(\" \")]\n",
    "B = [int(b) for b in input().split(\" \")]\n",
    "print(min(B) - max(A) + 1)"
   ]
  },
  {
   "cell_type": "code",
   "execution_count": 8,
   "id": "2daf919f",
   "metadata": {},
   "outputs": [
    {
     "data": {
      "text/plain": [
       "2"
      ]
     },
     "execution_count": 8,
     "metadata": {},
     "output_type": "execute_result"
    }
   ],
   "source": [
    "min(B) - max(A) + 1"
   ]
  },
  {
   "cell_type": "code",
   "execution_count": 4,
   "id": "878d1dd7",
   "metadata": {},
   "outputs": [
    {
     "data": {
      "text/plain": [
       "5"
      ]
     },
     "execution_count": 4,
     "metadata": {},
     "output_type": "execute_result"
    }
   ],
   "source": [
    "min(B)"
   ]
  },
  {
   "cell_type": "code",
   "execution_count": null,
   "id": "b70fa9e4",
   "metadata": {},
   "outputs": [],
   "source": []
  }
 ],
 "metadata": {
  "kernelspec": {
   "display_name": "Python 3",
   "language": "python",
   "name": "python3"
  },
  "language_info": {
   "codemirror_mode": {
    "name": "ipython",
    "version": 3
   },
   "file_extension": ".py",
   "mimetype": "text/x-python",
   "name": "python",
   "nbconvert_exporter": "python",
   "pygments_lexer": "ipython3",
   "version": "3.8.8"
  }
 },
 "nbformat": 4,
 "nbformat_minor": 5
}
