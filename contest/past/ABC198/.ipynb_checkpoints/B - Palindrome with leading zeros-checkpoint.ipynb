{
 "cells": [
  {
   "cell_type": "markdown",
   "id": "5ee5d300",
   "metadata": {},
   "source": [
    "# B - Palindrome with leading zeros"
   ]
  },
  {
   "cell_type": "code",
   "execution_count": 1,
   "id": "7d41abe3",
   "metadata": {},
   "outputs": [
    {
     "name": "stdin",
     "output_type": "stream",
     "text": [
      " 1210\n"
     ]
    }
   ],
   "source": [
    "N = int(input())"
   ]
  },
  {
   "cell_type": "code",
   "execution_count": 6,
   "id": "f2235475",
   "metadata": {},
   "outputs": [],
   "source": [
    "count = 0\n",
    "for a in str(N)[::-1]:\n",
    "    if a == \"0\":\n",
    "        count += 1\n",
    "    else:\n",
    "        break"
   ]
  },
  {
   "cell_type": "code",
   "execution_count": 8,
   "id": "8a745e63",
   "metadata": {},
   "outputs": [
    {
     "data": {
      "text/plain": [
       "'01210'"
      ]
     },
     "execution_count": 8,
     "metadata": {},
     "output_type": "execute_result"
    }
   ],
   "source": [
    "\"0\"*count + str(N)"
   ]
  },
  {
   "cell_type": "code",
   "execution_count": 18,
   "id": "7953f13b",
   "metadata": {},
   "outputs": [],
   "source": [
    "def is_rotateable(N):\n",
    "    N_ = str(N)\n",
    "    a, b = divmod(len(N_), 2)\n",
    "    if b == 0:\n",
    "        return N_[:a]== N_[::-1][:a]\n",
    "    else:\n",
    "        return N_[:a-1]== N_[::-1][:a-1]"
   ]
  },
  {
   "cell_type": "code",
   "execution_count": 27,
   "id": "054733a7",
   "metadata": {},
   "outputs": [
    {
     "data": {
      "text/plain": [
       "True"
      ]
     },
     "execution_count": 27,
     "metadata": {},
     "output_type": "execute_result"
    }
   ],
   "source": [
    "is_rotateable(\"0\"*count + str(N))\n",
    "#is_rotateable(\"122221\")"
   ]
  },
  {
   "cell_type": "code",
   "execution_count": 17,
   "id": "46c6f623",
   "metadata": {},
   "outputs": [
    {
     "data": {
      "text/plain": [
       "2"
      ]
     },
     "execution_count": 17,
     "metadata": {},
     "output_type": "execute_result"
    }
   ],
   "source": [
    "len(\"asdf\")//2"
   ]
  },
  {
   "cell_type": "code",
   "execution_count": 25,
   "id": "2b37099b",
   "metadata": {},
   "outputs": [
    {
     "name": "stdin",
     "output_type": "stream",
     "text": [
      " 1220\n"
     ]
    },
    {
     "name": "stdout",
     "output_type": "stream",
     "text": [
      "01220\n",
      "No\n"
     ]
    }
   ],
   "source": [
    "def is_rotateable(N):\n",
    "    N_ = str(N)\n",
    "    a, b = divmod(len(N_), 2)\n",
    "    return N_[:a]== N_[::-1][:a]\n",
    "    \n",
    "N = int(input())\n",
    "count = 0\n",
    "for a in str(N)[::-1]:\n",
    "    if a == \"0\":\n",
    "        count += 1\n",
    "    else:\n",
    "        break\n",
    "print(\"Yes\" if is_rotateable(\"0\"*count + str(N)) else \"No\")"
   ]
  },
  {
   "cell_type": "code",
   "execution_count": null,
   "id": "3772fa44",
   "metadata": {},
   "outputs": [],
   "source": []
  }
 ],
 "metadata": {
  "kernelspec": {
   "display_name": "Python 3",
   "language": "python",
   "name": "python3"
  },
  "language_info": {
   "codemirror_mode": {
    "name": "ipython",
    "version": 3
   },
   "file_extension": ".py",
   "mimetype": "text/x-python",
   "name": "python",
   "nbconvert_exporter": "python",
   "pygments_lexer": "ipython3",
   "version": "3.8.8"
  }
 },
 "nbformat": 4,
 "nbformat_minor": 5
}
