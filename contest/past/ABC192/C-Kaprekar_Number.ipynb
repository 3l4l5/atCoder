{
 "cells": [
  {
   "cell_type": "code",
   "execution_count": 1,
   "id": "ef8e1afa",
   "metadata": {},
   "outputs": [
    {
     "name": "stdin",
     "output_type": "stream",
     "text": [
      " 314 2\n"
     ]
    }
   ],
   "source": [
    "N, K = [int(a) for a in input().split(\" \")]"
   ]
  },
  {
   "cell_type": "code",
   "execution_count": 27,
   "id": "fb2f7f25",
   "metadata": {},
   "outputs": [],
   "source": [
    "def g1(num:int) -> int:\n",
    "    num_list = [int(a) for a in (\",\".join(str(num))).split(\",\")]\n",
    "    num_list.sort(reverse=True)\n",
    "    return int(\"\".join([str(a) for a in num_list]))\n",
    "def g2(num:int) -> int:\n",
    "    num_list = [int(a) for a in (\",\".join(str(num))).split(\",\")]\n",
    "    num_list.sort()\n",
    "    return int(\"\".join([str(a) for a in num_list]))\n",
    "def f(num, i):\n",
    "    a = g1(num) - g2(num)\n",
    "    if i==1:\n",
    "        return a\n",
    "    else:\n",
    "        return f(a, i-1)"
   ]
  },
  {
   "cell_type": "code",
   "execution_count": 33,
   "id": "654dc8e4",
   "metadata": {},
   "outputs": [],
   "source": [
    "def f(num, i):\n",
    "    a = g1(num) - g2(num)\n",
    "    if i==1:\n",
    "        return a\n",
    "    else:\n",
    "        return f(a, i-1)"
   ]
  },
  {
   "cell_type": "code",
   "execution_count": 36,
   "id": "579008f3",
   "metadata": {},
   "outputs": [
    {
     "data": {
      "text/plain": [
       "693"
      ]
     },
     "execution_count": 36,
     "metadata": {},
     "output_type": "execute_result"
    }
   ],
   "source": [
    "N, K = [int(a) for a in input().split(\" \")]\n",
    "print(f(N, K))"
   ]
  },
  {
   "cell_type": "code",
   "execution_count": 41,
   "id": "84ddd06a",
   "metadata": {},
   "outputs": [
    {
     "name": "stdin",
     "output_type": "stream",
     "text": [
      " 6174 100000\n"
     ]
    },
    {
     "name": "stdout",
     "output_type": "stream",
     "text": [
      "6174\n"
     ]
    }
   ],
   "source": [
    "def g1(num:int) -> int:\n",
    "    num_list = [int(a) for a in (\",\".join(str(num))).split(\",\")]\n",
    "    num_list.sort(reverse=True)\n",
    "    return int(\"\".join([str(a) for a in num_list]))\n",
    "def g2(num:int) -> int:\n",
    "    num_list = [int(a) for a in (\",\".join(str(num))).split(\",\")]\n",
    "    num_list.sort()\n",
    "    return int(\"\".join([str(a) for a in num_list]))\n",
    "def f(num):\n",
    "    return g1(num)-g2(num)\n",
    "N, K = [int(a) for a in input().split(\" \")]\n",
    "\n",
    "for k in range(K):\n",
    "    N = f(N)\n",
    "print(N)"
   ]
  },
  {
   "cell_type": "code",
   "execution_count": null,
   "id": "2d882858",
   "metadata": {},
   "outputs": [],
   "source": []
  }
 ],
 "metadata": {
  "kernelspec": {
   "display_name": "Python 3",
   "language": "python",
   "name": "python3"
  },
  "language_info": {
   "codemirror_mode": {
    "name": "ipython",
    "version": 3
   },
   "file_extension": ".py",
   "mimetype": "text/x-python",
   "name": "python",
   "nbconvert_exporter": "python",
   "pygments_lexer": "ipython3",
   "version": "3.8.8"
  }
 },
 "nbformat": 4,
 "nbformat_minor": 5
}
