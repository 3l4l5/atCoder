{
 "cells": [
  {
   "cell_type": "markdown",
   "id": "7608aadd",
   "metadata": {},
   "source": [
    "# A - Star"
   ]
  },
  {
   "cell_type": "code",
   "execution_count": 6,
   "id": "332ef272",
   "metadata": {},
   "outputs": [
    {
     "name": "stdin",
     "output_type": "stream",
     "text": [
      " 1000\n"
     ]
    }
   ],
   "source": [
    "A = int(input())\n",
    "print(100-(A%100))"
   ]
  },
  {
   "cell_type": "code",
   "execution_count": 7,
   "id": "97c5b3c6",
   "metadata": {},
   "outputs": [
    {
     "name": "stdout",
     "output_type": "stream",
     "text": [
      "100\n"
     ]
    }
   ],
   "source": [
    "print(100-(A%100))"
   ]
  },
  {
   "cell_type": "code",
   "execution_count": null,
   "id": "e2d4a31e",
   "metadata": {},
   "outputs": [],
   "source": []
  }
 ],
 "metadata": {
  "kernelspec": {
   "display_name": "Python 3",
   "language": "python",
   "name": "python3"
  },
  "language_info": {
   "codemirror_mode": {
    "name": "ipython",
    "version": 3
   },
   "file_extension": ".py",
   "mimetype": "text/x-python",
   "name": "python",
   "nbconvert_exporter": "python",
   "pygments_lexer": "ipython3",
   "version": "3.8.8"
  }
 },
 "nbformat": 4,
 "nbformat_minor": 5
}
