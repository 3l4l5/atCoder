{
 "cells": [
  {
   "cell_type": "markdown",
   "id": "7cbddf77",
   "metadata": {},
   "source": [
    "# B - uNrEaDaBlE sTrInG"
   ]
  },
  {
   "cell_type": "code",
   "execution_count": 30,
   "id": "f9d46c1d",
   "metadata": {},
   "outputs": [
    {
     "name": "stdin",
     "output_type": "stream",
     "text": [
      " AsAsAs\n"
     ]
    }
   ],
   "source": [
    "S = input()"
   ]
  },
  {
   "cell_type": "code",
   "execution_count": 31,
   "id": "e499983d",
   "metadata": {},
   "outputs": [
    {
     "name": "stdout",
     "output_type": "stream",
     "text": [
      "No\n"
     ]
    }
   ],
   "source": [
    "buffer = False\n",
    "for s in S:\n",
    "    if not(buffer^(not(s.islower()))):\n",
    "        buffer = s.islower()\n",
    "    else:\n",
    "        print(\"No\")\n",
    "        break\n",
    "else:\n",
    "    print(\"Yes\")"
   ]
  },
  {
   "cell_type": "code",
   "execution_count": 18,
   "id": "dcec42cd",
   "metadata": {},
   "outputs": [
    {
     "data": {
      "text/plain": [
       "bool"
      ]
     },
     "execution_count": 18,
     "metadata": {},
     "output_type": "execute_result"
    }
   ],
   "source": [
    "buffer"
   ]
  },
  {
   "cell_type": "code",
   "execution_count": 16,
   "id": "0cf7d89a",
   "metadata": {},
   "outputs": [
    {
     "data": {
      "text/plain": [
       "True"
      ]
     },
     "execution_count": 16,
     "metadata": {},
     "output_type": "execute_result"
    }
   ],
   "source": [
    "True ^ False"
   ]
  },
  {
   "cell_type": "code",
   "execution_count": null,
   "id": "9b98b86f",
   "metadata": {},
   "outputs": [],
   "source": [
    "S = input()\n",
    "buffer = False\n",
    "for s in S:\n",
    "    if not(buffer^(not(s.islower()))):\n",
    "        buffer = s.islower()\n",
    "    else:\n",
    "        print(\"No\")\n",
    "        break\n",
    "else:\n",
    "    print(\"Yes\")"
   ]
  }
 ],
 "metadata": {
  "kernelspec": {
   "display_name": "Python 3",
   "language": "python",
   "name": "python3"
  },
  "language_info": {
   "codemirror_mode": {
    "name": "ipython",
    "version": 3
   },
   "file_extension": ".py",
   "mimetype": "text/x-python",
   "name": "python",
   "nbconvert_exporter": "python",
   "pygments_lexer": "ipython3",
   "version": "3.8.8"
  }
 },
 "nbformat": 4,
 "nbformat_minor": 5
}
