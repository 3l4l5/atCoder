{
 "cells": [
  {
   "cell_type": "markdown",
   "id": "87b91251",
   "metadata": {},
   "source": [
    "# B - Visibility"
   ]
  },
  {
   "cell_type": "code",
   "execution_count": 49,
   "id": "b85a6093",
   "metadata": {},
   "outputs": [
    {
     "name": "stdin",
     "output_type": "stream",
     "text": [
      " 5 5 4 2\n",
      " .#..#\n",
      " #.###\n",
      " ##...\n",
      " #..#.\n",
      " #.###\n"
     ]
    }
   ],
   "source": [
    "H, W, X, Y = [int(a) for a in input().split(\" \")]\n",
    "S = []\n",
    "for a in [0]*H:\n",
    "    S.append(input())"
   ]
  },
  {
   "cell_type": "code",
   "execution_count": 12,
   "id": "8edb1bd4",
   "metadata": {},
   "outputs": [
    {
     "data": {
      "text/plain": [
       "['##..', '...#', '#.#.', '.#.#']"
      ]
     },
     "execution_count": 12,
     "metadata": {},
     "output_type": "execute_result"
    }
   ],
   "source": [
    "S"
   ]
  },
  {
   "cell_type": "code",
   "execution_count": 50,
   "id": "9be8839f",
   "metadata": {},
   "outputs": [],
   "source": [
    "count = 0\n",
    "for i in S[X-1][:Y-1][::-1]:\n",
    "    if i==\".\":\n",
    "        count+=1\n",
    "    else:\n",
    "        break\n",
    "for i in S[X-1][Y-1:]:\n",
    "    if i==\".\":\n",
    "        count+=1\n",
    "    else:\n",
    "        break\n",
    "for i in [S[a][Y-1] for a in range(X-1)]:\n",
    "    if i==\".\":\n",
    "        count+=1\n",
    "    else:\n",
    "        break\n",
    "for i in [S[a][Y-1] for a in range(X,H)]:\n",
    "    if i==\".\":\n",
    "        count+=1\n",
    "    else:\n",
    "        break"
   ]
  },
  {
   "cell_type": "code",
   "execution_count": 51,
   "id": "8a9251ea",
   "metadata": {},
   "outputs": [
    {
     "data": {
      "text/plain": [
       "3"
      ]
     },
     "execution_count": 51,
     "metadata": {},
     "output_type": "execute_result"
    }
   ],
   "source": [
    "count"
   ]
  },
  {
   "cell_type": "code",
   "execution_count": 28,
   "id": "46458153",
   "metadata": {},
   "outputs": [
    {
     "data": {
      "text/plain": [
       "['#']"
      ]
     },
     "execution_count": 28,
     "metadata": {},
     "output_type": "execute_result"
    }
   ],
   "source": [
    "[S[a][Y-1] for a in range(X-1)]"
   ]
  },
  {
   "cell_type": "code",
   "execution_count": 29,
   "id": "83b57754",
   "metadata": {},
   "outputs": [
    {
     "data": {
      "text/plain": [
       "['.', '#']"
      ]
     },
     "execution_count": 29,
     "metadata": {},
     "output_type": "execute_result"
    }
   ],
   "source": [
    "[S[a][Y-1] for a in range(X,H)]"
   ]
  },
  {
   "cell_type": "code",
   "execution_count": 53,
   "id": "2fcc7807",
   "metadata": {},
   "outputs": [
    {
     "name": "stdout",
     "output_type": "stream",
     "text": [
      "# .#.\n",
      "['#', '.', '#']\n",
      "['.']\n"
     ]
    }
   ],
   "source": [
    "print(S[X-1][:Y-1],S[X-1][Y:])\n",
    "print([S[a][Y-1] for a in range(X-1)])\n",
    "print([S[a][Y-1] for a in range(X,H)])"
   ]
  },
  {
   "cell_type": "code",
   "execution_count": null,
   "id": "8dc67f5a",
   "metadata": {},
   "outputs": [],
   "source": [
    "H, W, X, Y = [int(a) for a in input().split(\" \")]\n",
    "S = []\n",
    "for a in [0]*H:\n",
    "    S.append(input())\n",
    "count = 0\n",
    "for i in S[X-1][:Y-1][::-1]:\n",
    "    if i==\".\":\n",
    "        count+=1\n",
    "    else:\n",
    "        break\n",
    "for i in S[X-1][Y:]:\n",
    "    if i==\".\":\n",
    "        count+=1\n",
    "    else:\n",
    "        break\n",
    "for i in [S[a][Y-1] for a in range(X-1)]:\n",
    "    if i==\".\":\n",
    "        count+=1\n",
    "    else:\n",
    "        break\n",
    "for i in [S[a][Y-1] for a in range(X,H)]:\n",
    "    if i==\".\":\n",
    "        count+=1\n",
    "    else:\n",
    "        break\n",
    "print(count+1)"
   ]
  }
 ],
 "metadata": {
  "kernelspec": {
   "display_name": "Python 3",
   "language": "python",
   "name": "python3"
  },
  "language_info": {
   "codemirror_mode": {
    "name": "ipython",
    "version": 3
   },
   "file_extension": ".py",
   "mimetype": "text/x-python",
   "name": "python",
   "nbconvert_exporter": "python",
   "pygments_lexer": "ipython3",
   "version": "3.8.8"
  }
 },
 "nbformat": 4,
 "nbformat_minor": 5
}
