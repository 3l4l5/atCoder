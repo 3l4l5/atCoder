{
 "cells": [
  {
   "cell_type": "markdown",
   "id": "0471d2f1",
   "metadata": {},
   "source": [
    "# C-ORXOR"
   ]
  },
  {
   "cell_type": "code",
   "execution_count": 160,
   "id": "4f22d5eb",
   "metadata": {},
   "outputs": [
    {
     "name": "stdin",
     "output_type": "stream",
     "text": [
      " 3\n",
      " 1 5 7\n"
     ]
    }
   ],
   "source": [
    "N = int(input())\n",
    "A = [int(a) for a in input().split(\" \")]"
   ]
  },
  {
   "cell_type": "code",
   "execution_count": 167,
   "id": "3d98a1fd",
   "metadata": {},
   "outputs": [],
   "source": [
    "def bit_serch(L:list) -> list:\n",
    "    N = int(\"1\"*(len(L)-1), 2)\n",
    "    return_list = []\n",
    "    for a in range(N+1):\n",
    "        bin_ = str(bin(a))[2:].zfill(len(str(bin(N)))-2)\n",
    "        bin_ = bin_[::-1]\n",
    "        return_list.append([a for a, b in enumerate(bin_) if b==\"1\"])\n",
    "    buf = []\n",
    "    for a in return_list:\n",
    "        buf_ = []\n",
    "        for b in a:\n",
    "            buf_.append(L[b])\n",
    "        buf.append(buf_)\n",
    "    return buf"
   ]
  },
  {
   "cell_type": "code",
   "execution_count": 169,
   "id": "4c703be8",
   "metadata": {},
   "outputs": [],
   "source": [
    "a = bit_serch(list(range(len(A))))"
   ]
  },
  {
   "cell_type": "code",
   "execution_count": 179,
   "id": "12063822",
   "metadata": {},
   "outputs": [
    {
     "data": {
      "text/plain": [
       "[0, 1]"
      ]
     },
     "execution_count": 179,
     "metadata": {},
     "output_type": "execute_result"
    }
   ],
   "source": [
    "a[3]"
   ]
  },
  {
   "cell_type": "code",
   "execution_count": 224,
   "id": "c5d3cf8b",
   "metadata": {},
   "outputs": [],
   "source": [
    "bit = list(product([True, False], repeat=len(A)-1))"
   ]
  },
  {
   "cell_type": "code",
   "execution_count": 225,
   "id": "8af71db5",
   "metadata": {},
   "outputs": [
    {
     "data": {
      "text/plain": [
       "[(True, True), (True, False), (False, True), (False, False)]"
      ]
     },
     "execution_count": 225,
     "metadata": {},
     "output_type": "execute_result"
    }
   ],
   "source": [
    "bit"
   ]
  },
  {
   "cell_type": "code",
   "execution_count": 1,
   "id": "ae4c686b",
   "metadata": {},
   "outputs": [
    {
     "name": "stdin",
     "output_type": "stream",
     "text": [
      " 3\n",
      " 10 10 10\n"
     ]
    },
    {
     "name": "stdout",
     "output_type": "stream",
     "text": [
      "0\n"
     ]
    }
   ],
   "source": [
    "from itertools import product\n",
    "N = int(input())\n",
    "A = [int(a) for a in input().split(\" \")]\n",
    "bit = list(product([True, False], repeat=len(A)-1))\n",
    "buffer = []\n",
    "for i in bit:\n",
    "    buffer_ = [str(A[0])]\n",
    "    for a, i_ in zip(A[1:], i):\n",
    "        if i_:\n",
    "            buffer_.append(\"b\"+str(a))\n",
    "        else:\n",
    "            buffer_.append(\"a\"+str(a))\n",
    "    buffer.append([a.split(\"a\") for a in \"\".join(buffer_).split(\"b\")])\n",
    "buffer1 = []\n",
    "for i in buffer:\n",
    "    buffer2 = []\n",
    "    for j in i:\n",
    "        if len(j) == 1:\n",
    "            buffer2.append(j[0])\n",
    "        else:\n",
    "            buffer3 = int(j[0])\n",
    "            for k in j[1:]:\n",
    "                buffer3 = buffer3| int(k)\n",
    "            \n",
    "            buffer2.append(buffer3)\n",
    "    buffer1.append(buffer2)\n",
    "buffer4 = []\n",
    "for i in buffer1:\n",
    "    buffer2 = int(i[0])\n",
    "    for j in i[1:]:\n",
    "        buffer2 = buffer2^int(j)\n",
    "    buffer4.append(buffer2)\n",
    "print(min(buffer4))"
   ]
  },
  {
   "cell_type": "code",
   "execution_count": 280,
   "id": "499fa9b4",
   "metadata": {},
   "outputs": [
    {
     "name": "stdout",
     "output_type": "stream",
     "text": [
      "2\n"
     ]
    }
   ],
   "source": [
    "print(min(buffer4))"
   ]
  },
  {
   "cell_type": "code",
   "execution_count": 281,
   "id": "c9ec147a",
   "metadata": {},
   "outputs": [],
   "source": [
    "buffer4 = []\n",
    "for i in buffer1:\n",
    "    buffer2 = int(i[0])\n",
    "    for j in i[1:]:\n",
    "        buffer2 = buffer2^int(j)\n",
    "    buffer4.append(buffer2)"
   ]
  },
  {
   "cell_type": "code",
   "execution_count": 276,
   "id": "0d78c41e",
   "metadata": {},
   "outputs": [
    {
     "data": {
      "text/plain": [
       "2"
      ]
     },
     "execution_count": 276,
     "metadata": {},
     "output_type": "execute_result"
    }
   ],
   "source": [
    "min(buffer4)"
   ]
  },
  {
   "cell_type": "code",
   "execution_count": 210,
   "id": "ba025c3c",
   "metadata": {},
   "outputs": [
    {
     "name": "stdout",
     "output_type": "stream",
     "text": [
      "[0, 0]\n",
      "[] [] [1, 5, 7]\n",
      "[0, 2]\n",
      "[] [1, 5] [7]\n",
      "[1, 0]\n",
      "[1] [] [1, 5, 7]\n",
      "[1, 2]\n",
      "[1] [5] [7]\n"
     ]
    }
   ],
   "source": [
    "for bit in list(product([0, 1], repeat=len(A)-1)):\n",
    "    list_ = [a*b for a, b in zip(bit, range(1,len(A)))]\n",
    "    print(list_)\n",
    "    print(A[:list_[0]], A[list_[0]:list_[1]], A[list_[1]:])"
   ]
  },
  {
   "cell_type": "code",
   "execution_count": 190,
   "id": "4048d726",
   "metadata": {},
   "outputs": [],
   "source": [
    "a = [1,2,3,4,5]\n",
    "b = [1,2,3,4,5]"
   ]
  },
  {
   "cell_type": "code",
   "execution_count": 192,
   "id": "be7d4318",
   "metadata": {},
   "outputs": [
    {
     "data": {
      "text/plain": [
       "[1, 4, 9, 16, 25]"
      ]
     },
     "execution_count": 192,
     "metadata": {},
     "output_type": "execute_result"
    }
   ],
   "source": [
    "[a*b for a, b in zip(a, b)]"
   ]
  },
  {
   "cell_type": "code",
   "execution_count": 203,
   "id": "fd9182ba",
   "metadata": {},
   "outputs": [
    {
     "data": {
      "text/plain": [
       "[]"
      ]
     },
     "execution_count": 203,
     "metadata": {},
     "output_type": "execute_result"
    }
   ],
   "source": [
    "a[:0]"
   ]
  },
  {
   "cell_type": "code",
   "execution_count": null,
   "id": "f347f9df",
   "metadata": {},
   "outputs": [],
   "source": []
  }
 ],
 "metadata": {
  "kernelspec": {
   "display_name": "Python 3",
   "language": "python",
   "name": "python3"
  },
  "language_info": {
   "codemirror_mode": {
    "name": "ipython",
    "version": 3
   },
   "file_extension": ".py",
   "mimetype": "text/x-python",
   "name": "python",
   "nbconvert_exporter": "python",
   "pygments_lexer": "ipython3",
   "version": "3.8.8"
  }
 },
 "nbformat": 4,
 "nbformat_minor": 5
}
