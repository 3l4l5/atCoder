{
 "cells": [
  {
   "cell_type": "markdown",
   "id": "1ff1ae16",
   "metadata": {},
   "source": [
    "# A - I Scream"
   ]
  },
  {
   "cell_type": "code",
   "execution_count": 2,
   "id": "8d56a016",
   "metadata": {},
   "outputs": [
    {
     "name": "stdin",
     "output_type": "stream",
     "text": [
      " 10 8\n"
     ]
    }
   ],
   "source": [
    "A, B = [int(a) for a in input().split(\" \")]"
   ]
  },
  {
   "cell_type": "code",
   "execution_count": 4,
   "id": "252eb215",
   "metadata": {},
   "outputs": [
    {
     "name": "stdout",
     "output_type": "stream",
     "text": [
      "1\n"
     ]
    }
   ],
   "source": [
    "if A+B>=15 and B>=8:\n",
    "    print(1)\n",
    "elif A+B>=10 and B>=3:\n",
    "    print(2)\n",
    "elif A+B>=3:\n",
    "    print(3)\n",
    "else:\n",
    "    print(4)"
   ]
  },
  {
   "cell_type": "code",
   "execution_count": null,
   "id": "d6a5339a",
   "metadata": {},
   "outputs": [],
   "source": [
    "A, B = [int(a) for a in input().split(\" \")]\n",
    "if A+B>=15 and B>=8:\n",
    "    print(1)\n",
    "elif A+B>=10 and B>=3:\n",
    "    print(2)\n",
    "elif A+B>=3:\n",
    "    print(3)\n",
    "else:\n",
    "    print(4)"
   ]
  }
 ],
 "metadata": {
  "kernelspec": {
   "display_name": "Python 3",
   "language": "python",
   "name": "python3"
  },
  "language_info": {
   "codemirror_mode": {
    "name": "ipython",
    "version": 3
   },
   "file_extension": ".py",
   "mimetype": "text/x-python",
   "name": "python",
   "nbconvert_exporter": "python",
   "pygments_lexer": "ipython3",
   "version": "3.8.8"
  }
 },
 "nbformat": 4,
 "nbformat_minor": 5
}
