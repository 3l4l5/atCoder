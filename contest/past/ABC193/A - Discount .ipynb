{
 "cells": [
  {
   "cell_type": "markdown",
   "id": "c42ce4ed",
   "metadata": {},
   "source": [
    "# A - Discount "
   ]
  },
  {
   "cell_type": "code",
   "execution_count": 1,
   "id": "0ef0f4e2",
   "metadata": {},
   "outputs": [
    {
     "name": "stdin",
     "output_type": "stream",
     "text": [
      " 100 80\n"
     ]
    }
   ],
   "source": [
    "A, B = [int(a) for a in input().split(\" \")]"
   ]
  },
  {
   "cell_type": "code",
   "execution_count": 5,
   "id": "514af74f",
   "metadata": {},
   "outputs": [
    {
     "name": "stdout",
     "output_type": "stream",
     "text": [
      "19.999999999999996\n"
     ]
    }
   ],
   "source": [
    "print((1 - (B / A))*100)"
   ]
  },
  {
   "cell_type": "code",
   "execution_count": null,
   "id": "97a324f2",
   "metadata": {},
   "outputs": [],
   "source": [
    "A, B = [int(a) for a in input().split(\" \")]\n",
    "print((1 - (B / A))*100)"
   ]
  }
 ],
 "metadata": {
  "kernelspec": {
   "display_name": "Python 3",
   "language": "python",
   "name": "python3"
  },
  "language_info": {
   "codemirror_mode": {
    "name": "ipython",
    "version": 3
   },
   "file_extension": ".py",
   "mimetype": "text/x-python",
   "name": "python",
   "nbconvert_exporter": "python",
   "pygments_lexer": "ipython3",
   "version": "3.8.8"
  }
 },
 "nbformat": 4,
 "nbformat_minor": 5
}
