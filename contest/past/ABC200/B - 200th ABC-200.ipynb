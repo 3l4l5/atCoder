{
 "cells": [
  {
   "cell_type": "markdown",
   "id": "0eeeb11f",
   "metadata": {},
   "source": [
    "# B - 200th ABC-200"
   ]
  },
  {
   "cell_type": "code",
   "execution_count": 1,
   "id": "add87db1",
   "metadata": {},
   "outputs": [
    {
     "name": "stdin",
     "output_type": "stream",
     "text": [
      " 2021 4\n"
     ]
    }
   ],
   "source": [
    "N, K = [int(a) for a in input().split()]"
   ]
  },
  {
   "cell_type": "code",
   "execution_count": 6,
   "id": "a4040a03",
   "metadata": {},
   "outputs": [
    {
     "name": "stdin",
     "output_type": "stream",
     "text": [
      " 8691 20\n"
     ]
    },
    {
     "name": "stdout",
     "output_type": "stream",
     "text": [
      "84875488281\n"
     ]
    }
   ],
   "source": [
    "N, K = [int(a) for a in input().split()]\n",
    "N_ = N\n",
    "for i in [0]*K:\n",
    "    if N_%200==0:\n",
    "        N_ = N_//200\n",
    "    else:\n",
    "        N_ = int(str(N_)+\"200\")\n",
    "print(N_)"
   ]
  },
  {
   "cell_type": "code",
   "execution_count": 5,
   "id": "10edfe7d",
   "metadata": {},
   "outputs": [
    {
     "data": {
      "text/plain": [
       "50531"
      ]
     },
     "execution_count": 5,
     "metadata": {},
     "output_type": "execute_result"
    }
   ],
   "source": [
    "N_"
   ]
  },
  {
   "cell_type": "code",
   "execution_count": null,
   "id": "585ac5b3",
   "metadata": {},
   "outputs": [],
   "source": []
  }
 ],
 "metadata": {
  "kernelspec": {
   "display_name": "Python 3",
   "language": "python",
   "name": "python3"
  },
  "language_info": {
   "codemirror_mode": {
    "name": "ipython",
    "version": 3
   },
   "file_extension": ".py",
   "mimetype": "text/x-python",
   "name": "python",
   "nbconvert_exporter": "python",
   "pygments_lexer": "ipython3",
   "version": "3.8.8"
  }
 },
 "nbformat": 4,
 "nbformat_minor": 5
}
