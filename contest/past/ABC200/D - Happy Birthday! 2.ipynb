{
 "cells": [
  {
   "cell_type": "markdown",
   "id": "ac96074f",
   "metadata": {},
   "source": [
    "# D - Happy Birthday! 2"
   ]
  },
  {
   "cell_type": "code",
   "execution_count": 1,
   "id": "071d9009",
   "metadata": {},
   "outputs": [
    {
     "name": "stdin",
     "output_type": "stream",
     "text": [
      " 5\n",
      " 180 186 189 191 218\n"
     ]
    }
   ],
   "source": [
    "N = int(input())\n",
    "A = [int(a) for a in input().split(\" \")]"
   ]
  },
  {
   "cell_type": "code",
   "execution_count": 51,
   "id": "5120b83c",
   "metadata": {},
   "outputs": [],
   "source": [
    "from itertools import product\n",
    "bit = list(product([1, 0], repeat=len(A)))"
   ]
  },
  {
   "cell_type": "code",
   "execution_count": 52,
   "id": "c99f302e",
   "metadata": {},
   "outputs": [
    {
     "data": {
      "text/plain": [
       "[(1, 1), (1, 0), (0, 1), (0, 0)]"
      ]
     },
     "execution_count": 52,
     "metadata": {},
     "output_type": "execute_result"
    }
   ],
   "source": [
    "bit"
   ]
  },
  {
   "cell_type": "code",
   "execution_count": 49,
   "id": "2187cfd9",
   "metadata": {},
   "outputs": [],
   "source": [
    "buf = []\n",
    "for bi in bit:\n",
    "    buf.append(sum([a*b for a, b in zip(A,bi)])%200)"
   ]
  },
  {
   "cell_type": "code",
   "execution_count": 50,
   "id": "379c91ed",
   "metadata": {},
   "outputs": [
    {
     "data": {
      "text/plain": [
       "[46, 123, 123, 0]"
      ]
     },
     "execution_count": 50,
     "metadata": {},
     "output_type": "execute_result"
    }
   ],
   "source": [
    "buf"
   ]
  },
  {
   "cell_type": "code",
   "execution_count": 53,
   "id": "5ef973d0",
   "metadata": {},
   "outputs": [
    {
     "name": "stdout",
     "output_type": "stream",
     "text": [
      "1 1\n",
      "1 2\n"
     ]
    }
   ],
   "source": [
    "for a in range(len(buf)):\n",
    "    for b in range(a+1,len(buf)):\n",
    "        if buf[a]==buf[b]:\n",
    "            print(1,*[j for j in [i*k for i,k in zip(range(1,N+1),bit[a])] if j != 0], sep=\" \")\n",
    "            print(1,*[j for j in [i*k for i,k in zip(range(1,N+1),bit[b])] if j != 0], sep=\" \")\n",
    "            break\n",
    "    else:\n",
    "        continue\n",
    "    break"
   ]
  },
  {
   "cell_type": "code",
   "execution_count": 22,
   "id": "2d8e01b9",
   "metadata": {},
   "outputs": [
    {
     "data": {
      "text/plain": [
       "((1, 1, 0, 1, 1), (0, 1, 1, 0, 0))"
      ]
     },
     "execution_count": 22,
     "metadata": {},
     "output_type": "execute_result"
    }
   ],
   "source": [
    "bit[4],bit[19]"
   ]
  },
  {
   "cell_type": "code",
   "execution_count": 56,
   "id": "7c6550ba",
   "metadata": {},
   "outputs": [
    {
     "name": "stdin",
     "output_type": "stream",
     "text": [
      " 5\n",
      " 180 186 189 191 218\n"
     ]
    },
    {
     "name": "stdout",
     "output_type": "stream",
     "text": [
      "Yes\n",
      "1 1 2 4 5\n",
      "2 2 3\n"
     ]
    }
   ],
   "source": [
    "N = int(input())\n",
    "A = [int(a) for a in input().split(\" \")]\n",
    "from itertools import product\n",
    "bit = list(product([1, 0], repeat=len(A)))\n",
    "buf = []\n",
    "No = True\n",
    "for bi in bit:\n",
    "    buf.append(sum([a*b for a, b in zip(A,bi)])%200)\n",
    "for a in range(len(buf)):\n",
    "    for b in range(a+1,len(buf)):\n",
    "        if buf[a]==buf[b]:\n",
    "            No = False\n",
    "            print(\"Yes\")\n",
    "            print(1,*[j for j in [i*k for i,k in zip(range(1,N+1),bit[a])] if j != 0], sep=\" \")\n",
    "            print(2,*[j for j in [i*k for i,k in zip(range(1,N+1),bit[b])] if j != 0], sep=\" \")\n",
    "            break\n",
    "    else:\n",
    "        continue\n",
    "    \n",
    "    break\n",
    "if No:\n",
    "    print(\"No\")"
   ]
  },
  {
   "cell_type": "code",
   "execution_count": 36,
   "id": "aa846694",
   "metadata": {},
   "outputs": [
    {
     "data": {
      "text/plain": [
       "157"
      ]
     },
     "execution_count": 36,
     "metadata": {},
     "output_type": "execute_result"
    }
   ],
   "source": [
    "(186+180+191)%200"
   ]
  },
  {
   "cell_type": "code",
   "execution_count": 37,
   "id": "9e50f402",
   "metadata": {},
   "outputs": [
    {
     "data": {
      "text/plain": [
       "175"
      ]
     },
     "execution_count": 37,
     "metadata": {},
     "output_type": "execute_result"
    }
   ],
   "source": [
    "(186+189)%200"
   ]
  },
  {
   "cell_type": "code",
   "execution_count": null,
   "id": "1fc0a270",
   "metadata": {},
   "outputs": [],
   "source": [
    "6\n",
    "2013 1012 2765 2021 508 6971"
   ]
  },
  {
   "cell_type": "code",
   "execution_count": null,
   "id": "4fd99166",
   "metadata": {},
   "outputs": [],
   "source": []
  }
 ],
 "metadata": {
  "kernelspec": {
   "display_name": "Python 3",
   "language": "python",
   "name": "python3"
  },
  "language_info": {
   "codemirror_mode": {
    "name": "ipython",
    "version": 3
   },
   "file_extension": ".py",
   "mimetype": "text/x-python",
   "name": "python",
   "nbconvert_exporter": "python",
   "pygments_lexer": "ipython3",
   "version": "3.8.8"
  }
 },
 "nbformat": 4,
 "nbformat_minor": 5
}
