{
 "cells": [
  {
   "cell_type": "markdown",
   "id": "c05b0bcc",
   "metadata": {},
   "source": [
    "# A - Century"
   ]
  },
  {
   "cell_type": "code",
   "execution_count": 1,
   "id": "8459e175",
   "metadata": {},
   "outputs": [],
   "source": [
    "from itertools import product"
   ]
  },
  {
   "cell_type": "code",
   "execution_count": 11,
   "id": "0c188e64",
   "metadata": {},
   "outputs": [
    {
     "name": "stdin",
     "output_type": "stream",
     "text": [
      " 2021\n"
     ]
    },
    {
     "name": "stdout",
     "output_type": "stream",
     "text": [
      "21\n"
     ]
    }
   ],
   "source": [
    "N = int(input())\n",
    "print(N//100 if N%100==0 else N//100 + 1)"
   ]
  },
  {
   "cell_type": "code",
   "execution_count": 9,
   "id": "03f71fed",
   "metadata": {},
   "outputs": [
    {
     "name": "stdout",
     "output_type": "stream",
     "text": [
      "0\n"
     ]
    }
   ],
   "source": [
    "print(N%100)"
   ]
  },
  {
   "cell_type": "code",
   "execution_count": null,
   "id": "6ac5aa55",
   "metadata": {},
   "outputs": [],
   "source": []
  }
 ],
 "metadata": {
  "kernelspec": {
   "display_name": "Python 3",
   "language": "python",
   "name": "python3"
  },
  "language_info": {
   "codemirror_mode": {
    "name": "ipython",
    "version": 3
   },
   "file_extension": ".py",
   "mimetype": "text/x-python",
   "name": "python",
   "nbconvert_exporter": "python",
   "pygments_lexer": "ipython3",
   "version": "3.8.8"
  }
 },
 "nbformat": 4,
 "nbformat_minor": 5
}
