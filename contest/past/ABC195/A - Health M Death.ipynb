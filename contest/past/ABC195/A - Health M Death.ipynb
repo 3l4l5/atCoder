{
 "cells": [
  {
   "cell_type": "markdown",
   "id": "7b1e0566",
   "metadata": {},
   "source": [
    "# A - Health M Death"
   ]
  },
  {
   "cell_type": "code",
   "execution_count": 1,
   "id": "3260b6dd",
   "metadata": {},
   "outputs": [
    {
     "name": "stdin",
     "output_type": "stream",
     "text": [
      " 10 120\n"
     ]
    }
   ],
   "source": [
    "M, H = [int(a) for a in input().split()]"
   ]
  },
  {
   "cell_type": "code",
   "execution_count": 2,
   "id": "386ba5d9",
   "metadata": {},
   "outputs": [
    {
     "name": "stdout",
     "output_type": "stream",
     "text": [
      "Yes\n"
     ]
    }
   ],
   "source": [
    "M, H = [int(a) for a in input().split()]\n",
    "print(\"Yes\" if H%M == 0 else \"No\")"
   ]
  },
  {
   "cell_type": "code",
   "execution_count": null,
   "id": "35c2cba0",
   "metadata": {},
   "outputs": [],
   "source": []
  }
 ],
 "metadata": {
  "kernelspec": {
   "display_name": "Python 3",
   "language": "python",
   "name": "python3"
  },
  "language_info": {
   "codemirror_mode": {
    "name": "ipython",
    "version": 3
   },
   "file_extension": ".py",
   "mimetype": "text/x-python",
   "name": "python",
   "nbconvert_exporter": "python",
   "pygments_lexer": "ipython3",
   "version": "3.8.8"
  }
 },
 "nbformat": 4,
 "nbformat_minor": 5
}
