{
 "cells": [
  {
   "cell_type": "markdown",
   "id": "78eb1a39",
   "metadata": {},
   "source": [
    "# B - Many Oranges"
   ]
  },
  {
   "cell_type": "code",
   "execution_count": 12,
   "id": "6e2edfd1",
   "metadata": {},
   "outputs": [
    {
     "name": "stdin",
     "output_type": "stream",
     "text": [
      " 120 150 2\n"
     ]
    }
   ],
   "source": [
    "A, B, W = [float(a) for a in input().split(\" \")]\n",
    "W *= 1000"
   ]
  },
  {
   "cell_type": "code",
   "execution_count": 13,
   "id": "0132b0eb",
   "metadata": {},
   "outputs": [
    {
     "data": {
      "text/plain": [
       "(13.0, 50.0)"
      ]
     },
     "execution_count": 13,
     "metadata": {},
     "output_type": "execute_result"
    }
   ],
   "source": [
    "divmod(W, B)"
   ]
  },
  {
   "cell_type": "code",
   "execution_count": null,
   "id": "96573815",
   "metadata": {},
   "outputs": [],
   "source": []
  }
 ],
 "metadata": {
  "kernelspec": {
   "display_name": "Python 3",
   "language": "python",
   "name": "python3"
  },
  "language_info": {
   "codemirror_mode": {
    "name": "ipython",
    "version": 3
   },
   "file_extension": ".py",
   "mimetype": "text/x-python",
   "name": "python",
   "nbconvert_exporter": "python",
   "pygments_lexer": "ipython3",
   "version": "3.8.8"
  }
 },
 "nbformat": 4,
 "nbformat_minor": 5
}
