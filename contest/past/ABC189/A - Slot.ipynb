{
 "cells": [
  {
   "cell_type": "markdown",
   "id": "77685b47",
   "metadata": {},
   "source": [
    "# A - Slot"
   ]
  },
  {
   "cell_type": "code",
   "execution_count": 3,
   "id": "1c26488f",
   "metadata": {},
   "outputs": [
    {
     "name": "stdin",
     "output_type": "stream",
     "text": [
      " ASD\n"
     ]
    },
    {
     "name": "stdout",
     "output_type": "stream",
     "text": [
      "Lost\n"
     ]
    }
   ],
   "source": [
    "C = input()\n",
    "print(\"Won\" if C == C[0]*3 else \"Lost\")"
   ]
  },
  {
   "cell_type": "code",
   "execution_count": null,
   "id": "34c77c52",
   "metadata": {},
   "outputs": [],
   "source": []
  }
 ],
 "metadata": {
  "kernelspec": {
   "display_name": "Python 3",
   "language": "python",
   "name": "python3"
  },
  "language_info": {
   "codemirror_mode": {
    "name": "ipython",
    "version": 3
   },
   "file_extension": ".py",
   "mimetype": "text/x-python",
   "name": "python",
   "nbconvert_exporter": "python",
   "pygments_lexer": "ipython3",
   "version": "3.8.8"
  }
 },
 "nbformat": 4,
 "nbformat_minor": 5
}
