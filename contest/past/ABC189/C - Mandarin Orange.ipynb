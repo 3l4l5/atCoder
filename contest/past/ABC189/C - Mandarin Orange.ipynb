{
 "cells": [
  {
   "cell_type": "markdown",
   "id": "16410d32",
   "metadata": {},
   "source": [
    "# C - Mandarin Orange"
   ]
  },
  {
   "cell_type": "code",
   "execution_count": 64,
   "id": "8acd7e67",
   "metadata": {},
   "outputs": [
    {
     "name": "stdin",
     "output_type": "stream",
     "text": [
      " 6\n",
      " 200 4 4 9 4 9\n"
     ]
    }
   ],
   "source": [
    "N = int(input())\n",
    "A = [int(a) for a in input().split(\" \")]"
   ]
  },
  {
   "cell_type": "code",
   "execution_count": 67,
   "id": "d690286d",
   "metadata": {},
   "outputs": [
    {
     "name": "stdout",
     "output_type": "stream",
     "text": [
      "[]\n"
     ]
    }
   ],
   "source": [
    "num = 0\n",
    "buf = []\n",
    "maxA = max(A)\n",
    "for a in A:\n",
    "    if a == maxA:\n",
    "        buf.append(num)\n",
    "    num += 1\n",
    "mikan = []\n",
    "for b in buf:\n",
    "    list1 = A[b:]\n",
    "    list2 = A[:b][::-1]\n",
    "    for i in range(len(list1)):\n",
    "        for j in range(len(list2)):\n",
    "            mikan.append(min(min(list1[i:]),min(list2[j:]))*(i+j+6))\n",
    "#            print(min(list1[i:]),min(list2[j:]))\n",
    "#            print(list1[i:],list2[j:])\n",
    "print(mikan)"
   ]
  },
  {
   "cell_type": "code",
   "execution_count": 66,
   "id": "fe385c3d",
   "metadata": {},
   "outputs": [
    {
     "data": {
      "text/plain": [
       "([200, 4, 4, 9, 4, 9], [])"
      ]
     },
     "execution_count": 66,
     "metadata": {},
     "output_type": "execute_result"
    }
   ],
   "source": [
    "list1, list2"
   ]
  },
  {
   "cell_type": "code",
   "execution_count": null,
   "id": "40146973",
   "metadata": {},
   "outputs": [],
   "source": []
  }
 ],
 "metadata": {
  "kernelspec": {
   "display_name": "Python 3",
   "language": "python",
   "name": "python3"
  },
  "language_info": {
   "codemirror_mode": {
    "name": "ipython",
    "version": 3
   },
   "file_extension": ".py",
   "mimetype": "text/x-python",
   "name": "python",
   "nbconvert_exporter": "python",
   "pygments_lexer": "ipython3",
   "version": "3.8.8"
  }
 },
 "nbformat": 4,
 "nbformat_minor": 5
}
