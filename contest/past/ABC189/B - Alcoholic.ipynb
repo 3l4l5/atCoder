{
 "cells": [
  {
   "cell_type": "markdown",
   "id": "5e0dd19f",
   "metadata": {},
   "source": [
    "# B - Alcoholic"
   ]
  },
  {
   "cell_type": "code",
   "execution_count": 8,
   "id": "355da504",
   "metadata": {},
   "outputs": [
    {
     "name": "stdin",
     "output_type": "stream",
     "text": [
      " 2 10\n",
      " 200 5\n",
      " 350 3\n"
     ]
    }
   ],
   "source": [
    "N, X = [int(a) for a in input().split(\" \")]\n",
    "VP = []\n",
    "for n in [0]*N:\n",
    "    VP.append([int(a) for a in input().split()])"
   ]
  },
  {
   "cell_type": "code",
   "execution_count": 9,
   "id": "c68340ec",
   "metadata": {},
   "outputs": [
    {
     "name": "stdout",
     "output_type": "stream",
     "text": [
      "2\n"
     ]
    }
   ],
   "source": [
    "sum_ = 0\n",
    "num = 1\n",
    "for vp in VP:\n",
    "    sum_ += vp[0]*vp[1]/100\n",
    "    if sum_ > X:\n",
    "        print(num)\n",
    "        break\n",
    "    else:\n",
    "        num+=1\n",
    "else:\n",
    "    print(-1)"
   ]
  },
  {
   "cell_type": "code",
   "execution_count": 14,
   "id": "248d14e5",
   "metadata": {},
   "outputs": [
    {
     "name": "stdin",
     "output_type": "stream",
     "text": [
      " 2 10\n",
      " 200 5\n",
      " 350 3\n"
     ]
    },
    {
     "name": "stdout",
     "output_type": "stream",
     "text": [
      "2\n"
     ]
    }
   ],
   "source": [
    "N, X = [int(a) for a in input().split(\" \")]\n",
    "VP = []\n",
    "for n in [0]*N:\n",
    "    VP.append([int(a) for a in input().split()])\n",
    "sum_ = 0.0\n",
    "num = 1\n",
    "for vp in VP:\n",
    "    sum_ += vp[0]*vp[1]\n",
    "    if sum_ > X*100:\n",
    "        print(num)\n",
    "        break\n",
    "    else:\n",
    "        num+=1\n",
    "else:\n",
    "    print(-1)"
   ]
  },
  {
   "cell_type": "code",
   "execution_count": null,
   "id": "d3a0243d",
   "metadata": {},
   "outputs": [],
   "source": []
  }
 ],
 "metadata": {
  "kernelspec": {
   "display_name": "Python 3",
   "language": "python",
   "name": "python3"
  },
  "language_info": {
   "codemirror_mode": {
    "name": "ipython",
    "version": 3
   },
   "file_extension": ".py",
   "mimetype": "text/x-python",
   "name": "python",
   "nbconvert_exporter": "python",
   "pygments_lexer": "ipython3",
   "version": "3.8.8"
  }
 },
 "nbformat": 4,
 "nbformat_minor": 5
}
