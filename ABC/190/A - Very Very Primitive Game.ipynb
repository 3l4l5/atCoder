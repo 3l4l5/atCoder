{
 "cells": [
  {
   "cell_type": "markdown",
   "metadata": {},
   "source": [
    "# A - Very Very Primitive Game"
   ]
  },
  {
   "cell_type": "markdown",
   "metadata": {},
   "source": [
    "## 問題文\n",
    "高橋くんと青木くんがゲームを行います。\n",
    "はじめ、高橋くんは \n",
    "A\n",
    " 個、青木くんは \n",
    "B\n",
    " 個のアメを持っています。\n",
    "C\n",
    "=\n",
    "0\n",
    " ならば高橋くんが先手、\n",
    "C\n",
    "=\n",
    "1\n",
    " ならば青木くんが先手で、高橋くんと青木くんは以下の操作を交互に繰り返します。\n",
    "\n",
    "自分の持っているアメを \n",
    "1\n",
    " 個食べる。\n",
    "先に操作を行えなくなった者の負けです。どちらが勝つでしょうか？\n",
    "## 制約\n",
    "入力は全て整数\n",
    "0\n",
    "≤\n",
    "A\n",
    ",\n",
    "B\n",
    "≤\n",
    "100\n",
    "C\n",
    "∈\n",
    "{\n",
    "0\n",
    ",\n",
    "1\n",
    "}\n",
    "\n"
   ]
  },
  {
   "cell_type": "code",
   "execution_count": 16,
   "metadata": {},
   "outputs": [
    {
     "name": "stdin",
     "output_type": "stream",
     "text": [
      " 2 2 0\n"
     ]
    },
    {
     "name": "stdout",
     "output_type": "stream",
     "text": [
      "Aoki\n"
     ]
    }
   ],
   "source": [
    "def win(A, B, C):\n",
    "    taka = \"Takahashi\"\n",
    "    ao = \"Aoki\"\n",
    "    if C == 0:\n",
    "        return taka if A-1 >= B else ao\n",
    "    else:\n",
    "        return taka if A > B-1 else ao\n",
    "\n",
    "A, B, C = map(int, input().split())\n",
    "print(win(A, B, C))"
   ]
  }
 ],
 "metadata": {
  "kernelspec": {
   "display_name": "Python 3",
   "language": "python",
   "name": "python3"
  },
  "language_info": {
   "codemirror_mode": {
    "name": "ipython",
    "version": 3
   },
   "file_extension": ".py",
   "mimetype": "text/x-python",
   "name": "python",
   "nbconvert_exporter": "python",
   "pygments_lexer": "ipython3",
   "version": "3.8.5"
  }
 },
 "nbformat": 4,
 "nbformat_minor": 4
}
