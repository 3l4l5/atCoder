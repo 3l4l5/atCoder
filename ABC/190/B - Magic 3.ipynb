{
 "cells": [
  {
   "cell_type": "markdown",
   "metadata": {},
   "source": [
    "# B - Magic 3"
   ]
  },
  {
   "cell_type": "markdown",
   "metadata": {},
   "source": [
    "## 問題文\n",
    "魔法使いの高橋君は魔物と戦っています。\n",
    "高橋君は \n",
    "N\n",
    " 種類の呪文を使うことができます。 \n",
    "i\n",
    " 番目の呪文は詠唱に \n",
    "X\n",
    "i\n",
    " 秒かかり、威力は \n",
    "Y\n",
    "i\n",
    " です。\n",
    "ただし、この魔物は強いので、詠唱に \n",
    "S\n",
    " 秒以上かかる呪文や、威力が \n",
    "D\n",
    " 以下の呪文ではダメージを与えられません。 また、呪文以外の方法でダメージを与えることもできません。\n",
    "高橋君は魔物にダメージを与えられるでしょうか？\n",
    "\n",
    "## 制約\n",
    "入力は全て整数\n",
    "1\n",
    "≤\n",
    "N\n",
    "≤\n",
    "100\n",
    "1\n",
    "≤\n",
    "X\n",
    "i\n",
    "≤\n",
    "10\n",
    "9\n",
    "1\n",
    "≤\n",
    "Y\n",
    "i\n",
    "≤\n",
    "10\n",
    "9\n",
    "1\n",
    "≤\n",
    "S\n",
    "≤\n",
    "10\n",
    "9\n",
    "1\n",
    "≤\n",
    "D\n",
    "≤\n",
    "10\n",
    "9"
   ]
  },
  {
   "cell_type": "code",
   "execution_count": 7,
   "metadata": {},
   "outputs": [
    {
     "name": "stdin",
     "output_type": "stream",
     "text": [
      " 4 9 9\n",
      " 5 5\n",
      " 15 5\n",
      " 5 15\n",
      " 15 15\n"
     ]
    },
    {
     "name": "stdout",
     "output_type": "stream",
     "text": [
      "Yes\n"
     ]
    }
   ],
   "source": [
    "N, S, D = map(int, input().split())\n",
    "X = []\n",
    "Y = []\n",
    "ans = \"No\"\n",
    "for n in range(N):\n",
    "    x, y = map(int, input().split())\n",
    "    X.append(x)\n",
    "    Y.append(y)\n",
    "for x, y in zip(X, Y):\n",
    "    if x < S and y > D:\n",
    "        ans = \"Yes\"\n",
    "        break\n",
    "print(ans)"
   ]
  }
 ],
 "metadata": {
  "kernelspec": {
   "display_name": "Python 3",
   "language": "python",
   "name": "python3"
  },
  "language_info": {
   "codemirror_mode": {
    "name": "ipython",
    "version": 3
   },
   "file_extension": ".py",
   "mimetype": "text/x-python",
   "name": "python",
   "nbconvert_exporter": "python",
   "pygments_lexer": "ipython3",
   "version": "3.8.5"
  }
 },
 "nbformat": 4,
 "nbformat_minor": 4
}
