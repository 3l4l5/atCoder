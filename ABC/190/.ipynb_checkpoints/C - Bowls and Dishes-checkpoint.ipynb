{
 "cells": [
  {
   "cell_type": "markdown",
   "metadata": {},
   "source": [
    "# C - Bowls and Dishes"
   ]
  },
  {
   "cell_type": "markdown",
   "metadata": {},
   "source": [
    "<h3>問題文</h3><p><var><span class=\"MathJax_Preview\" style=\"color: inherit; display: none;\"></span><span id=\"MathJax-Element-2-Frame\" class=\"mjx-chtml MathJax_CHTML\" tabindex=\"0\" data-mathml=\"&lt;math xmlns=&quot;http://www.w3.org/1998/Math/MathML&quot;&gt;&lt;mn&gt;1&lt;/mn&gt;&lt;mo&gt;,&lt;/mo&gt;&lt;mn&gt;2&lt;/mn&gt;&lt;mo&gt;,&lt;/mo&gt;&lt;mo&gt;&amp;#x2026;&lt;/mo&gt;&lt;mo&gt;,&lt;/mo&gt;&lt;mi&gt;N&lt;/mi&gt;&lt;/math&gt;\" role=\"presentation\" style=\"font-size: 114%; position: relative;\"><span id=\"MJXc-Node-4\" class=\"mjx-math\" aria-hidden=\"true\"><span id=\"MJXc-Node-5\" class=\"mjx-mrow\"><span id=\"MJXc-Node-6\" class=\"mjx-mn\"><span class=\"mjx-char MJXc-TeX-main-R\" style=\"padding-top: 0.387em; padding-bottom: 0.332em;\">1</span></span><span id=\"MJXc-Node-7\" class=\"mjx-mo\"><span class=\"mjx-char MJXc-TeX-main-R\" style=\"margin-top: -0.162em; padding-bottom: 0.551em;\">,</span></span><span id=\"MJXc-Node-8\" class=\"mjx-mn MJXc-space1\"><span class=\"mjx-char MJXc-TeX-main-R\" style=\"padding-top: 0.387em; padding-bottom: 0.332em;\">2</span></span><span id=\"MJXc-Node-9\" class=\"mjx-mo\"><span class=\"mjx-char MJXc-TeX-main-R\" style=\"margin-top: -0.162em; padding-bottom: 0.551em;\">,</span></span><span id=\"MJXc-Node-10\" class=\"mjx-mo MJXc-space1\"><span class=\"mjx-char MJXc-TeX-main-R\" style=\"margin-top: -0.162em; padding-bottom: 0.332em;\">…</span></span><span id=\"MJXc-Node-11\" class=\"mjx-mo MJXc-space1\"><span class=\"mjx-char MJXc-TeX-main-R\" style=\"margin-top: -0.162em; padding-bottom: 0.551em;\">,</span></span><span id=\"MJXc-Node-12\" class=\"mjx-mi MJXc-space1\"><span class=\"mjx-char MJXc-TeX-math-I\" style=\"padding-top: 0.441em; padding-bottom: 0.277em; padding-right: 0.085em;\">N</span></span></span></span><span class=\"MJX_Assistive_MathML\" role=\"presentation\"><math xmlns=\"http://www.w3.org/1998/Math/MathML\"><mn>1</mn><mo>,</mo><mn>2</mn><mo>,</mo><mo>…</mo><mo>,</mo><mi>N</mi></math></span></span><script type=\"math/tex\" id=\"MathJax-Element-2\">1, 2, \\dots, N</script></var> の番号がついた <var><span class=\"MathJax_Preview\" style=\"color: inherit; display: none;\"></span><span id=\"MathJax-Element-3-Frame\" class=\"mjx-chtml MathJax_CHTML\" tabindex=\"0\" data-mathml=\"&lt;math xmlns=&quot;http://www.w3.org/1998/Math/MathML&quot;&gt;&lt;mi&gt;N&lt;/mi&gt;&lt;/math&gt;\" role=\"presentation\" style=\"font-size: 114%; position: relative;\"><span id=\"MJXc-Node-13\" class=\"mjx-math\" aria-hidden=\"true\"><span id=\"MJXc-Node-14\" class=\"mjx-mrow\"><span id=\"MJXc-Node-15\" class=\"mjx-mi\"><span class=\"mjx-char MJXc-TeX-math-I\" style=\"padding-top: 0.441em; padding-bottom: 0.277em; padding-right: 0.085em;\">N</span></span></span></span><span class=\"MJX_Assistive_MathML\" role=\"presentation\"><math xmlns=\"http://www.w3.org/1998/Math/MathML\"><mi>N</mi></math></span></span><script type=\"math/tex\" id=\"MathJax-Element-3\">N</script></var> 個の皿と、<var><span class=\"MathJax_Preview\" style=\"color: inherit; display: none;\"></span><span id=\"MathJax-Element-4-Frame\" class=\"mjx-chtml MathJax_CHTML\" tabindex=\"0\" data-mathml=\"&lt;math xmlns=&quot;http://www.w3.org/1998/Math/MathML&quot;&gt;&lt;mn&gt;1&lt;/mn&gt;&lt;mo&gt;,&lt;/mo&gt;&lt;mn&gt;2&lt;/mn&gt;&lt;mo&gt;,&lt;/mo&gt;&lt;mo&gt;&amp;#x2026;&lt;/mo&gt;&lt;mo&gt;,&lt;/mo&gt;&lt;mi&gt;M&lt;/mi&gt;&lt;/math&gt;\" role=\"presentation\" style=\"font-size: 114%; position: relative;\"><span id=\"MJXc-Node-16\" class=\"mjx-math\" aria-hidden=\"true\"><span id=\"MJXc-Node-17\" class=\"mjx-mrow\"><span id=\"MJXc-Node-18\" class=\"mjx-mn\"><span class=\"mjx-char MJXc-TeX-main-R\" style=\"padding-top: 0.387em; padding-bottom: 0.332em;\">1</span></span><span id=\"MJXc-Node-19\" class=\"mjx-mo\"><span class=\"mjx-char MJXc-TeX-main-R\" style=\"margin-top: -0.162em; padding-bottom: 0.551em;\">,</span></span><span id=\"MJXc-Node-20\" class=\"mjx-mn MJXc-space1\"><span class=\"mjx-char MJXc-TeX-main-R\" style=\"padding-top: 0.387em; padding-bottom: 0.332em;\">2</span></span><span id=\"MJXc-Node-21\" class=\"mjx-mo\"><span class=\"mjx-char MJXc-TeX-main-R\" style=\"margin-top: -0.162em; padding-bottom: 0.551em;\">,</span></span><span id=\"MJXc-Node-22\" class=\"mjx-mo MJXc-space1\"><span class=\"mjx-char MJXc-TeX-main-R\" style=\"margin-top: -0.162em; padding-bottom: 0.332em;\">…</span></span><span id=\"MJXc-Node-23\" class=\"mjx-mo MJXc-space1\"><span class=\"mjx-char MJXc-TeX-main-R\" style=\"margin-top: -0.162em; padding-bottom: 0.551em;\">,</span></span><span id=\"MJXc-Node-24\" class=\"mjx-mi MJXc-space1\"><span class=\"mjx-char MJXc-TeX-math-I\" style=\"padding-top: 0.441em; padding-bottom: 0.277em; padding-right: 0.081em;\">M</span></span></span></span><span class=\"MJX_Assistive_MathML\" role=\"presentation\"><math xmlns=\"http://www.w3.org/1998/Math/MathML\"><mn>1</mn><mo>,</mo><mn>2</mn><mo>,</mo><mo>…</mo><mo>,</mo><mi>M</mi></math></span></span><script type=\"math/tex\" id=\"MathJax-Element-4\">1, 2, \\dots, M</script></var> の番号がついた <var><span class=\"MathJax_Preview\" style=\"color: inherit; display: none;\"></span><span id=\"MathJax-Element-5-Frame\" class=\"mjx-chtml MathJax_CHTML\" tabindex=\"0\" data-mathml=\"&lt;math xmlns=&quot;http://www.w3.org/1998/Math/MathML&quot;&gt;&lt;mi&gt;M&lt;/mi&gt;&lt;/math&gt;\" role=\"presentation\" style=\"font-size: 114%; position: relative;\"><span id=\"MJXc-Node-25\" class=\"mjx-math\" aria-hidden=\"true\"><span id=\"MJXc-Node-26\" class=\"mjx-mrow\"><span id=\"MJXc-Node-27\" class=\"mjx-mi\"><span class=\"mjx-char MJXc-TeX-math-I\" style=\"padding-top: 0.441em; padding-bottom: 0.277em; padding-right: 0.081em;\">M</span></span></span></span><span class=\"MJX_Assistive_MathML\" role=\"presentation\"><math xmlns=\"http://www.w3.org/1998/Math/MathML\"><mi>M</mi></math></span></span><script type=\"math/tex\" id=\"MathJax-Element-5\">M</script></var> 個の条件があります。<br>\n",
    "条件 <var><span class=\"MathJax_Preview\" style=\"color: inherit; display: none;\"></span><span id=\"MathJax-Element-6-Frame\" class=\"mjx-chtml MathJax_CHTML\" tabindex=\"0\" data-mathml=\"&lt;math xmlns=&quot;http://www.w3.org/1998/Math/MathML&quot;&gt;&lt;mi&gt;i&lt;/mi&gt;&lt;/math&gt;\" role=\"presentation\" style=\"font-size: 114%; position: relative;\"><span id=\"MJXc-Node-28\" class=\"mjx-math\" aria-hidden=\"true\"><span id=\"MJXc-Node-29\" class=\"mjx-mrow\"><span id=\"MJXc-Node-30\" class=\"mjx-mi\"><span class=\"mjx-char MJXc-TeX-math-I\" style=\"padding-top: 0.441em; padding-bottom: 0.277em;\">i</span></span></span></span><span class=\"MJX_Assistive_MathML\" role=\"presentation\"><math xmlns=\"http://www.w3.org/1998/Math/MathML\"><mi>i</mi></math></span></span><script type=\"math/tex\" id=\"MathJax-Element-6\">i</script></var> は、皿 <var><span class=\"MathJax_Preview\" style=\"color: inherit; display: none;\"></span><span id=\"MathJax-Element-7-Frame\" class=\"mjx-chtml MathJax_CHTML\" tabindex=\"0\" data-mathml=\"&lt;math xmlns=&quot;http://www.w3.org/1998/Math/MathML&quot;&gt;&lt;msub&gt;&lt;mi&gt;A&lt;/mi&gt;&lt;mi&gt;i&lt;/mi&gt;&lt;/msub&gt;&lt;/math&gt;\" role=\"presentation\" style=\"font-size: 114%; position: relative;\"><span id=\"MJXc-Node-31\" class=\"mjx-math\" aria-hidden=\"true\"><span id=\"MJXc-Node-32\" class=\"mjx-mrow\"><span id=\"MJXc-Node-33\" class=\"mjx-msubsup\"><span class=\"mjx-base\"><span id=\"MJXc-Node-34\" class=\"mjx-mi\"><span class=\"mjx-char MJXc-TeX-math-I\" style=\"padding-top: 0.496em; padding-bottom: 0.277em;\">A</span></span></span><span class=\"mjx-sub\" style=\"font-size: 70.7%; vertical-align: -0.212em; padding-right: 0.071em;\"><span id=\"MJXc-Node-35\" class=\"mjx-mi\" style=\"\"><span class=\"mjx-char MJXc-TeX-math-I\" style=\"padding-top: 0.441em; padding-bottom: 0.277em;\">i</span></span></span></span></span></span><span class=\"MJX_Assistive_MathML\" role=\"presentation\"><math xmlns=\"http://www.w3.org/1998/Math/MathML\"><msub><mi>A</mi><mi>i</mi></msub></math></span></span><script type=\"math/tex\" id=\"MathJax-Element-7\">A_i</script></var> と皿 <var><span class=\"MathJax_Preview\" style=\"color: inherit; display: none;\"></span><span id=\"MathJax-Element-8-Frame\" class=\"mjx-chtml MathJax_CHTML\" tabindex=\"0\" data-mathml=\"&lt;math xmlns=&quot;http://www.w3.org/1998/Math/MathML&quot;&gt;&lt;msub&gt;&lt;mi&gt;B&lt;/mi&gt;&lt;mi&gt;i&lt;/mi&gt;&lt;/msub&gt;&lt;/math&gt;\" role=\"presentation\" style=\"font-size: 114%; position: relative;\"><span id=\"MJXc-Node-36\" class=\"mjx-math\" aria-hidden=\"true\"><span id=\"MJXc-Node-37\" class=\"mjx-mrow\"><span id=\"MJXc-Node-38\" class=\"mjx-msubsup\"><span class=\"mjx-base\"><span id=\"MJXc-Node-39\" class=\"mjx-mi\"><span class=\"mjx-char MJXc-TeX-math-I\" style=\"padding-top: 0.441em; padding-bottom: 0.277em;\">B</span></span></span><span class=\"mjx-sub\" style=\"font-size: 70.7%; vertical-align: -0.212em; padding-right: 0.071em;\"><span id=\"MJXc-Node-40\" class=\"mjx-mi\" style=\"\"><span class=\"mjx-char MJXc-TeX-math-I\" style=\"padding-top: 0.441em; padding-bottom: 0.277em;\">i</span></span></span></span></span></span><span class=\"MJX_Assistive_MathML\" role=\"presentation\"><math xmlns=\"http://www.w3.org/1998/Math/MathML\"><msub><mi>B</mi><mi>i</mi></msub></math></span></span><script type=\"math/tex\" id=\"MathJax-Element-8\">B_i</script></var> の両方にボールが (<var><span class=\"MathJax_Preview\" style=\"color: inherit; display: none;\"></span><span id=\"MathJax-Element-9-Frame\" class=\"mjx-chtml MathJax_CHTML\" tabindex=\"0\" data-mathml=\"&lt;math xmlns=&quot;http://www.w3.org/1998/Math/MathML&quot;&gt;&lt;mn&gt;1&lt;/mn&gt;&lt;/math&gt;\" role=\"presentation\" style=\"font-size: 114%; position: relative;\"><span id=\"MJXc-Node-41\" class=\"mjx-math\" aria-hidden=\"true\"><span id=\"MJXc-Node-42\" class=\"mjx-mrow\"><span id=\"MJXc-Node-43\" class=\"mjx-mn\"><span class=\"mjx-char MJXc-TeX-main-R\" style=\"padding-top: 0.387em; padding-bottom: 0.332em;\">1</span></span></span></span><span class=\"MJX_Assistive_MathML\" role=\"presentation\"><math xmlns=\"http://www.w3.org/1998/Math/MathML\"><mn>1</mn></math></span></span><script type=\"math/tex\" id=\"MathJax-Element-9\">1</script></var> 個以上) 置かれているとき満たされます。<br>\n",
    "<var><span class=\"MathJax_Preview\" style=\"color: inherit; display: none;\"></span><span id=\"MathJax-Element-10-Frame\" class=\"mjx-chtml MathJax_CHTML\" tabindex=\"0\" data-mathml=\"&lt;math xmlns=&quot;http://www.w3.org/1998/Math/MathML&quot;&gt;&lt;mn&gt;1&lt;/mn&gt;&lt;mo&gt;,&lt;/mo&gt;&lt;mn&gt;2&lt;/mn&gt;&lt;mo&gt;,&lt;/mo&gt;&lt;mo&gt;&amp;#x2026;&lt;/mo&gt;&lt;mo&gt;,&lt;/mo&gt;&lt;mi&gt;K&lt;/mi&gt;&lt;/math&gt;\" role=\"presentation\" style=\"font-size: 114%; position: relative;\"><span id=\"MJXc-Node-44\" class=\"mjx-math\" aria-hidden=\"true\"><span id=\"MJXc-Node-45\" class=\"mjx-mrow\"><span id=\"MJXc-Node-46\" class=\"mjx-mn\"><span class=\"mjx-char MJXc-TeX-main-R\" style=\"padding-top: 0.387em; padding-bottom: 0.332em;\">1</span></span><span id=\"MJXc-Node-47\" class=\"mjx-mo\"><span class=\"mjx-char MJXc-TeX-main-R\" style=\"margin-top: -0.162em; padding-bottom: 0.551em;\">,</span></span><span id=\"MJXc-Node-48\" class=\"mjx-mn MJXc-space1\"><span class=\"mjx-char MJXc-TeX-main-R\" style=\"padding-top: 0.387em; padding-bottom: 0.332em;\">2</span></span><span id=\"MJXc-Node-49\" class=\"mjx-mo\"><span class=\"mjx-char MJXc-TeX-main-R\" style=\"margin-top: -0.162em; padding-bottom: 0.551em;\">,</span></span><span id=\"MJXc-Node-50\" class=\"mjx-mo MJXc-space1\"><span class=\"mjx-char MJXc-TeX-main-R\" style=\"margin-top: -0.162em; padding-bottom: 0.332em;\">…</span></span><span id=\"MJXc-Node-51\" class=\"mjx-mo MJXc-space1\"><span class=\"mjx-char MJXc-TeX-main-R\" style=\"margin-top: -0.162em; padding-bottom: 0.551em;\">,</span></span><span id=\"MJXc-Node-52\" class=\"mjx-mi MJXc-space1\"><span class=\"mjx-char MJXc-TeX-math-I\" style=\"padding-top: 0.441em; padding-bottom: 0.277em; padding-right: 0.04em;\">K</span></span></span></span><span class=\"MJX_Assistive_MathML\" role=\"presentation\"><math xmlns=\"http://www.w3.org/1998/Math/MathML\"><mn>1</mn><mo>,</mo><mn>2</mn><mo>,</mo><mo>…</mo><mo>,</mo><mi>K</mi></math></span></span><script type=\"math/tex\" id=\"MathJax-Element-10\">1, 2, \\dots, K</script></var> の番号がついた <var><span class=\"MathJax_Preview\" style=\"color: inherit; display: none;\"></span><span id=\"MathJax-Element-11-Frame\" class=\"mjx-chtml MathJax_CHTML\" tabindex=\"0\" data-mathml=\"&lt;math xmlns=&quot;http://www.w3.org/1998/Math/MathML&quot;&gt;&lt;mi&gt;K&lt;/mi&gt;&lt;/math&gt;\" role=\"presentation\" style=\"font-size: 114%; position: relative;\"><span id=\"MJXc-Node-53\" class=\"mjx-math\" aria-hidden=\"true\"><span id=\"MJXc-Node-54\" class=\"mjx-mrow\"><span id=\"MJXc-Node-55\" class=\"mjx-mi\"><span class=\"mjx-char MJXc-TeX-math-I\" style=\"padding-top: 0.441em; padding-bottom: 0.277em; padding-right: 0.04em;\">K</span></span></span></span><span class=\"MJX_Assistive_MathML\" role=\"presentation\"><math xmlns=\"http://www.w3.org/1998/Math/MathML\"><mi>K</mi></math></span></span><script type=\"math/tex\" id=\"MathJax-Element-11\">K</script></var> 人の人がいて、人 <var><span class=\"MathJax_Preview\" style=\"color: inherit; display: none;\"></span><span id=\"MathJax-Element-12-Frame\" class=\"mjx-chtml MathJax_CHTML\" tabindex=\"0\" data-mathml=\"&lt;math xmlns=&quot;http://www.w3.org/1998/Math/MathML&quot;&gt;&lt;mi&gt;i&lt;/mi&gt;&lt;/math&gt;\" role=\"presentation\" style=\"font-size: 114%; position: relative;\"><span id=\"MJXc-Node-56\" class=\"mjx-math\" aria-hidden=\"true\"><span id=\"MJXc-Node-57\" class=\"mjx-mrow\"><span id=\"MJXc-Node-58\" class=\"mjx-mi\"><span class=\"mjx-char MJXc-TeX-math-I\" style=\"padding-top: 0.441em; padding-bottom: 0.277em;\">i</span></span></span></span><span class=\"MJX_Assistive_MathML\" role=\"presentation\"><math xmlns=\"http://www.w3.org/1998/Math/MathML\"><mi>i</mi></math></span></span><script type=\"math/tex\" id=\"MathJax-Element-12\">i</script></var> は皿 <var><span class=\"MathJax_Preview\" style=\"color: inherit; display: none;\"></span><span id=\"MathJax-Element-13-Frame\" class=\"mjx-chtml MathJax_CHTML\" tabindex=\"0\" data-mathml=\"&lt;math xmlns=&quot;http://www.w3.org/1998/Math/MathML&quot;&gt;&lt;msub&gt;&lt;mi&gt;C&lt;/mi&gt;&lt;mi&gt;i&lt;/mi&gt;&lt;/msub&gt;&lt;/math&gt;\" role=\"presentation\" style=\"font-size: 114%; position: relative;\"><span id=\"MJXc-Node-59\" class=\"mjx-math\" aria-hidden=\"true\"><span id=\"MJXc-Node-60\" class=\"mjx-mrow\"><span id=\"MJXc-Node-61\" class=\"mjx-msubsup\"><span class=\"mjx-base\" style=\"margin-right: -0.045em;\"><span id=\"MJXc-Node-62\" class=\"mjx-mi\"><span class=\"mjx-char MJXc-TeX-math-I\" style=\"padding-top: 0.496em; padding-bottom: 0.277em; padding-right: 0.045em;\">C</span></span></span><span class=\"mjx-sub\" style=\"font-size: 70.7%; vertical-align: -0.212em; padding-right: 0.071em;\"><span id=\"MJXc-Node-63\" class=\"mjx-mi\" style=\"\"><span class=\"mjx-char MJXc-TeX-math-I\" style=\"padding-top: 0.441em; padding-bottom: 0.277em;\">i</span></span></span></span></span></span><span class=\"MJX_Assistive_MathML\" role=\"presentation\"><math xmlns=\"http://www.w3.org/1998/Math/MathML\"><msub><mi>C</mi><mi>i</mi></msub></math></span></span><script type=\"math/tex\" id=\"MathJax-Element-13\">C_i</script></var> か皿 <var><span class=\"MathJax_Preview\" style=\"color: inherit; display: none;\"></span><span id=\"MathJax-Element-14-Frame\" class=\"mjx-chtml MathJax_CHTML\" tabindex=\"0\" data-mathml=\"&lt;math xmlns=&quot;http://www.w3.org/1998/Math/MathML&quot;&gt;&lt;msub&gt;&lt;mi&gt;D&lt;/mi&gt;&lt;mi&gt;i&lt;/mi&gt;&lt;/msub&gt;&lt;/math&gt;\" role=\"presentation\" style=\"font-size: 114%; position: relative;\"><span id=\"MJXc-Node-64\" class=\"mjx-math\" aria-hidden=\"true\"><span id=\"MJXc-Node-65\" class=\"mjx-mrow\"><span id=\"MJXc-Node-66\" class=\"mjx-msubsup\"><span class=\"mjx-base\"><span id=\"MJXc-Node-67\" class=\"mjx-mi\"><span class=\"mjx-char MJXc-TeX-math-I\" style=\"padding-top: 0.441em; padding-bottom: 0.277em;\">D</span></span></span><span class=\"mjx-sub\" style=\"font-size: 70.7%; vertical-align: -0.212em; padding-right: 0.071em;\"><span id=\"MJXc-Node-68\" class=\"mjx-mi\" style=\"\"><span class=\"mjx-char MJXc-TeX-math-I\" style=\"padding-top: 0.441em; padding-bottom: 0.277em;\">i</span></span></span></span></span></span><span class=\"MJX_Assistive_MathML\" role=\"presentation\"><math xmlns=\"http://www.w3.org/1998/Math/MathML\"><msub><mi>D</mi><mi>i</mi></msub></math></span></span><script type=\"math/tex\" id=\"MathJax-Element-14\">D_i</script></var> のどちらか一方にボールを置きます。<br>\n",
    "満たされる条件の個数は最大でいくつでしょうか？</p>\n",
    "</section>\n",
    "</div>\n",
    "\n",
    "<div class=\"part\">\n",
    "<section>\n",
    "<h3>制約</h3><ul>\n",
    "<li>入力は全て整数</li>\n",
    "<li><var><span class=\"MathJax_Preview\" style=\"color: inherit; display: none;\"></span><span id=\"MathJax-Element-15-Frame\" class=\"mjx-chtml MathJax_CHTML\" tabindex=\"0\" data-mathml=\"&lt;math xmlns=&quot;http://www.w3.org/1998/Math/MathML&quot;&gt;&lt;mn&gt;2&lt;/mn&gt;&lt;mo&gt;&amp;#x2264;&lt;/mo&gt;&lt;mi&gt;N&lt;/mi&gt;&lt;mo&gt;&amp;#x2264;&lt;/mo&gt;&lt;mn&gt;100&lt;/mn&gt;&lt;/math&gt;\" role=\"presentation\" style=\"font-size: 114%; position: relative;\"><span id=\"MJXc-Node-69\" class=\"mjx-math\" aria-hidden=\"true\"><span id=\"MJXc-Node-70\" class=\"mjx-mrow\"><span id=\"MJXc-Node-71\" class=\"mjx-mn\"><span class=\"mjx-char MJXc-TeX-main-R\" style=\"padding-top: 0.387em; padding-bottom: 0.332em;\">2</span></span><span id=\"MJXc-Node-72\" class=\"mjx-mo MJXc-space3\"><span class=\"mjx-char MJXc-TeX-main-R\" style=\"padding-top: 0.332em; padding-bottom: 0.496em;\">≤</span></span><span id=\"MJXc-Node-73\" class=\"mjx-mi MJXc-space3\"><span class=\"mjx-char MJXc-TeX-math-I\" style=\"padding-top: 0.441em; padding-bottom: 0.277em; padding-right: 0.085em;\">N</span></span><span id=\"MJXc-Node-74\" class=\"mjx-mo MJXc-space3\"><span class=\"mjx-char MJXc-TeX-main-R\" style=\"padding-top: 0.332em; padding-bottom: 0.496em;\">≤</span></span><span id=\"MJXc-Node-75\" class=\"mjx-mn MJXc-space3\"><span class=\"mjx-char MJXc-TeX-main-R\" style=\"padding-top: 0.387em; padding-bottom: 0.387em;\">100</span></span></span></span><span class=\"MJX_Assistive_MathML\" role=\"presentation\"><math xmlns=\"http://www.w3.org/1998/Math/MathML\"><mn>2</mn><mo>≤</mo><mi>N</mi><mo>≤</mo><mn>100</mn></math></span></span><script type=\"math/tex\" id=\"MathJax-Element-15\">2 ≤ N ≤ 100</script></var></li>\n",
    "<li><var><span class=\"MathJax_Preview\" style=\"color: inherit; display: none;\"></span><span id=\"MathJax-Element-16-Frame\" class=\"mjx-chtml MathJax_CHTML\" tabindex=\"0\" data-mathml=\"&lt;math xmlns=&quot;http://www.w3.org/1998/Math/MathML&quot;&gt;&lt;mn&gt;1&lt;/mn&gt;&lt;mo&gt;&amp;#x2264;&lt;/mo&gt;&lt;mi&gt;M&lt;/mi&gt;&lt;mo&gt;&amp;#x2264;&lt;/mo&gt;&lt;mn&gt;100&lt;/mn&gt;&lt;/math&gt;\" role=\"presentation\" style=\"font-size: 114%; position: relative;\"><span id=\"MJXc-Node-76\" class=\"mjx-math\" aria-hidden=\"true\"><span id=\"MJXc-Node-77\" class=\"mjx-mrow\"><span id=\"MJXc-Node-78\" class=\"mjx-mn\"><span class=\"mjx-char MJXc-TeX-main-R\" style=\"padding-top: 0.387em; padding-bottom: 0.332em;\">1</span></span><span id=\"MJXc-Node-79\" class=\"mjx-mo MJXc-space3\"><span class=\"mjx-char MJXc-TeX-main-R\" style=\"padding-top: 0.332em; padding-bottom: 0.496em;\">≤</span></span><span id=\"MJXc-Node-80\" class=\"mjx-mi MJXc-space3\"><span class=\"mjx-char MJXc-TeX-math-I\" style=\"padding-top: 0.441em; padding-bottom: 0.277em; padding-right: 0.081em;\">M</span></span><span id=\"MJXc-Node-81\" class=\"mjx-mo MJXc-space3\"><span class=\"mjx-char MJXc-TeX-main-R\" style=\"padding-top: 0.332em; padding-bottom: 0.496em;\">≤</span></span><span id=\"MJXc-Node-82\" class=\"mjx-mn MJXc-space3\"><span class=\"mjx-char MJXc-TeX-main-R\" style=\"padding-top: 0.387em; padding-bottom: 0.387em;\">100</span></span></span></span><span class=\"MJX_Assistive_MathML\" role=\"presentation\"><math xmlns=\"http://www.w3.org/1998/Math/MathML\"><mn>1</mn><mo>≤</mo><mi>M</mi><mo>≤</mo><mn>100</mn></math></span></span><script type=\"math/tex\" id=\"MathJax-Element-16\">1 ≤ M ≤ 100</script></var></li>\n",
    "<li><var><span class=\"MathJax_Preview\" style=\"color: inherit; display: none;\"></span><span id=\"MathJax-Element-17-Frame\" class=\"mjx-chtml MathJax_CHTML\" tabindex=\"0\" data-mathml=\"&lt;math xmlns=&quot;http://www.w3.org/1998/Math/MathML&quot;&gt;&lt;mn&gt;1&lt;/mn&gt;&lt;mo&gt;&amp;#x2264;&lt;/mo&gt;&lt;msub&gt;&lt;mi&gt;A&lt;/mi&gt;&lt;mi&gt;i&lt;/mi&gt;&lt;/msub&gt;&lt;mo&gt;&amp;lt;&lt;/mo&gt;&lt;msub&gt;&lt;mi&gt;B&lt;/mi&gt;&lt;mi&gt;i&lt;/mi&gt;&lt;/msub&gt;&lt;mo&gt;&amp;#x2264;&lt;/mo&gt;&lt;mi&gt;N&lt;/mi&gt;&lt;/math&gt;\" role=\"presentation\" style=\"font-size: 114%; position: relative;\"><span id=\"MJXc-Node-83\" class=\"mjx-math\" aria-hidden=\"true\"><span id=\"MJXc-Node-84\" class=\"mjx-mrow\"><span id=\"MJXc-Node-85\" class=\"mjx-mn\"><span class=\"mjx-char MJXc-TeX-main-R\" style=\"padding-top: 0.387em; padding-bottom: 0.332em;\">1</span></span><span id=\"MJXc-Node-86\" class=\"mjx-mo MJXc-space3\"><span class=\"mjx-char MJXc-TeX-main-R\" style=\"padding-top: 0.332em; padding-bottom: 0.496em;\">≤</span></span><span id=\"MJXc-Node-87\" class=\"mjx-msubsup MJXc-space3\"><span class=\"mjx-base\"><span id=\"MJXc-Node-88\" class=\"mjx-mi\"><span class=\"mjx-char MJXc-TeX-math-I\" style=\"padding-top: 0.496em; padding-bottom: 0.277em;\">A</span></span></span><span class=\"mjx-sub\" style=\"font-size: 70.7%; vertical-align: -0.212em; padding-right: 0.071em;\"><span id=\"MJXc-Node-89\" class=\"mjx-mi\" style=\"\"><span class=\"mjx-char MJXc-TeX-math-I\" style=\"padding-top: 0.441em; padding-bottom: 0.277em;\">i</span></span></span></span><span id=\"MJXc-Node-90\" class=\"mjx-mo MJXc-space3\"><span class=\"mjx-char MJXc-TeX-main-R\" style=\"padding-top: 0.277em; padding-bottom: 0.387em;\">&lt;</span></span><span id=\"MJXc-Node-91\" class=\"mjx-msubsup MJXc-space3\"><span class=\"mjx-base\"><span id=\"MJXc-Node-92\" class=\"mjx-mi\"><span class=\"mjx-char MJXc-TeX-math-I\" style=\"padding-top: 0.441em; padding-bottom: 0.277em;\">B</span></span></span><span class=\"mjx-sub\" style=\"font-size: 70.7%; vertical-align: -0.212em; padding-right: 0.071em;\"><span id=\"MJXc-Node-93\" class=\"mjx-mi\" style=\"\"><span class=\"mjx-char MJXc-TeX-math-I\" style=\"padding-top: 0.441em; padding-bottom: 0.277em;\">i</span></span></span></span><span id=\"MJXc-Node-94\" class=\"mjx-mo MJXc-space3\"><span class=\"mjx-char MJXc-TeX-main-R\" style=\"padding-top: 0.332em; padding-bottom: 0.496em;\">≤</span></span><span id=\"MJXc-Node-95\" class=\"mjx-mi MJXc-space3\"><span class=\"mjx-char MJXc-TeX-math-I\" style=\"padding-top: 0.441em; padding-bottom: 0.277em; padding-right: 0.085em;\">N</span></span></span></span><span class=\"MJX_Assistive_MathML\" role=\"presentation\"><math xmlns=\"http://www.w3.org/1998/Math/MathML\"><mn>1</mn><mo>≤</mo><msub><mi>A</mi><mi>i</mi></msub><mo>&lt;</mo><msub><mi>B</mi><mi>i</mi></msub><mo>≤</mo><mi>N</mi></math></span></span><script type=\"math/tex\" id=\"MathJax-Element-17\">1 ≤ A_i < B_i ≤ N</script></var></li>\n",
    "<li><var><span class=\"MathJax_Preview\" style=\"color: inherit; display: none;\"></span><span id=\"MathJax-Element-18-Frame\" class=\"mjx-chtml MathJax_CHTML\" tabindex=\"0\" data-mathml=\"&lt;math xmlns=&quot;http://www.w3.org/1998/Math/MathML&quot;&gt;&lt;mn&gt;1&lt;/mn&gt;&lt;mo&gt;&amp;#x2264;&lt;/mo&gt;&lt;mi&gt;K&lt;/mi&gt;&lt;mo&gt;&amp;#x2264;&lt;/mo&gt;&lt;mn&gt;16&lt;/mn&gt;&lt;/math&gt;\" role=\"presentation\" style=\"font-size: 114%; position: relative;\"><span id=\"MJXc-Node-96\" class=\"mjx-math\" aria-hidden=\"true\"><span id=\"MJXc-Node-97\" class=\"mjx-mrow\"><span id=\"MJXc-Node-98\" class=\"mjx-mn\"><span class=\"mjx-char MJXc-TeX-main-R\" style=\"padding-top: 0.387em; padding-bottom: 0.332em;\">1</span></span><span id=\"MJXc-Node-99\" class=\"mjx-mo MJXc-space3\"><span class=\"mjx-char MJXc-TeX-main-R\" style=\"padding-top: 0.332em; padding-bottom: 0.496em;\">≤</span></span><span id=\"MJXc-Node-100\" class=\"mjx-mi MJXc-space3\"><span class=\"mjx-char MJXc-TeX-math-I\" style=\"padding-top: 0.441em; padding-bottom: 0.277em; padding-right: 0.04em;\">K</span></span><span id=\"MJXc-Node-101\" class=\"mjx-mo MJXc-space3\"><span class=\"mjx-char MJXc-TeX-main-R\" style=\"padding-top: 0.332em; padding-bottom: 0.496em;\">≤</span></span><span id=\"MJXc-Node-102\" class=\"mjx-mn MJXc-space3\"><span class=\"mjx-char MJXc-TeX-main-R\" style=\"padding-top: 0.387em; padding-bottom: 0.387em;\">16</span></span></span></span><span class=\"MJX_Assistive_MathML\" role=\"presentation\"><math xmlns=\"http://www.w3.org/1998/Math/MathML\"><mn>1</mn><mo>≤</mo><mi>K</mi><mo>≤</mo><mn>16</mn></math></span></span><script type=\"math/tex\" id=\"MathJax-Element-18\">1 ≤ K ≤ 16</script></var></li>\n",
    "<li><var><span class=\"MathJax_Preview\" style=\"color: inherit; display: none;\"></span><span id=\"MathJax-Element-19-Frame\" class=\"mjx-chtml MathJax_CHTML\" tabindex=\"0\" data-mathml=\"&lt;math xmlns=&quot;http://www.w3.org/1998/Math/MathML&quot;&gt;&lt;mn&gt;1&lt;/mn&gt;&lt;mo&gt;&amp;#x2264;&lt;/mo&gt;&lt;msub&gt;&lt;mi&gt;C&lt;/mi&gt;&lt;mi&gt;i&lt;/mi&gt;&lt;/msub&gt;&lt;mo&gt;&amp;lt;&lt;/mo&gt;&lt;msub&gt;&lt;mi&gt;D&lt;/mi&gt;&lt;mi&gt;i&lt;/mi&gt;&lt;/msub&gt;&lt;mo&gt;&amp;#x2264;&lt;/mo&gt;&lt;mi&gt;N&lt;/mi&gt;&lt;/math&gt;\" role=\"presentation\" style=\"font-size: 114%; position: relative;\"><span id=\"MJXc-Node-103\" class=\"mjx-math\" aria-hidden=\"true\"><span id=\"MJXc-Node-104\" class=\"mjx-mrow\"><span id=\"MJXc-Node-105\" class=\"mjx-mn\"><span class=\"mjx-char MJXc-TeX-main-R\" style=\"padding-top: 0.387em; padding-bottom: 0.332em;\">1</span></span><span id=\"MJXc-Node-106\" class=\"mjx-mo MJXc-space3\"><span class=\"mjx-char MJXc-TeX-main-R\" style=\"padding-top: 0.332em; padding-bottom: 0.496em;\">≤</span></span><span id=\"MJXc-Node-107\" class=\"mjx-msubsup MJXc-space3\"><span class=\"mjx-base\" style=\"margin-right: -0.045em;\"><span id=\"MJXc-Node-108\" class=\"mjx-mi\"><span class=\"mjx-char MJXc-TeX-math-I\" style=\"padding-top: 0.496em; padding-bottom: 0.277em; padding-right: 0.045em;\">C</span></span></span><span class=\"mjx-sub\" style=\"font-size: 70.7%; vertical-align: -0.212em; padding-right: 0.071em;\"><span id=\"MJXc-Node-109\" class=\"mjx-mi\" style=\"\"><span class=\"mjx-char MJXc-TeX-math-I\" style=\"padding-top: 0.441em; padding-bottom: 0.277em;\">i</span></span></span></span><span id=\"MJXc-Node-110\" class=\"mjx-mo MJXc-space3\"><span class=\"mjx-char MJXc-TeX-main-R\" style=\"padding-top: 0.277em; padding-bottom: 0.387em;\">&lt;</span></span><span id=\"MJXc-Node-111\" class=\"mjx-msubsup MJXc-space3\"><span class=\"mjx-base\"><span id=\"MJXc-Node-112\" class=\"mjx-mi\"><span class=\"mjx-char MJXc-TeX-math-I\" style=\"padding-top: 0.441em; padding-bottom: 0.277em;\">D</span></span></span><span class=\"mjx-sub\" style=\"font-size: 70.7%; vertical-align: -0.212em; padding-right: 0.071em;\"><span id=\"MJXc-Node-113\" class=\"mjx-mi\" style=\"\"><span class=\"mjx-char MJXc-TeX-math-I\" style=\"padding-top: 0.441em; padding-bottom: 0.277em;\">i</span></span></span></span><span id=\"MJXc-Node-114\" class=\"mjx-mo MJXc-space3\"><span class=\"mjx-char MJXc-TeX-main-R\" style=\"padding-top: 0.332em; padding-bottom: 0.496em;\">≤</span></span><span id=\"MJXc-Node-115\" class=\"mjx-mi MJXc-space3\"><span class=\"mjx-char MJXc-TeX-math-I\" style=\"padding-top: 0.441em; padding-bottom: 0.277em; padding-right: 0.085em;\">N</span></span></span></span><span class=\"MJX_Assistive_MathML\" role=\"presentation\"><math xmlns=\"http://www.w3.org/1998/Math/MathML\"><mn>1</mn><mo>≤</mo><msub><mi>C</mi><mi>i</mi></msub><mo>&lt;</mo><msub><mi>D</mi><mi>i</mi></msub><mo>≤</mo><mi>N</mi></math></span></span><script type=\"math/tex\" id=\"MathJax-Element-19\">1 ≤ C_i < D_i ≤ N</script></var></li>\n",
    "</ul>\n",
    "</section>\n",
    "</div>"
   ]
  },
  {
   "cell_type": "markdown",
   "metadata": {},
   "source": [
    "\n",
    "<hr>\n",
    "<div class=\"io-style\">\n",
    "<div class=\"part\">\n",
    "<section>\n",
    "<h3>入力</h3><p>入力は以下の形式で標準入力から与えられる。</p>\n",
    "<pre><var><span class=\"MathJax_Preview\" style=\"color: inherit; display: none;\"></span><span id=\"MathJax-Element-20-Frame\" class=\"mjx-chtml MathJax_CHTML\" tabindex=\"0\" data-mathml=\"&lt;math xmlns=&quot;http://www.w3.org/1998/Math/MathML&quot;&gt;&lt;mi&gt;N&lt;/mi&gt;&lt;/math&gt;\" role=\"presentation\" style=\"font-size: 123%; position: relative;\"><span id=\"MJXc-Node-116\" class=\"mjx-math\" aria-hidden=\"true\"><span id=\"MJXc-Node-117\" class=\"mjx-mrow\"><span id=\"MJXc-Node-118\" class=\"mjx-mi\"><span class=\"mjx-char MJXc-TeX-math-I\" style=\"padding-top: 0.46em; padding-bottom: 0.257em; padding-right: 0.085em;\">N</span></span></span></span><span class=\"MJX_Assistive_MathML\" role=\"presentation\"><math xmlns=\"http://www.w3.org/1998/Math/MathML\"><mi>N</mi></math></span></span><script type=\"math/tex\" id=\"MathJax-Element-20\">N</script></var> <var><span class=\"MathJax_Preview\" style=\"color: inherit; display: none;\"></span><span id=\"MathJax-Element-21-Frame\" class=\"mjx-chtml MathJax_CHTML\" tabindex=\"0\" data-mathml=\"&lt;math xmlns=&quot;http://www.w3.org/1998/Math/MathML&quot;&gt;&lt;mi&gt;M&lt;/mi&gt;&lt;/math&gt;\" role=\"presentation\" style=\"font-size: 123%; position: relative;\"><span id=\"MJXc-Node-119\" class=\"mjx-math\" aria-hidden=\"true\"><span id=\"MJXc-Node-120\" class=\"mjx-mrow\"><span id=\"MJXc-Node-121\" class=\"mjx-mi\"><span class=\"mjx-char MJXc-TeX-math-I\" style=\"padding-top: 0.46em; padding-bottom: 0.257em; padding-right: 0.081em;\">M</span></span></span></span><span class=\"MJX_Assistive_MathML\" role=\"presentation\"><math xmlns=\"http://www.w3.org/1998/Math/MathML\"><mi>M</mi></math></span></span><script type=\"math/tex\" id=\"MathJax-Element-21\">M</script></var>\n",
    "<var><span class=\"MathJax_Preview\" style=\"color: inherit; display: none;\"></span><span id=\"MathJax-Element-22-Frame\" class=\"mjx-chtml MathJax_CHTML\" tabindex=\"0\" data-mathml=\"&lt;math xmlns=&quot;http://www.w3.org/1998/Math/MathML&quot;&gt;&lt;msub&gt;&lt;mi&gt;A&lt;/mi&gt;&lt;mn&gt;1&lt;/mn&gt;&lt;/msub&gt;&lt;/math&gt;\" role=\"presentation\" style=\"font-size: 123%; position: relative;\"><span id=\"MJXc-Node-122\" class=\"mjx-math\" aria-hidden=\"true\"><span id=\"MJXc-Node-123\" class=\"mjx-mrow\"><span id=\"MJXc-Node-124\" class=\"mjx-msubsup\"><span class=\"mjx-base\"><span id=\"MJXc-Node-125\" class=\"mjx-mi\"><span class=\"mjx-char MJXc-TeX-math-I\" style=\"padding-top: 0.511em; padding-bottom: 0.257em;\">A</span></span></span><span class=\"mjx-sub\" style=\"font-size: 70.7%; vertical-align: -0.212em; padding-right: 0.071em;\"><span id=\"MJXc-Node-126\" class=\"mjx-mn\" style=\"\"><span class=\"mjx-char MJXc-TeX-main-R\" style=\"padding-top: 0.358em; padding-bottom: 0.358em;\">1</span></span></span></span></span></span><span class=\"MJX_Assistive_MathML\" role=\"presentation\"><math xmlns=\"http://www.w3.org/1998/Math/MathML\"><msub><mi>A</mi><mn>1</mn></msub></math></span></span><script type=\"math/tex\" id=\"MathJax-Element-22\">A_1</script></var> <var><span class=\"MathJax_Preview\" style=\"color: inherit; display: none;\"></span><span id=\"MathJax-Element-23-Frame\" class=\"mjx-chtml MathJax_CHTML\" tabindex=\"0\" data-mathml=\"&lt;math xmlns=&quot;http://www.w3.org/1998/Math/MathML&quot;&gt;&lt;msub&gt;&lt;mi&gt;B&lt;/mi&gt;&lt;mn&gt;1&lt;/mn&gt;&lt;/msub&gt;&lt;/math&gt;\" role=\"presentation\" style=\"font-size: 123%; position: relative;\"><span id=\"MJXc-Node-127\" class=\"mjx-math\" aria-hidden=\"true\"><span id=\"MJXc-Node-128\" class=\"mjx-mrow\"><span id=\"MJXc-Node-129\" class=\"mjx-msubsup\"><span class=\"mjx-base\"><span id=\"MJXc-Node-130\" class=\"mjx-mi\"><span class=\"mjx-char MJXc-TeX-math-I\" style=\"padding-top: 0.46em; padding-bottom: 0.257em;\">B</span></span></span><span class=\"mjx-sub\" style=\"font-size: 70.7%; vertical-align: -0.212em; padding-right: 0.071em;\"><span id=\"MJXc-Node-131\" class=\"mjx-mn\" style=\"\"><span class=\"mjx-char MJXc-TeX-main-R\" style=\"padding-top: 0.358em; padding-bottom: 0.358em;\">1</span></span></span></span></span></span><span class=\"MJX_Assistive_MathML\" role=\"presentation\"><math xmlns=\"http://www.w3.org/1998/Math/MathML\"><msub><mi>B</mi><mn>1</mn></msub></math></span></span><script type=\"math/tex\" id=\"MathJax-Element-23\">B_1</script></var>\n",
    "<var><span class=\"MathJax_Preview\" style=\"color: inherit; display: none;\"></span><span id=\"MathJax-Element-24-Frame\" class=\"mjx-chtml MathJax_CHTML\" tabindex=\"0\" data-mathml=\"&lt;math xmlns=&quot;http://www.w3.org/1998/Math/MathML&quot;&gt;&lt;mo&gt;&amp;#x22EE;&lt;/mo&gt;&lt;/math&gt;\" role=\"presentation\" style=\"font-size: 123%; position: relative;\"><span id=\"MJXc-Node-132\" class=\"mjx-math\" aria-hidden=\"true\"><span id=\"MJXc-Node-133\" class=\"mjx-mrow\"><span id=\"MJXc-Node-134\" class=\"mjx-mo\"><span class=\"mjx-char MJXc-TeX-main-R\" style=\"padding-top: 1.019em; padding-bottom: 0.358em;\">⋮</span></span></span></span><span class=\"MJX_Assistive_MathML\" role=\"presentation\"><math xmlns=\"http://www.w3.org/1998/Math/MathML\"><mo>⋮</mo></math></span></span><script type=\"math/tex\" id=\"MathJax-Element-24\">\\vdots</script></var>\n",
    "<var><span class=\"MathJax_Preview\" style=\"color: inherit; display: none;\"></span><span id=\"MathJax-Element-25-Frame\" class=\"mjx-chtml MathJax_CHTML\" tabindex=\"0\" data-mathml=\"&lt;math xmlns=&quot;http://www.w3.org/1998/Math/MathML&quot;&gt;&lt;msub&gt;&lt;mi&gt;A&lt;/mi&gt;&lt;mi&gt;M&lt;/mi&gt;&lt;/msub&gt;&lt;/math&gt;\" role=\"presentation\" style=\"font-size: 123%; position: relative;\"><span id=\"MJXc-Node-135\" class=\"mjx-math\" aria-hidden=\"true\"><span id=\"MJXc-Node-136\" class=\"mjx-mrow\"><span id=\"MJXc-Node-137\" class=\"mjx-msubsup\"><span class=\"mjx-base\"><span id=\"MJXc-Node-138\" class=\"mjx-mi\"><span class=\"mjx-char MJXc-TeX-math-I\" style=\"padding-top: 0.511em; padding-bottom: 0.257em;\">A</span></span></span><span class=\"mjx-sub\" style=\"font-size: 70.7%; vertical-align: -0.212em; padding-right: 0.071em;\"><span id=\"MJXc-Node-139\" class=\"mjx-mi\" style=\"\"><span class=\"mjx-char MJXc-TeX-math-I\" style=\"padding-top: 0.46em; padding-bottom: 0.257em; padding-right: 0.081em;\">M</span></span></span></span></span></span><span class=\"MJX_Assistive_MathML\" role=\"presentation\"><math xmlns=\"http://www.w3.org/1998/Math/MathML\"><msub><mi>A</mi><mi>M</mi></msub></math></span></span><script type=\"math/tex\" id=\"MathJax-Element-25\">A_M</script></var> <var><span class=\"MathJax_Preview\" style=\"color: inherit; display: none;\"></span><span id=\"MathJax-Element-26-Frame\" class=\"mjx-chtml MathJax_CHTML\" tabindex=\"0\" data-mathml=\"&lt;math xmlns=&quot;http://www.w3.org/1998/Math/MathML&quot;&gt;&lt;msub&gt;&lt;mi&gt;B&lt;/mi&gt;&lt;mi&gt;M&lt;/mi&gt;&lt;/msub&gt;&lt;/math&gt;\" role=\"presentation\" style=\"font-size: 123%; position: relative;\"><span id=\"MJXc-Node-140\" class=\"mjx-math\" aria-hidden=\"true\"><span id=\"MJXc-Node-141\" class=\"mjx-mrow\"><span id=\"MJXc-Node-142\" class=\"mjx-msubsup\"><span class=\"mjx-base\"><span id=\"MJXc-Node-143\" class=\"mjx-mi\"><span class=\"mjx-char MJXc-TeX-math-I\" style=\"padding-top: 0.46em; padding-bottom: 0.257em;\">B</span></span></span><span class=\"mjx-sub\" style=\"font-size: 70.7%; vertical-align: -0.212em; padding-right: 0.071em;\"><span id=\"MJXc-Node-144\" class=\"mjx-mi\" style=\"\"><span class=\"mjx-char MJXc-TeX-math-I\" style=\"padding-top: 0.46em; padding-bottom: 0.257em; padding-right: 0.081em;\">M</span></span></span></span></span></span><span class=\"MJX_Assistive_MathML\" role=\"presentation\"><math xmlns=\"http://www.w3.org/1998/Math/MathML\"><msub><mi>B</mi><mi>M</mi></msub></math></span></span><script type=\"math/tex\" id=\"MathJax-Element-26\">B_M</script></var>\n",
    "<var><span class=\"MathJax_Preview\" style=\"color: inherit; display: none;\"></span><span id=\"MathJax-Element-27-Frame\" class=\"mjx-chtml MathJax_CHTML\" tabindex=\"0\" data-mathml=\"&lt;math xmlns=&quot;http://www.w3.org/1998/Math/MathML&quot;&gt;&lt;mi&gt;K&lt;/mi&gt;&lt;/math&gt;\" role=\"presentation\" style=\"font-size: 123%; position: relative;\"><span id=\"MJXc-Node-145\" class=\"mjx-math\" aria-hidden=\"true\"><span id=\"MJXc-Node-146\" class=\"mjx-mrow\"><span id=\"MJXc-Node-147\" class=\"mjx-mi\"><span class=\"mjx-char MJXc-TeX-math-I\" style=\"padding-top: 0.46em; padding-bottom: 0.257em; padding-right: 0.04em;\">K</span></span></span></span><span class=\"MJX_Assistive_MathML\" role=\"presentation\"><math xmlns=\"http://www.w3.org/1998/Math/MathML\"><mi>K</mi></math></span></span><script type=\"math/tex\" id=\"MathJax-Element-27\">K</script></var>\n",
    "<var><span class=\"MathJax_Preview\" style=\"color: inherit; display: none;\"></span><span id=\"MathJax-Element-28-Frame\" class=\"mjx-chtml MathJax_CHTML\" tabindex=\"0\" data-mathml=\"&lt;math xmlns=&quot;http://www.w3.org/1998/Math/MathML&quot;&gt;&lt;msub&gt;&lt;mi&gt;C&lt;/mi&gt;&lt;mn&gt;1&lt;/mn&gt;&lt;/msub&gt;&lt;/math&gt;\" role=\"presentation\" style=\"font-size: 123%; position: relative;\"><span id=\"MJXc-Node-148\" class=\"mjx-math\" aria-hidden=\"true\"><span id=\"MJXc-Node-149\" class=\"mjx-mrow\"><span id=\"MJXc-Node-150\" class=\"mjx-msubsup\"><span class=\"mjx-base\" style=\"margin-right: -0.045em;\"><span id=\"MJXc-Node-151\" class=\"mjx-mi\"><span class=\"mjx-char MJXc-TeX-math-I\" style=\"padding-top: 0.46em; padding-bottom: 0.307em; padding-right: 0.045em;\">C</span></span></span><span class=\"mjx-sub\" style=\"font-size: 70.7%; vertical-align: -0.212em; padding-right: 0.071em;\"><span id=\"MJXc-Node-152\" class=\"mjx-mn\" style=\"\"><span class=\"mjx-char MJXc-TeX-main-R\" style=\"padding-top: 0.358em; padding-bottom: 0.358em;\">1</span></span></span></span></span></span><span class=\"MJX_Assistive_MathML\" role=\"presentation\"><math xmlns=\"http://www.w3.org/1998/Math/MathML\"><msub><mi>C</mi><mn>1</mn></msub></math></span></span><script type=\"math/tex\" id=\"MathJax-Element-28\">C_1</script></var> <var><span class=\"MathJax_Preview\" style=\"color: inherit; display: none;\"></span><span id=\"MathJax-Element-29-Frame\" class=\"mjx-chtml MathJax_CHTML\" tabindex=\"0\" data-mathml=\"&lt;math xmlns=&quot;http://www.w3.org/1998/Math/MathML&quot;&gt;&lt;msub&gt;&lt;mi&gt;D&lt;/mi&gt;&lt;mn&gt;1&lt;/mn&gt;&lt;/msub&gt;&lt;/math&gt;\" role=\"presentation\" style=\"font-size: 123%; position: relative;\"><span id=\"MJXc-Node-153\" class=\"mjx-math\" aria-hidden=\"true\"><span id=\"MJXc-Node-154\" class=\"mjx-mrow\"><span id=\"MJXc-Node-155\" class=\"mjx-msubsup\"><span class=\"mjx-base\"><span id=\"MJXc-Node-156\" class=\"mjx-mi\"><span class=\"mjx-char MJXc-TeX-math-I\" style=\"padding-top: 0.46em; padding-bottom: 0.257em;\">D</span></span></span><span class=\"mjx-sub\" style=\"font-size: 70.7%; vertical-align: -0.212em; padding-right: 0.071em;\"><span id=\"MJXc-Node-157\" class=\"mjx-mn\" style=\"\"><span class=\"mjx-char MJXc-TeX-main-R\" style=\"padding-top: 0.358em; padding-bottom: 0.358em;\">1</span></span></span></span></span></span><span class=\"MJX_Assistive_MathML\" role=\"presentation\"><math xmlns=\"http://www.w3.org/1998/Math/MathML\"><msub><mi>D</mi><mn>1</mn></msub></math></span></span><script type=\"math/tex\" id=\"MathJax-Element-29\">D_1</script></var>\n",
    "<var><span class=\"MathJax_Preview\" style=\"color: inherit; display: none;\"></span><span id=\"MathJax-Element-30-Frame\" class=\"mjx-chtml MathJax_CHTML\" tabindex=\"0\" data-mathml=\"&lt;math xmlns=&quot;http://www.w3.org/1998/Math/MathML&quot;&gt;&lt;mo&gt;&amp;#x22EE;&lt;/mo&gt;&lt;/math&gt;\" role=\"presentation\" style=\"font-size: 123%; position: relative;\"><span id=\"MJXc-Node-158\" class=\"mjx-math\" aria-hidden=\"true\"><span id=\"MJXc-Node-159\" class=\"mjx-mrow\"><span id=\"MJXc-Node-160\" class=\"mjx-mo\"><span class=\"mjx-char MJXc-TeX-main-R\" style=\"padding-top: 1.019em; padding-bottom: 0.358em;\">⋮</span></span></span></span><span class=\"MJX_Assistive_MathML\" role=\"presentation\"><math xmlns=\"http://www.w3.org/1998/Math/MathML\"><mo>⋮</mo></math></span></span><script type=\"math/tex\" id=\"MathJax-Element-30\">\\vdots</script></var>\n",
    "<var><span class=\"MathJax_Preview\" style=\"color: inherit; display: none;\"></span><span id=\"MathJax-Element-31-Frame\" class=\"mjx-chtml MathJax_CHTML\" tabindex=\"0\" data-mathml=\"&lt;math xmlns=&quot;http://www.w3.org/1998/Math/MathML&quot;&gt;&lt;msub&gt;&lt;mi&gt;C&lt;/mi&gt;&lt;mi&gt;K&lt;/mi&gt;&lt;/msub&gt;&lt;/math&gt;\" role=\"presentation\" style=\"font-size: 123%; position: relative;\"><span id=\"MJXc-Node-161\" class=\"mjx-math\" aria-hidden=\"true\"><span id=\"MJXc-Node-162\" class=\"mjx-mrow\"><span id=\"MJXc-Node-163\" class=\"mjx-msubsup\"><span class=\"mjx-base\" style=\"margin-right: -0.045em;\"><span id=\"MJXc-Node-164\" class=\"mjx-mi\"><span class=\"mjx-char MJXc-TeX-math-I\" style=\"padding-top: 0.46em; padding-bottom: 0.307em; padding-right: 0.045em;\">C</span></span></span><span class=\"mjx-sub\" style=\"font-size: 70.7%; vertical-align: -0.212em; padding-right: 0.071em;\"><span id=\"MJXc-Node-165\" class=\"mjx-mi\" style=\"\"><span class=\"mjx-char MJXc-TeX-math-I\" style=\"padding-top: 0.46em; padding-bottom: 0.257em; padding-right: 0.04em;\">K</span></span></span></span></span></span><span class=\"MJX_Assistive_MathML\" role=\"presentation\"><math xmlns=\"http://www.w3.org/1998/Math/MathML\"><msub><mi>C</mi><mi>K</mi></msub></math></span></span><script type=\"math/tex\" id=\"MathJax-Element-31\">C_K</script></var> <var><span class=\"MathJax_Preview\" style=\"color: inherit; display: none;\"></span><span id=\"MathJax-Element-32-Frame\" class=\"mjx-chtml MathJax_CHTML\" tabindex=\"0\" data-mathml=\"&lt;math xmlns=&quot;http://www.w3.org/1998/Math/MathML&quot;&gt;&lt;msub&gt;&lt;mi&gt;D&lt;/mi&gt;&lt;mi&gt;K&lt;/mi&gt;&lt;/msub&gt;&lt;/math&gt;\" role=\"presentation\" style=\"font-size: 123%; position: relative;\"><span id=\"MJXc-Node-166\" class=\"mjx-math\" aria-hidden=\"true\"><span id=\"MJXc-Node-167\" class=\"mjx-mrow\"><span id=\"MJXc-Node-168\" class=\"mjx-msubsup\"><span class=\"mjx-base\"><span id=\"MJXc-Node-169\" class=\"mjx-mi\"><span class=\"mjx-char MJXc-TeX-math-I\" style=\"padding-top: 0.46em; padding-bottom: 0.257em;\">D</span></span></span><span class=\"mjx-sub\" style=\"font-size: 70.7%; vertical-align: -0.212em; padding-right: 0.071em;\"><span id=\"MJXc-Node-170\" class=\"mjx-mi\" style=\"\"><span class=\"mjx-char MJXc-TeX-math-I\" style=\"padding-top: 0.46em; padding-bottom: 0.257em; padding-right: 0.04em;\">K</span></span></span></span></span></span><span class=\"MJX_Assistive_MathML\" role=\"presentation\"><math xmlns=\"http://www.w3.org/1998/Math/MathML\"><msub><mi>D</mi><mi>K</mi></msub></math></span></span><script type=\"math/tex\" id=\"MathJax-Element-32\">D_K</script></var>\n",
    "</pre>\n",
    "</section>\n",
    "</div>\n",
    "\n",
    "<div class=\"part\">\n",
    "<section>\n",
    "<h3>出力</h3><p>答えを出力せよ。</p>\n",
    "</section>\n",
    "</div>\n",
    "</div>\n",
    "\n",
    "<hr>\n",
    "<div class=\"part\">\n",
    "<section>\n",
    "<h3>入力例 1 <span class=\"btn btn-default btn-sm btn-copy\" tabindex=\"0\" data-toggle=\"tooltip\" data-trigger=\"manual\" title=\"\" data-target=\"pre-sample0\" data-original-title=\"Copied!\">Copy</span></h3><div class=\"div-btn-copy\"><span class=\"btn-copy btn-pre\" tabindex=\"0\" data-toggle=\"tooltip\" data-trigger=\"manual\" title=\"\" data-target=\"pre-sample0\" data-original-title=\"Copied!\">Copy</span></div><pre id=\"pre-sample0\">4 4\n",
    "1 2\n",
    "1 3\n",
    "2 4\n",
    "3 4\n",
    "3\n",
    "1 2\n",
    "1 3\n",
    "2 3\n",
    "</pre>\n",
    "</section>\n",
    "</div>\n",
    "\n",
    "<div class=\"part\">\n",
    "<section>\n",
    "<h3>出力例 1 <span class=\"btn btn-default btn-sm btn-copy\" tabindex=\"0\" data-toggle=\"tooltip\" data-trigger=\"manual\" title=\"\" data-target=\"pre-sample1\" data-original-title=\"Copied!\">Copy</span></h3><div class=\"div-btn-copy\"><span class=\"btn-copy btn-pre\" tabindex=\"0\" data-toggle=\"tooltip\" data-trigger=\"manual\" title=\"\" data-target=\"pre-sample1\" data-original-title=\"Copied!\">Copy</span></div><pre id=\"pre-sample1\">2\n",
    "</pre>\n",
    "<p>例えば、人 <var><span class=\"MathJax_Preview\" style=\"color: inherit; display: none;\"></span><span id=\"MathJax-Element-33-Frame\" class=\"mjx-chtml MathJax_CHTML\" tabindex=\"0\" data-mathml=\"&lt;math xmlns=&quot;http://www.w3.org/1998/Math/MathML&quot;&gt;&lt;mn&gt;1&lt;/mn&gt;&lt;mo&gt;,&lt;/mo&gt;&lt;mn&gt;2&lt;/mn&gt;&lt;mo&gt;,&lt;/mo&gt;&lt;mn&gt;3&lt;/mn&gt;&lt;/math&gt;\" role=\"presentation\" style=\"font-size: 114%; position: relative;\"><span id=\"MJXc-Node-171\" class=\"mjx-math\" aria-hidden=\"true\"><span id=\"MJXc-Node-172\" class=\"mjx-mrow\"><span id=\"MJXc-Node-173\" class=\"mjx-mn\"><span class=\"mjx-char MJXc-TeX-main-R\" style=\"padding-top: 0.387em; padding-bottom: 0.332em;\">1</span></span><span id=\"MJXc-Node-174\" class=\"mjx-mo\"><span class=\"mjx-char MJXc-TeX-main-R\" style=\"margin-top: -0.162em; padding-bottom: 0.551em;\">,</span></span><span id=\"MJXc-Node-175\" class=\"mjx-mn MJXc-space1\"><span class=\"mjx-char MJXc-TeX-main-R\" style=\"padding-top: 0.387em; padding-bottom: 0.332em;\">2</span></span><span id=\"MJXc-Node-176\" class=\"mjx-mo\"><span class=\"mjx-char MJXc-TeX-main-R\" style=\"margin-top: -0.162em; padding-bottom: 0.551em;\">,</span></span><span id=\"MJXc-Node-177\" class=\"mjx-mn MJXc-space1\"><span class=\"mjx-char MJXc-TeX-main-R\" style=\"padding-top: 0.387em; padding-bottom: 0.387em;\">3</span></span></span></span><span class=\"MJX_Assistive_MathML\" role=\"presentation\"><math xmlns=\"http://www.w3.org/1998/Math/MathML\"><mn>1</mn><mo>,</mo><mn>2</mn><mo>,</mo><mn>3</mn></math></span></span><script type=\"math/tex\" id=\"MathJax-Element-33\">1, 2, 3</script></var> がそれぞれ皿 <var><span class=\"MathJax_Preview\" style=\"color: inherit; display: none;\"></span><span id=\"MathJax-Element-34-Frame\" class=\"mjx-chtml MathJax_CHTML\" tabindex=\"0\" data-mathml=\"&lt;math xmlns=&quot;http://www.w3.org/1998/Math/MathML&quot;&gt;&lt;mn&gt;1&lt;/mn&gt;&lt;mo&gt;,&lt;/mo&gt;&lt;mn&gt;3&lt;/mn&gt;&lt;mo&gt;,&lt;/mo&gt;&lt;mn&gt;2&lt;/mn&gt;&lt;/math&gt;\" role=\"presentation\" style=\"font-size: 114%; position: relative;\"><span id=\"MJXc-Node-178\" class=\"mjx-math\" aria-hidden=\"true\"><span id=\"MJXc-Node-179\" class=\"mjx-mrow\"><span id=\"MJXc-Node-180\" class=\"mjx-mn\"><span class=\"mjx-char MJXc-TeX-main-R\" style=\"padding-top: 0.387em; padding-bottom: 0.332em;\">1</span></span><span id=\"MJXc-Node-181\" class=\"mjx-mo\"><span class=\"mjx-char MJXc-TeX-main-R\" style=\"margin-top: -0.162em; padding-bottom: 0.551em;\">,</span></span><span id=\"MJXc-Node-182\" class=\"mjx-mn MJXc-space1\"><span class=\"mjx-char MJXc-TeX-main-R\" style=\"padding-top: 0.387em; padding-bottom: 0.387em;\">3</span></span><span id=\"MJXc-Node-183\" class=\"mjx-mo\"><span class=\"mjx-char MJXc-TeX-main-R\" style=\"margin-top: -0.162em; padding-bottom: 0.551em;\">,</span></span><span id=\"MJXc-Node-184\" class=\"mjx-mn MJXc-space1\"><span class=\"mjx-char MJXc-TeX-main-R\" style=\"padding-top: 0.387em; padding-bottom: 0.332em;\">2</span></span></span></span><span class=\"MJX_Assistive_MathML\" role=\"presentation\"><math xmlns=\"http://www.w3.org/1998/Math/MathML\"><mn>1</mn><mo>,</mo><mn>3</mn><mo>,</mo><mn>2</mn></math></span></span><script type=\"math/tex\" id=\"MathJax-Element-34\">1, 3, 2</script></var> にボールを置くと、条件 <var><span class=\"MathJax_Preview\" style=\"color: inherit; display: none;\"></span><span id=\"MathJax-Element-35-Frame\" class=\"mjx-chtml MathJax_CHTML\" tabindex=\"0\" data-mathml=\"&lt;math xmlns=&quot;http://www.w3.org/1998/Math/MathML&quot;&gt;&lt;mn&gt;1&lt;/mn&gt;&lt;mo&gt;,&lt;/mo&gt;&lt;mn&gt;2&lt;/mn&gt;&lt;/math&gt;\" role=\"presentation\" style=\"font-size: 114%; position: relative;\"><span id=\"MJXc-Node-185\" class=\"mjx-math\" aria-hidden=\"true\"><span id=\"MJXc-Node-186\" class=\"mjx-mrow\"><span id=\"MJXc-Node-187\" class=\"mjx-mn\"><span class=\"mjx-char MJXc-TeX-main-R\" style=\"padding-top: 0.387em; padding-bottom: 0.332em;\">1</span></span><span id=\"MJXc-Node-188\" class=\"mjx-mo\"><span class=\"mjx-char MJXc-TeX-main-R\" style=\"margin-top: -0.162em; padding-bottom: 0.551em;\">,</span></span><span id=\"MJXc-Node-189\" class=\"mjx-mn MJXc-space1\"><span class=\"mjx-char MJXc-TeX-main-R\" style=\"padding-top: 0.387em; padding-bottom: 0.332em;\">2</span></span></span></span><span class=\"MJX_Assistive_MathML\" role=\"presentation\"><math xmlns=\"http://www.w3.org/1998/Math/MathML\"><mn>1</mn><mo>,</mo><mn>2</mn></math></span></span><script type=\"math/tex\" id=\"MathJax-Element-35\">1, 2</script></var> の <var><span class=\"MathJax_Preview\" style=\"color: inherit; display: none;\"></span><span id=\"MathJax-Element-36-Frame\" class=\"mjx-chtml MathJax_CHTML\" tabindex=\"0\" data-mathml=\"&lt;math xmlns=&quot;http://www.w3.org/1998/Math/MathML&quot;&gt;&lt;mn&gt;2&lt;/mn&gt;&lt;/math&gt;\" role=\"presentation\" style=\"font-size: 114%; position: relative;\"><span id=\"MJXc-Node-190\" class=\"mjx-math\" aria-hidden=\"true\"><span id=\"MJXc-Node-191\" class=\"mjx-mrow\"><span id=\"MJXc-Node-192\" class=\"mjx-mn\"><span class=\"mjx-char MJXc-TeX-main-R\" style=\"padding-top: 0.387em; padding-bottom: 0.332em;\">2</span></span></span></span><span class=\"MJX_Assistive_MathML\" role=\"presentation\"><math xmlns=\"http://www.w3.org/1998/Math/MathML\"><mn>2</mn></math></span></span><script type=\"math/tex\" id=\"MathJax-Element-36\">2</script></var> つが満たされます。</p>\n",
    "</section>\n",
    "</div>\n",
    "\n",
    "<hr>\n",
    "<div class=\"part\">\n",
    "<section>\n",
    "<h3>入力例 2 <span class=\"btn btn-default btn-sm btn-copy\" tabindex=\"0\" data-toggle=\"tooltip\" data-trigger=\"manual\" title=\"\" data-target=\"pre-sample2\" data-original-title=\"Copied!\">Copy</span></h3><div class=\"div-btn-copy\"><span class=\"btn-copy btn-pre\" tabindex=\"0\" data-toggle=\"tooltip\" data-trigger=\"manual\" title=\"\" data-target=\"pre-sample2\" data-original-title=\"Copied!\">Copy</span></div><pre id=\"pre-sample2\">4 4\n",
    "1 2\n",
    "1 3\n",
    "2 4\n",
    "3 4\n",
    "4\n",
    "3 4\n",
    "1 2\n",
    "2 4\n",
    "2 4\n",
    "</pre>\n",
    "</section>\n",
    "</div>\n",
    "\n",
    "<div class=\"part\">\n",
    "<section>\n",
    "<h3>出力例 2 <span class=\"btn btn-default btn-sm btn-copy\" tabindex=\"0\" data-toggle=\"tooltip\" data-trigger=\"manual\" title=\"\" data-target=\"pre-sample3\" data-original-title=\"Copied!\">Copy</span></h3><div class=\"div-btn-copy\"><span class=\"btn-copy btn-pre\" tabindex=\"0\" data-toggle=\"tooltip\" data-trigger=\"manual\" title=\"\" data-target=\"pre-sample3\" data-original-title=\"Copied!\">Copy</span></div><pre id=\"pre-sample3\">4\n",
    "</pre>\n",
    "<p>例えば、人 <var><span class=\"MathJax_Preview\" style=\"color: inherit; display: none;\"></span><span id=\"MathJax-Element-37-Frame\" class=\"mjx-chtml MathJax_CHTML\" tabindex=\"0\" data-mathml=\"&lt;math xmlns=&quot;http://www.w3.org/1998/Math/MathML&quot;&gt;&lt;mn&gt;1&lt;/mn&gt;&lt;mo&gt;,&lt;/mo&gt;&lt;mn&gt;2&lt;/mn&gt;&lt;mo&gt;,&lt;/mo&gt;&lt;mn&gt;3&lt;/mn&gt;&lt;mo&gt;,&lt;/mo&gt;&lt;mn&gt;4&lt;/mn&gt;&lt;/math&gt;\" role=\"presentation\" style=\"font-size: 114%; position: relative;\"><span id=\"MJXc-Node-193\" class=\"mjx-math\" aria-hidden=\"true\"><span id=\"MJXc-Node-194\" class=\"mjx-mrow\"><span id=\"MJXc-Node-195\" class=\"mjx-mn\"><span class=\"mjx-char MJXc-TeX-main-R\" style=\"padding-top: 0.387em; padding-bottom: 0.332em;\">1</span></span><span id=\"MJXc-Node-196\" class=\"mjx-mo\"><span class=\"mjx-char MJXc-TeX-main-R\" style=\"margin-top: -0.162em; padding-bottom: 0.551em;\">,</span></span><span id=\"MJXc-Node-197\" class=\"mjx-mn MJXc-space1\"><span class=\"mjx-char MJXc-TeX-main-R\" style=\"padding-top: 0.387em; padding-bottom: 0.332em;\">2</span></span><span id=\"MJXc-Node-198\" class=\"mjx-mo\"><span class=\"mjx-char MJXc-TeX-main-R\" style=\"margin-top: -0.162em; padding-bottom: 0.551em;\">,</span></span><span id=\"MJXc-Node-199\" class=\"mjx-mn MJXc-space1\"><span class=\"mjx-char MJXc-TeX-main-R\" style=\"padding-top: 0.387em; padding-bottom: 0.387em;\">3</span></span><span id=\"MJXc-Node-200\" class=\"mjx-mo\"><span class=\"mjx-char MJXc-TeX-main-R\" style=\"margin-top: -0.162em; padding-bottom: 0.551em;\">,</span></span><span id=\"MJXc-Node-201\" class=\"mjx-mn MJXc-space1\"><span class=\"mjx-char MJXc-TeX-main-R\" style=\"padding-top: 0.387em; padding-bottom: 0.332em;\">4</span></span></span></span><span class=\"MJX_Assistive_MathML\" role=\"presentation\"><math xmlns=\"http://www.w3.org/1998/Math/MathML\"><mn>1</mn><mo>,</mo><mn>2</mn><mo>,</mo><mn>3</mn><mo>,</mo><mn>4</mn></math></span></span><script type=\"math/tex\" id=\"MathJax-Element-37\">1, 2, 3, 4</script></var> がそれぞれ皿 <var><span class=\"MathJax_Preview\" style=\"color: inherit; display: none;\"></span><span id=\"MathJax-Element-38-Frame\" class=\"mjx-chtml MathJax_CHTML\" tabindex=\"0\" data-mathml=\"&lt;math xmlns=&quot;http://www.w3.org/1998/Math/MathML&quot;&gt;&lt;mn&gt;3&lt;/mn&gt;&lt;mo&gt;,&lt;/mo&gt;&lt;mn&gt;1&lt;/mn&gt;&lt;mo&gt;,&lt;/mo&gt;&lt;mn&gt;2&lt;/mn&gt;&lt;mo&gt;,&lt;/mo&gt;&lt;mn&gt;4&lt;/mn&gt;&lt;/math&gt;\" role=\"presentation\" style=\"font-size: 114%; position: relative;\"><span id=\"MJXc-Node-202\" class=\"mjx-math\" aria-hidden=\"true\"><span id=\"MJXc-Node-203\" class=\"mjx-mrow\"><span id=\"MJXc-Node-204\" class=\"mjx-mn\"><span class=\"mjx-char MJXc-TeX-main-R\" style=\"padding-top: 0.387em; padding-bottom: 0.387em;\">3</span></span><span id=\"MJXc-Node-205\" class=\"mjx-mo\"><span class=\"mjx-char MJXc-TeX-main-R\" style=\"margin-top: -0.162em; padding-bottom: 0.551em;\">,</span></span><span id=\"MJXc-Node-206\" class=\"mjx-mn MJXc-space1\"><span class=\"mjx-char MJXc-TeX-main-R\" style=\"padding-top: 0.387em; padding-bottom: 0.332em;\">1</span></span><span id=\"MJXc-Node-207\" class=\"mjx-mo\"><span class=\"mjx-char MJXc-TeX-main-R\" style=\"margin-top: -0.162em; padding-bottom: 0.551em;\">,</span></span><span id=\"MJXc-Node-208\" class=\"mjx-mn MJXc-space1\"><span class=\"mjx-char MJXc-TeX-main-R\" style=\"padding-top: 0.387em; padding-bottom: 0.332em;\">2</span></span><span id=\"MJXc-Node-209\" class=\"mjx-mo\"><span class=\"mjx-char MJXc-TeX-main-R\" style=\"margin-top: -0.162em; padding-bottom: 0.551em;\">,</span></span><span id=\"MJXc-Node-210\" class=\"mjx-mn MJXc-space1\"><span class=\"mjx-char MJXc-TeX-main-R\" style=\"padding-top: 0.387em; padding-bottom: 0.332em;\">4</span></span></span></span><span class=\"MJX_Assistive_MathML\" role=\"presentation\"><math xmlns=\"http://www.w3.org/1998/Math/MathML\"><mn>3</mn><mo>,</mo><mn>1</mn><mo>,</mo><mn>2</mn><mo>,</mo><mn>4</mn></math></span></span><script type=\"math/tex\" id=\"MathJax-Element-38\">3, 1, 2, 4</script></var> にボールを置くと、全ての条件が満たされます。</p>\n",
    "</section>\n",
    "</div>\n",
    "\n",
    "<hr>\n",
    "<div class=\"part\">\n",
    "<section>\n",
    "<h3>入力例 3 <span class=\"btn btn-default btn-sm btn-copy\" tabindex=\"0\" data-toggle=\"tooltip\" data-trigger=\"manual\" title=\"\" data-target=\"pre-sample4\" data-original-title=\"Copied!\">Copy</span></h3><div class=\"div-btn-copy\"><span class=\"btn-copy btn-pre\" tabindex=\"0\" data-toggle=\"tooltip\" data-trigger=\"manual\" title=\"\" data-target=\"pre-sample4\" data-original-title=\"Copied!\">Copy</span></div><pre id=\"pre-sample4\">6 12\n",
    "2 3\n",
    "4 6\n",
    "1 2\n",
    "4 5\n",
    "2 6\n",
    "1 5\n",
    "4 5\n",
    "1 3\n",
    "1 2\n",
    "2 6\n",
    "2 3\n",
    "2 5\n",
    "5\n",
    "3 5\n",
    "1 4\n",
    "2 6\n",
    "4 6\n",
    "5 6\n",
    "</pre>\n",
    "</section>\n",
    "</div>\n",
    "\n",
    "<div class=\"part\">\n",
    "<section>\n",
    "<h3>出力例 3 <span class=\"btn btn-default btn-sm btn-copy\" tabindex=\"0\" data-toggle=\"tooltip\" data-trigger=\"manual\" title=\"\" data-target=\"pre-sample5\" data-original-title=\"Copied!\">Copy</span></h3><div class=\"div-btn-copy\"><span class=\"btn-copy btn-pre\" tabindex=\"0\" data-toggle=\"tooltip\" data-trigger=\"manual\" title=\"\" data-target=\"pre-sample5\" data-original-title=\"Copied!\">Copy</span></div><pre id=\"pre-sample5\">9\n",
    "</pre></section>\n",
    "</div>\n",
    "</span>"
   ]
  },
  {
   "cell_type": "code",
   "execution_count": 9,
   "metadata": {},
   "outputs": [
    {
     "name": "stdin",
     "output_type": "stream",
     "text": [
      " 4 4 \n",
      " 1 2\n",
      "  1 3\n",
      "  2 4\n",
      "  3 4 \n",
      " 3 \n",
      " 1 2 \n",
      " 1 3 \n",
      " 2 3\n"
     ]
    }
   ],
   "source": [
    "N, M = map(int, input().split())\n",
    "A, B= [], []\n",
    "for m in range(M):\n",
    "    a, b =  map(int, input().split())\n",
    "    A.append(a)\n",
    "    B.append(b)\n",
    "K = int(input())\n",
    "C, D = [], []\n",
    "for k in range(K):\n",
    "    c, d = map(int, input().split())\n",
    "    C.append(c)\n",
    "    D.append(d)\n",
    "\n"
   ]
  },
  {
   "cell_type": "code",
   "execution_count": 10,
   "metadata": {},
   "outputs": [
    {
     "name": "stdout",
     "output_type": "stream",
     "text": [
      "4 4\n",
      "[1, 1, 2, 3] [2, 3, 4, 4]\n",
      "3\n",
      "[1, 1, 2] [2, 3, 3]\n"
     ]
    }
   ],
   "source": [
    "print(N, M)\n",
    "print(A, B)\n",
    "print(K)\n",
    "print(C, D)"
   ]
  },
  {
   "cell_type": "code",
   "execution_count": 68,
   "metadata": {},
   "outputs": [],
   "source": [
    "import itertools\n",
    "\n",
    "CD = [C,D]\n",
    "CD = list(zip(*CD))\n",
    "iteration = []\n",
    "for k in range(2**(K)):\n",
    "    iteration.append([int(n) for n in list(str(bin(k))[2:].zfill(K))])\n",
    "\n",
    "candidate = []\n",
    "for i in iteration:\n",
    "    candidate.append([ cd[a] for a, cd in zip(i, CD)]) \n",
    "\n",
    "b_list = []\n",
    "for can in candidate:\n",
    "    buffer = 0\n",
    "    for pair in itertools.combinations(can, 2):\n",
    "        buffer += 0 if pair[0]-pair[1] == 0 else 1\n",
    "    b_list.append(buffer)\n",
    "max_valiation = candidate[b_list.index(max(b_list))]\n",
    "\n",
    "bool_A = []\n",
    "bool_B = []\n",
    "for element in max_valiation:\n",
    "    bool_A.append([1 if a==element else 0 for a in A])\n",
    "    bool_B.append([1 if a==element else 0 for a in B])\n",
    "bool_A = list(zip(*bool_A))\n",
    "bool_B = list(zip(*bool_B))\n",
    "import functools\n",
    "import operator\n",
    "prod = functools.partial(functools.reduce, operator.mul)\n",
    "buffer = list(zip(*[[1 if sum(a)>0 else 0 for a in bool_A],[1 if sum(a)>0 else 0 for a in bool_B]]))\n",
    "print(sum([1 if a[0]+a[1] == 2 else 0 for a in buffer]))"
   ]
  },
  {
   "cell_type": "code",
   "execution_count": 69,
   "metadata": {},
   "outputs": [
    {
     "data": {
      "text/plain": [
       "[1, 3, 2]"
      ]
     },
     "execution_count": 69,
     "metadata": {},
     "output_type": "execute_result"
    }
   ],
   "source": [
    "max_valiation"
   ]
  },
  {
   "cell_type": "code",
   "execution_count": 92,
   "metadata": {},
   "outputs": [],
   "source": []
  },
  {
   "cell_type": "code",
   "execution_count": 93,
   "metadata": {},
   "outputs": [
    {
     "data": {
      "text/plain": [
       "[[1, 1, 0, 0], [0, 0, 0, 1], [0, 0, 1, 0]]"
      ]
     },
     "execution_count": 93,
     "metadata": {},
     "output_type": "execute_result"
    }
   ],
   "source": [
    "bool_A"
   ]
  },
  {
   "cell_type": "code",
   "execution_count": 94,
   "metadata": {},
   "outputs": [],
   "source": []
  },
  {
   "cell_type": "code",
   "execution_count": 111,
   "metadata": {},
   "outputs": [
    {
     "data": {
      "text/plain": [
       "2"
      ]
     },
     "execution_count": 111,
     "metadata": {},
     "output_type": "execute_result"
    }
   ],
   "source": []
  },
  {
   "cell_type": "code",
   "execution_count": null,
   "metadata": {},
   "outputs": [],
   "source": []
  }
 ],
 "metadata": {
  "kernelspec": {
   "display_name": "Python 3",
   "language": "python",
   "name": "python3"
  },
  "language_info": {
   "codemirror_mode": {
    "name": "ipython",
    "version": 3
   },
   "file_extension": ".py",
   "mimetype": "text/x-python",
   "name": "python",
   "nbconvert_exporter": "python",
   "pygments_lexer": "ipython3",
   "version": "3.8.5"
  }
 },
 "nbformat": 4,
 "nbformat_minor": 4
}
