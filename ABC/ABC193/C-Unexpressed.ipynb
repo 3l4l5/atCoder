{
 "cells": [
  {
   "cell_type": "markdown",
   "id": "cd124d33",
   "metadata": {},
   "source": [
    "# C-Unexpressed"
   ]
  },
  {
   "cell_type": "code",
   "execution_count": 30,
   "id": "22d23138",
   "metadata": {},
   "outputs": [
    {
     "name": "stdin",
     "output_type": "stream",
     "text": [
      " 100000\n"
     ]
    }
   ],
   "source": [
    "N = int(input())"
   ]
  },
  {
   "cell_type": "code",
   "execution_count": 40,
   "id": "6906c7b3",
   "metadata": {},
   "outputs": [
    {
     "name": "stdin",
     "output_type": "stream",
     "text": [
      " 100000\n"
     ]
    },
    {
     "name": "stdout",
     "output_type": "stream",
     "text": [
      "99634\n"
     ]
    }
   ],
   "source": [
    "N = int(input())\n",
    "count = 0\n",
    "d = []\n",
    "for a in range(2,int((N+1)**0.5)+1):\n",
    "    b = 2\n",
    "    while N >= a**b:\n",
    "        d.append(a**b)\n",
    "        b += 1\n",
    "print(N - len(set(d)))"
   ]
  },
  {
   "cell_type": "code",
   "execution_count": 32,
   "id": "b815dc88",
   "metadata": {},
   "outputs": [
    {
     "data": {
      "text/plain": [
       "99634"
      ]
     },
     "execution_count": 32,
     "metadata": {},
     "output_type": "execute_result"
    }
   ],
   "source": [
    "print(N - len(set(d)))"
   ]
  },
  {
   "cell_type": "code",
   "execution_count": 33,
   "id": "84aad8c7",
   "metadata": {},
   "outputs": [],
   "source": [
    "from math import sqrt"
   ]
  },
  {
   "cell_type": "code",
   "execution_count": 35,
   "id": "6bd2d22e",
   "metadata": {},
   "outputs": [
    {
     "data": {
      "text/plain": [
       "316"
      ]
     },
     "execution_count": 35,
     "metadata": {},
     "output_type": "execute_result"
    }
   ],
   "source": [
    "int(sqrt(N+1))"
   ]
  },
  {
   "cell_type": "code",
   "execution_count": null,
   "id": "3794f69f",
   "metadata": {},
   "outputs": [],
   "source": []
  }
 ],
 "metadata": {
  "kernelspec": {
   "display_name": "Python 3",
   "language": "python",
   "name": "python3"
  },
  "language_info": {
   "codemirror_mode": {
    "name": "ipython",
    "version": 3
   },
   "file_extension": ".py",
   "mimetype": "text/x-python",
   "name": "python",
   "nbconvert_exporter": "python",
   "pygments_lexer": "ipython3",
   "version": "3.8.8"
  }
 },
 "nbformat": 4,
 "nbformat_minor": 5
}
