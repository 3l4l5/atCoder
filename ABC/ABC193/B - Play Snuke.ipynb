{
 "cells": [
  {
   "cell_type": "markdown",
   "id": "738d7126",
   "metadata": {},
   "source": [
    "# B - Play Snuke"
   ]
  },
  {
   "cell_type": "code",
   "execution_count": 2,
   "id": "d6a18a04",
   "metadata": {},
   "outputs": [
    {
     "name": "stdin",
     "output_type": "stream",
     "text": [
      " 3\n",
      " 3 9 5\n",
      " 4 8 5\n",
      " 5 7 5\n"
     ]
    }
   ],
   "source": [
    "N = int(input())\n",
    "APX = []\n",
    "for i in [0]*N:\n",
    "    APX.append([int(n) for n in input().split(\" \")])"
   ]
  },
  {
   "cell_type": "code",
   "execution_count": 8,
   "id": "6349bdbc",
   "metadata": {},
   "outputs": [],
   "source": [
    "price = []\n",
    "for i in APX:\n",
    "    price.append(i[1] if i[2] > i[0] else 10**9+1)"
   ]
  },
  {
   "cell_type": "code",
   "execution_count": 12,
   "id": "1b4ea4e2",
   "metadata": {},
   "outputs": [
    {
     "name": "stdout",
     "output_type": "stream",
     "text": [
      "8\n"
     ]
    }
   ],
   "source": [
    "print(min(price) if max(price) == 10**9+1 else -1)"
   ]
  },
  {
   "cell_type": "code",
   "execution_count": 16,
   "id": "ec97d57d",
   "metadata": {},
   "outputs": [
    {
     "name": "stdin",
     "output_type": "stream",
     "text": [
      " 10\n",
      " 158260522 877914575 602436426\n",
      " 24979445 861648772 623690081\n",
      " 433933447 476190629 262703497\n",
      " 211047202 971407775 628894325\n",
      " 731963982 822804784 450968417\n",
      " 430302156 982631932 161735902\n",
      " 880895728 923078537 707723857\n",
      " 189330739 910286918 802329211\n",
      " 404539679 303238506 317063340\n",
      " 492686568 773361868 125660016\n"
     ]
    },
    {
     "name": "stdout",
     "output_type": "stream",
     "text": [
      "861648772\n"
     ]
    }
   ],
   "source": [
    "N = int(input())\n",
    "APX = []\n",
    "for i in [0]*N:\n",
    "    APX.append([int(n) for n in input().split(\" \")])\n",
    "price = []\n",
    "for i in APX:\n",
    "    price.append(i[1] if i[2] > i[0] else 10**9+1)\n",
    "print(-1 if min(price) == 10**9+1 else min(price))"
   ]
  },
  {
   "cell_type": "code",
   "execution_count": 14,
   "id": "a0fc366b",
   "metadata": {},
   "outputs": [
    {
     "data": {
      "text/plain": [
       "True"
      ]
     },
     "execution_count": 14,
     "metadata": {},
     "output_type": "execute_result"
    }
   ],
   "source": [
    "max(price) == 10**9+1"
   ]
  },
  {
   "cell_type": "code",
   "execution_count": null,
   "id": "0e496495",
   "metadata": {},
   "outputs": [],
   "source": [
    "10\n",
    "158260522 877914575 602436426\n",
    "24979445 861648772 623690081\n",
    "433933447 476190629 262703497\n",
    "211047202 971407775 628894325\n",
    "731963982 822804784 450968417\n",
    "430302156 982631932 161735902\n",
    "880895728 923078537 707723857\n",
    "189330739 910286918 802329211\n",
    "404539679 303238506 317063340\n",
    "492686568 773361868 125660016"
   ]
  }
 ],
 "metadata": {
  "kernelspec": {
   "display_name": "Python 3",
   "language": "python",
   "name": "python3"
  },
  "language_info": {
   "codemirror_mode": {
    "name": "ipython",
    "version": 3
   },
   "file_extension": ".py",
   "mimetype": "text/x-python",
   "name": "python",
   "nbconvert_exporter": "python",
   "pygments_lexer": "ipython3",
   "version": "3.8.8"
  }
 },
 "nbformat": 4,
 "nbformat_minor": 5
}
