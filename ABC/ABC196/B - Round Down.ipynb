{
 "cells": [
  {
   "cell_type": "markdown",
   "id": "e9506082",
   "metadata": {},
   "source": [
    "# B - Round Down"
   ]
  },
  {
   "cell_type": "code",
   "execution_count": 13,
   "id": "28656f4e",
   "metadata": {},
   "outputs": [
    {
     "name": "stdin",
     "output_type": "stream",
     "text": [
      " 0\n"
     ]
    }
   ],
   "source": [
    "X = str(input())"
   ]
  },
  {
   "cell_type": "code",
   "execution_count": null,
   "id": "96ef2030",
   "metadata": {},
   "outputs": [],
   "source": [
    "y = \"\"\n",
    "for x in X:\n",
    "    if x != \".\":\n",
    "        y+=x\n",
    "    else:\n",
    "        break\n",
    "print(int(y))    "
   ]
  },
  {
   "cell_type": "code",
   "execution_count": 5,
   "id": "b0323f5b",
   "metadata": {},
   "outputs": [
    {
     "data": {
      "text/plain": [
       "84939825309432916635287552"
      ]
     },
     "execution_count": 5,
     "metadata": {},
     "output_type": "execute_result"
    }
   ],
   "source": [
    "X"
   ]
  },
  {
   "cell_type": "code",
   "execution_count": null,
   "id": "330b7a43",
   "metadata": {},
   "outputs": [],
   "source": [
    "X = str(input())\n",
    "y = \"\"\n",
    "for x in X:\n",
    "    if x != \".\":\n",
    "        y+=x\n",
    "    else:\n",
    "        break\n",
    "print(int(y))    "
   ]
  }
 ],
 "metadata": {
  "kernelspec": {
   "display_name": "Python 3",
   "language": "python",
   "name": "python3"
  },
  "language_info": {
   "codemirror_mode": {
    "name": "ipython",
    "version": 3
   },
   "file_extension": ".py",
   "mimetype": "text/x-python",
   "name": "python",
   "nbconvert_exporter": "python",
   "pygments_lexer": "ipython3",
   "version": "3.8.8"
  }
 },
 "nbformat": 4,
 "nbformat_minor": 5
}
