{
 "cells": [
  {
   "cell_type": "markdown",
   "id": "3778ffbe",
   "metadata": {},
   "source": [
    "# A - Difference Max"
   ]
  },
  {
   "cell_type": "code",
   "execution_count": 2,
   "id": "9b96f8c5",
   "metadata": {},
   "outputs": [
    {
     "name": "stdin",
     "output_type": "stream",
     "text": [
      " 0 10\n",
      " 0 10\n"
     ]
    }
   ],
   "source": [
    "a, b = [int(a) for a in input().split(\" \")]\n",
    "c, d = [int(a) for a in input().split(\" \")]\n",
    "print(b-c)"
   ]
  },
  {
   "cell_type": "code",
   "execution_count": 3,
   "id": "6394a410",
   "metadata": {},
   "outputs": [
    {
     "name": "stdout",
     "output_type": "stream",
     "text": [
      "10\n"
     ]
    }
   ],
   "source": [
    "print(b-c)"
   ]
  },
  {
   "cell_type": "code",
   "execution_count": null,
   "id": "1e08e07e",
   "metadata": {},
   "outputs": [],
   "source": []
  }
 ],
 "metadata": {
  "kernelspec": {
   "display_name": "Python 3",
   "language": "python",
   "name": "python3"
  },
  "language_info": {
   "codemirror_mode": {
    "name": "ipython",
    "version": 3
   },
   "file_extension": ".py",
   "mimetype": "text/x-python",
   "name": "python",
   "nbconvert_exporter": "python",
   "pygments_lexer": "ipython3",
   "version": "3.8.8"
  }
 },
 "nbformat": 4,
 "nbformat_minor": 5
}
