{
 "cells": [
  {
   "cell_type": "markdown",
   "id": "62683f61",
   "metadata": {},
   "source": [
    "# C-Squared Error"
   ]
  },
  {
   "cell_type": "code",
   "execution_count": 1,
   "id": "b4debd9f",
   "metadata": {},
   "outputs": [
    {
     "name": "stdin",
     "output_type": "stream",
     "text": [
      " 3\n",
      " 2 8 4\n"
     ]
    }
   ],
   "source": [
    "N = int(input())\n",
    "A = [int(a) for a in input().split(\" \")]"
   ]
  },
  {
   "cell_type": "code",
   "execution_count": 18,
   "id": "aeaa7153",
   "metadata": {},
   "outputs": [
    {
     "name": "stdin",
     "output_type": "stream",
     "text": [
      " 5\n",
      " -5 8 9 -4 -3\n"
     ]
    },
    {
     "name": "stdout",
     "output_type": "stream",
     "text": [
      "0\n",
      "1\n",
      "2\n",
      "3\n",
      "4\n",
      "950\n"
     ]
    }
   ],
   "source": [
    "N = int(input())\n",
    "A = [int(a) for a in input().split(\" \")]\n",
    "la = len(A)\n",
    "sum_ = 0\n",
    "for a in range(N):\n",
    "    buf = A[a]\n",
    "    sum_ += sum([(buf-b)**2 for b in A[a+1:]])\n",
    "print(sum_)"
   ]
  },
  {
   "cell_type": "code",
   "execution_count": 13,
   "id": "8545a589",
   "metadata": {},
   "outputs": [
    {
     "data": {
      "text/plain": [
       "56"
      ]
     },
     "execution_count": 13,
     "metadata": {},
     "output_type": "execute_result"
    }
   ],
   "source": [
    "sum_"
   ]
  },
  {
   "cell_type": "code",
   "execution_count": 19,
   "id": "371a02a5",
   "metadata": {},
   "outputs": [],
   "source": [
    "import numpy as np\n",
    "A = np.array(A)\n",
    "for a in range(N):\n",
    "    (A - A[a])[a:]\n"
   ]
  },
  {
   "cell_type": "code",
   "execution_count": 27,
   "id": "8d9438c5",
   "metadata": {},
   "outputs": [
    {
     "name": "stdin",
     "output_type": "stream",
     "text": [
      " 5\n",
      " -5 8 9 -4 -3\n"
     ]
    },
    {
     "name": "stdout",
     "output_type": "stream",
     "text": [
      "950\n"
     ]
    }
   ],
   "source": [
    "import numpy as np\n",
    "N = int(input())\n",
    "A = np.array([int(a) for a in input().split(\" \")])\n",
    "sum_ = 0\n",
    "for a in range(N):\n",
    "    sum_ += sum(np.square((A - A[a])[a:]))\n",
    "print(sum_)"
   ]
  },
  {
   "cell_type": "code",
   "execution_count": 25,
   "id": "a20ea91c",
   "metadata": {},
   "outputs": [
    {
     "data": {
      "text/plain": [
       "950"
      ]
     },
     "execution_count": 25,
     "metadata": {},
     "output_type": "execute_result"
    }
   ],
   "source": [
    "sum_"
   ]
  },
  {
   "cell_type": "markdown",
   "id": "d983b6d2",
   "metadata": {},
   "source": [
    "# 式変形で二重ループを回避\n",
    "### O(n^2) から　O(2n)へ"
   ]
  },
  {
   "cell_type": "code",
   "execution_count": 3,
   "id": "93d4b978",
   "metadata": {},
   "outputs": [
    {
     "name": "stdin",
     "output_type": "stream",
     "text": [
      " 3\n",
      " -5 8 9 -4 -3\n"
     ]
    },
    {
     "name": "stdout",
     "output_type": "stream",
     "text": [
      "560\n"
     ]
    }
   ],
   "source": [
    "N = int(input())\n",
    "A = [int(a) for a in input().split(\" \")]\n",
    "print(sum([a**2 for a in A])*N - sum(A)**2)"
   ]
  },
  {
   "cell_type": "code",
   "execution_count": 34,
   "id": "dae67f28",
   "metadata": {},
   "outputs": [
    {
     "data": {
      "text/plain": [
       "[25, 64, 81, 16, 9]"
      ]
     },
     "execution_count": 34,
     "metadata": {},
     "output_type": "execute_result"
    }
   ],
   "source": [
    "[a**2 for a in A]"
   ]
  },
  {
   "cell_type": "code",
   "execution_count": 32,
   "id": "f6aae206",
   "metadata": {},
   "outputs": [
    {
     "data": {
      "text/plain": [
       "array([-5,  8,  9, -4, -3])"
      ]
     },
     "execution_count": 32,
     "metadata": {},
     "output_type": "execute_result"
    }
   ],
   "source": [
    "A"
   ]
  },
  {
   "cell_type": "code",
   "execution_count": null,
   "id": "21c3e273",
   "metadata": {},
   "outputs": [],
   "source": []
  }
 ],
 "metadata": {
  "kernelspec": {
   "display_name": "Python 3",
   "language": "python",
   "name": "python3"
  },
  "language_info": {
   "codemirror_mode": {
    "name": "ipython",
    "version": 3
   },
   "file_extension": ".py",
   "mimetype": "text/x-python",
   "name": "python",
   "nbconvert_exporter": "python",
   "pygments_lexer": "ipython3",
   "version": "3.8.8"
  }
 },
 "nbformat": 4,
 "nbformat_minor": 5
}
