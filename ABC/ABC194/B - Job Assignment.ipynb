{
 "cells": [
  {
   "cell_type": "markdown",
   "id": "22f8d44b",
   "metadata": {},
   "source": [
    "# B - Job Assignment"
   ]
  },
  {
   "cell_type": "code",
   "execution_count": 5,
   "id": "70ac43c7",
   "metadata": {},
   "outputs": [
    {
     "name": "stdin",
     "output_type": "stream",
     "text": [
      " 3\n",
      " 8 5\n",
      " 4 4\n",
      " 7 9\n"
     ]
    }
   ],
   "source": [
    "N = int(input())\n",
    "A = []\n",
    "B = []\n",
    "for n in [0]*N:\n",
    "    a, b = [int(a) for a in input().split(\" \")]\n",
    "    A.append(a)\n",
    "    B.append(b)"
   ]
  },
  {
   "cell_type": "code",
   "execution_count": 30,
   "id": "55b2bd7a",
   "metadata": {},
   "outputs": [],
   "source": [
    "A1 = A.copy()\n",
    "B1 = B.copy()\n",
    "A2 = A.copy()\n",
    "B2 = B.copy()\n",
    "A3 = A.copy()\n",
    "B3 = B.copy()"
   ]
  },
  {
   "cell_type": "code",
   "execution_count": 31,
   "id": "a18d3679",
   "metadata": {},
   "outputs": [],
   "source": [
    "ans_list = []\n",
    "ans_list.append(min([a+b for a, b in zip(A1,B1)]))"
   ]
  },
  {
   "cell_type": "code",
   "execution_count": 34,
   "id": "aba50c67",
   "metadata": {},
   "outputs": [],
   "source": [
    "A2_list = [a == min(A2) for a in A2]\n",
    "B3_list = [a == min(A2) for a in B3]\n",
    "for i in range(len(A2)):\n",
    "    if A2_list[i]:\n",
    "        B2.pop(i)\n",
    "        ans_list.append(max(A2[i],min(B2)))\n",
    "for i in range(len(B3)):\n",
    "    if B3_list[i]:\n",
    "        A3.pop(i)\n",
    "        ans_list.append(max(B3[i],min(A3)))"
   ]
  },
  {
   "cell_type": "code",
   "execution_count": 35,
   "id": "6e97d844",
   "metadata": {},
   "outputs": [
    {
     "data": {
      "text/plain": [
       "5"
      ]
     },
     "execution_count": 35,
     "metadata": {},
     "output_type": "execute_result"
    }
   ],
   "source": [
    "min(ans_list)"
   ]
  },
  {
   "cell_type": "code",
   "execution_count": 36,
   "id": "8d2e0742",
   "metadata": {},
   "outputs": [
    {
     "name": "stdin",
     "output_type": "stream",
     "text": [
      " 3\n",
      " 11 7\n",
      " 3 2\n",
      " 6 7\n"
     ]
    },
    {
     "name": "stdout",
     "output_type": "stream",
     "text": [
      "5\n"
     ]
    }
   ],
   "source": [
    "N = int(input())\n",
    "A = []\n",
    "B = []\n",
    "for n in [0]*N:\n",
    "    a, b = [int(a) for a in input().split(\" \")]\n",
    "    A.append(a)\n",
    "    B.append(b)\n",
    "\n",
    "A1 = A.copy()\n",
    "B1 = B.copy()\n",
    "A2 = A.copy()\n",
    "B2 = B.copy()\n",
    "A3 = A.copy()\n",
    "B3 = B.copy()\n",
    "\n",
    "ans_list = []\n",
    "ans_list.append(min([a+b for a, b in zip(A1,B1)]))\n",
    "A2_list = [a == min(A2) for a in A2]\n",
    "B3_list = [a == min(A3) for a in B3]\n",
    "for i in range(len(A2)):\n",
    "    if A2_list[i]:\n",
    "        B2[i] = 1000000\n",
    "        ans_list.append(max(A2[i],min(B2)))\n",
    "for i in range(len(B3)):\n",
    "    if B3_list[i]:\n",
    "        A3[i] = 1000000\n",
    "        ans_list.append(max(B3[i],min(A3)))\n",
    "\n",
    "print(min(ans_list))"
   ]
  },
  {
   "cell_type": "code",
   "execution_count": null,
   "id": "b57b21b7",
   "metadata": {},
   "outputs": [],
   "source": []
  }
 ],
 "metadata": {
  "kernelspec": {
   "display_name": "Python 3",
   "language": "python",
   "name": "python3"
  },
  "language_info": {
   "codemirror_mode": {
    "name": "ipython",
    "version": 3
   },
   "file_extension": ".py",
   "mimetype": "text/x-python",
   "name": "python",
   "nbconvert_exporter": "python",
   "pygments_lexer": "ipython3",
   "version": "3.8.8"
  }
 },
 "nbformat": 4,
 "nbformat_minor": 5
}
