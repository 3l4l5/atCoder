{
 "cells": [
  {
   "cell_type": "markdown",
   "id": "8709b63a",
   "metadata": {},
   "source": [
    "# C-ORXOR"
   ]
  },
  {
   "cell_type": "code",
   "execution_count": 160,
   "id": "d30e3ce6",
   "metadata": {},
   "outputs": [
    {
     "name": "stdin",
     "output_type": "stream",
     "text": [
      " 3\n",
      " 1 5 7\n"
     ]
    }
   ],
   "source": [
    "N = int(input())\n",
    "A = [int(a) for a in input().split(\" \")]"
   ]
  },
  {
   "cell_type": "code",
   "execution_count": 1,
   "id": "85136c80",
   "metadata": {},
   "outputs": [],
   "source": [
    "from itertools import product"
   ]
  },
  {
   "cell_type": "code",
   "execution_count": 5,
   "id": "d60b69e3",
   "metadata": {},
   "outputs": [
    {
     "name": "stdout",
     "output_type": "stream",
     "text": [
      "<itertools.product object at 0x7ffbe14cf080>\n"
     ]
    }
   ],
   "source": [
    "product('ABCD', repeat=2)"
   ]
  },
  {
   "cell_type": "code",
   "execution_count": null,
   "id": "ba814e1e",
   "metadata": {},
   "outputs": [],
   "source": []
  }
 ],
 "metadata": {
  "kernelspec": {
   "display_name": "Python 3",
   "language": "python",
   "name": "python3"
  },
  "language_info": {
   "codemirror_mode": {
    "name": "ipython",
    "version": 3
   },
   "file_extension": ".py",
   "mimetype": "text/x-python",
   "name": "python",
   "nbconvert_exporter": "python",
   "pygments_lexer": "ipython3",
   "version": "3.8.8"
  }
 },
 "nbformat": 4,
 "nbformat_minor": 5
}
