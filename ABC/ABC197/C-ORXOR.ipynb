{
 "cells": [
  {
   "cell_type": "markdown",
   "id": "5a24ad15",
   "metadata": {},
   "source": [
    "# C-ORXOR"
   ]
  },
  {
   "cell_type": "code",
   "execution_count": 28,
   "id": "2fb373a9",
   "metadata": {},
   "outputs": [
    {
     "name": "stdin",
     "output_type": "stream",
     "text": [
      " 3\n",
      " 1 5 7\n"
     ]
    }
   ],
   "source": [
    "N = int(input())\n",
    "A = [int(a) for a in input().split(\" \")]"
   ]
  },
  {
   "cell_type": "code",
   "execution_count": 60,
   "id": "88c5c11f",
   "metadata": {},
   "outputs": [],
   "source": [
    "from itertools import product, combinations"
   ]
  },
  {
   "cell_type": "code",
   "execution_count": null,
   "id": "7b070966",
   "metadata": {},
   "outputs": [],
   "source": []
  },
  {
   "cell_type": "code",
   "execution_count": 75,
   "id": "d1cdc475",
   "metadata": {},
   "outputs": [],
   "source": [
    "list_ = []\n",
    "for a in product([True, False], repeat=N-1):\n",
    "    list__ = []\n",
    "    count = 1\n",
    "    for b in a:\n",
    "        if b:\n",
    "            list__.append(count)\n",
    "        count+=1\n",
    "    buffer = []\n",
    "    buf = A.copy()\n",
    "    for c in list__[::-1]:\n",
    "        buffer.append(buf[c:])\n",
    "        buf = buf[:c]\n",
    "        \n",
    "    list_.append(buffer)"
   ]
  },
  {
   "cell_type": "code",
   "execution_count": 76,
   "id": "78c899a3",
   "metadata": {},
   "outputs": [
    {
     "data": {
      "text/plain": [
       "[[[7], [5]], [[5, 7]], [[7]], []]"
      ]
     },
     "execution_count": 76,
     "metadata": {},
     "output_type": "execute_result"
    }
   ],
   "source": [
    "list_"
   ]
  },
  {
   "cell_type": "code",
   "execution_count": 50,
   "id": "ab967812",
   "metadata": {},
   "outputs": [
    {
     "data": {
      "text/plain": [
       "[[[1, 5, 7], [5, 7], [7]], [[1, 5, 7], [7]], [[5, 7], [7]], [[7]]]"
      ]
     },
     "execution_count": 50,
     "metadata": {},
     "output_type": "execute_result"
    }
   ],
   "source": [
    "[1][1,2][2]"
   ]
  },
  {
   "cell_type": "code",
   "execution_count": 18,
   "id": "86149c81",
   "metadata": {},
   "outputs": [
    {
     "name": "stdout",
     "output_type": "stream",
     "text": [
      "(1, 1)\n",
      "(1, 2)\n",
      "(1, 3)\n",
      "(2, 1)\n",
      "(2, 2)\n",
      "(2, 3)\n",
      "(3, 1)\n",
      "(3, 2)\n",
      "(3, 3)\n"
     ]
    }
   ],
   "source": [
    "B = [1,2,3]\n",
    "for a in range(len(B)):\n",
    "    for b in range(len(B)):\n",
    "        print((B[a],B[b]))"
   ]
  },
  {
   "cell_type": "code",
   "execution_count": 24,
   "id": "bab1a791",
   "metadata": {},
   "outputs": [
    {
     "data": {
      "text/plain": [
       "81"
      ]
     },
     "execution_count": 24,
     "metadata": {},
     "output_type": "execute_result"
    }
   ],
   "source": [
    "3**4"
   ]
  },
  {
   "cell_type": "code",
   "execution_count": null,
   "id": "fd92b7d7",
   "metadata": {},
   "outputs": [],
   "source": []
  }
 ],
 "metadata": {
  "kernelspec": {
   "display_name": "Python 3",
   "language": "python",
   "name": "python3"
  },
  "language_info": {
   "codemirror_mode": {
    "name": "ipython",
    "version": 3
   },
   "file_extension": ".py",
   "mimetype": "text/x-python",
   "name": "python",
   "nbconvert_exporter": "python",
   "pygments_lexer": "ipython3",
   "version": "3.8.8"
  }
 },
 "nbformat": 4,
 "nbformat_minor": 5
}
