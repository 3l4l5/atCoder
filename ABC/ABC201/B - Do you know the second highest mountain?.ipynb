{
 "cells": [
  {
   "cell_type": "markdown",
   "id": "9adb6e6a",
   "metadata": {},
   "source": [
    "# B - Do you know the second highest mountain?"
   ]
  },
  {
   "cell_type": "code",
   "execution_count": 14,
   "id": "44cdaa5d",
   "metadata": {},
   "outputs": [
    {
     "name": "stdin",
     "output_type": "stream",
     "text": [
      " 4\n",
      " Kita 3193\n",
      " Aino 3189\n",
      " Fuji 3776\n",
      " Okuhotaka 3190\n"
     ]
    }
   ],
   "source": [
    "N = int(input())\n",
    "S = []\n",
    "T = []\n",
    "for i in [0]*N:\n",
    "    s, t = input().split(\" \")\n",
    "    S.append(s)\n",
    "    T.append(int(t))\n",
    "print(S[T.index(sorted(T)[-2])])"
   ]
  },
  {
   "cell_type": "code",
   "execution_count": 15,
   "id": "ed9ae8a2",
   "metadata": {},
   "outputs": [
    {
     "data": {
      "text/plain": [
       "'Kita'"
      ]
     },
     "execution_count": 15,
     "metadata": {},
     "output_type": "execute_result"
    }
   ],
   "source": [
    "print(S[T.index(sorted(T)[-2])])"
   ]
  },
  {
   "cell_type": "code",
   "execution_count": null,
   "id": "1ab306d9",
   "metadata": {},
   "outputs": [],
   "source": []
  },
  {
   "cell_type": "code",
   "execution_count": null,
   "id": "f615c7a1",
   "metadata": {},
   "outputs": [],
   "source": []
  }
 ],
 "metadata": {
  "kernelspec": {
   "display_name": "Python 3",
   "language": "python",
   "name": "python3"
  },
  "language_info": {
   "codemirror_mode": {
    "name": "ipython",
    "version": 3
   },
   "file_extension": ".py",
   "mimetype": "text/x-python",
   "name": "python",
   "nbconvert_exporter": "python",
   "pygments_lexer": "ipython3",
   "version": "3.8.8"
  }
 },
 "nbformat": 4,
 "nbformat_minor": 5
}
