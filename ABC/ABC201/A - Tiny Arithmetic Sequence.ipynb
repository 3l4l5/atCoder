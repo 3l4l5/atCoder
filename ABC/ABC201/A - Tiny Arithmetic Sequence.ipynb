{
 "cells": [
  {
   "cell_type": "markdown",
   "id": "0f3190d2",
   "metadata": {},
   "source": [
    "# A - Tiny Arithmetic Sequence"
   ]
  },
  {
   "cell_type": "code",
   "execution_count": null,
   "id": "3aa3a8d0",
   "metadata": {},
   "outputs": [],
   "source": [
    "A = [int(a) for a in input().split(\" \")]"
   ]
  },
  {
   "cell_type": "code",
   "execution_count": 6,
   "id": "7081b5d9",
   "metadata": {},
   "outputs": [
    {
     "data": {
      "text/plain": [
       "True"
      ]
     },
     "execution_count": 6,
     "metadata": {},
     "output_type": "execute_result"
    }
   ],
   "source": [
    "A.sort()\n",
    "print(\"Yes\" if A[1]-A[0] == A[2]-A[1] else \"No\")"
   ]
  },
  {
   "cell_type": "code",
   "execution_count": 5,
   "id": "4ae5ae3b",
   "metadata": {},
   "outputs": [
    {
     "data": {
      "text/plain": [
       "<function list.sort(*, key=None, reverse=False)>"
      ]
     },
     "execution_count": 5,
     "metadata": {},
     "output_type": "execute_result"
    }
   ],
   "source": [
    "A.sort"
   ]
  },
  {
   "cell_type": "code",
   "execution_count": 8,
   "id": "c339588a",
   "metadata": {},
   "outputs": [
    {
     "name": "stdin",
     "output_type": "stream",
     "text": [
      " 5 5 5\n"
     ]
    },
    {
     "name": "stdout",
     "output_type": "stream",
     "text": [
      "Yes\n"
     ]
    }
   ],
   "source": [
    "A = [int(a) for a in input().split(\" \")]\n",
    "A.sort()\n",
    "print(\"Yes\" if A[1]-A[0] == A[2]-A[1] else \"No\")"
   ]
  },
  {
   "cell_type": "code",
   "execution_count": null,
   "id": "68082ebd",
   "metadata": {},
   "outputs": [],
   "source": []
  }
 ],
 "metadata": {
  "kernelspec": {
   "display_name": "Python 3",
   "language": "python",
   "name": "python3"
  },
  "language_info": {
   "codemirror_mode": {
    "name": "ipython",
    "version": 3
   },
   "file_extension": ".py",
   "mimetype": "text/x-python",
   "name": "python",
   "nbconvert_exporter": "python",
   "pygments_lexer": "ipython3",
   "version": "3.8.8"
  }
 },
 "nbformat": 4,
 "nbformat_minor": 5
}
