{
 "cells": [
  {
   "cell_type": "markdown",
   "id": "71f8caba",
   "metadata": {},
   "source": [
    "# B - Gentle Pairs"
   ]
  },
  {
   "cell_type": "code",
   "execution_count": 2,
   "id": "bfda97cb",
   "metadata": {},
   "outputs": [
    {
     "name": "stdin",
     "output_type": "stream",
     "text": [
      " 3\n",
      " 0 0\n",
      " 1 2\n",
      " 2 1\n"
     ]
    }
   ],
   "source": [
    "N = int(input())\n",
    "XY = []\n",
    "for n in range(N):\n",
    "    XY.append([int(a) for a in input().split(\" \")])"
   ]
  },
  {
   "cell_type": "code",
   "execution_count": 3,
   "id": "84343064",
   "metadata": {},
   "outputs": [],
   "source": [
    "count = 0\n",
    "for a in range(N):\n",
    "    for b in range(a+1, N):\n",
    "        x1 = XY[a][0]\n",
    "        y1 = XY[a][1]\n",
    "        x2 = XY[b][0]\n",
    "        y2 = XY[b][1]\n",
    "        k = (y1 - y2)/(x1 - x2)\n",
    "        if k >= -1 and k <= 1:\n",
    "            count += 1"
   ]
  },
  {
   "cell_type": "code",
   "execution_count": 4,
   "id": "42b24110",
   "metadata": {},
   "outputs": [
    {
     "data": {
      "text/plain": [
       "2"
      ]
     },
     "execution_count": 4,
     "metadata": {},
     "output_type": "execute_result"
    }
   ],
   "source": [
    "count"
   ]
  },
  {
   "cell_type": "code",
   "execution_count": null,
   "id": "6ba37af6",
   "metadata": {},
   "outputs": [],
   "source": [
    "N = int(input())\n",
    "XY = []\n",
    "for n in range(N):\n",
    "    XY.append([int(a) for a in input().split(\" \")])\n",
    "count = 0\n",
    "for a in range(N):\n",
    "    for b in range(a+1, N):\n",
    "        x1 = XY[a][0]\n",
    "        y1 = XY[a][1]\n",
    "        x2 = XY[b][0]\n",
    "        y2 = XY[b][1]\n",
    "        k = (y1 - y2)/(x1 - x2)\n",
    "        if k >= -1 and k <= 1:\n",
    "            count += 1\n",
    "print(count)"
   ]
  }
 ],
 "metadata": {
  "kernelspec": {
   "display_name": "Python 3",
   "language": "python",
   "name": "python3"
  },
  "language_info": {
   "codemirror_mode": {
    "name": "ipython",
    "version": 3
   },
   "file_extension": ".py",
   "mimetype": "text/x-python",
   "name": "python",
   "nbconvert_exporter": "python",
   "pygments_lexer": "ipython3",
   "version": "3.8.8"
  }
 },
 "nbformat": 4,
 "nbformat_minor": 5
}
