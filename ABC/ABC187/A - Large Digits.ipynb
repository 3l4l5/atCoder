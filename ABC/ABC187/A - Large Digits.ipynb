{
 "cells": [
  {
   "cell_type": "markdown",
   "id": "fd157582",
   "metadata": {},
   "source": [
    "# A - Large Digits"
   ]
  },
  {
   "cell_type": "code",
   "execution_count": 5,
   "id": "68d375d8",
   "metadata": {},
   "outputs": [
    {
     "name": "stdin",
     "output_type": "stream",
     "text": [
      " 593 953\n"
     ]
    }
   ],
   "source": [
    "A, B = input().split(\" \")"
   ]
  },
  {
   "cell_type": "code",
   "execution_count": 6,
   "id": "5328d9ba",
   "metadata": {},
   "outputs": [],
   "source": [
    "A, B = input().split(\" \")\n",
    "def S(num):\n",
    "    count = 0\n",
    "    for n in num:\n",
    "        count += int(n)\n",
    "    return count\n",
    "print(S(B) if S(A) < S(B) else S(A))"
   ]
  },
  {
   "cell_type": "code",
   "execution_count": 7,
   "id": "789dd9e9",
   "metadata": {},
   "outputs": [
    {
     "name": "stdout",
     "output_type": "stream",
     "text": [
      "17\n"
     ]
    }
   ],
   "source": [
    "print(S(B) if S(A) < S(B) else S(A))"
   ]
  },
  {
   "cell_type": "code",
   "execution_count": null,
   "id": "96c09490",
   "metadata": {},
   "outputs": [],
   "source": []
  }
 ],
 "metadata": {
  "kernelspec": {
   "display_name": "Python 3",
   "language": "python",
   "name": "python3"
  },
  "language_info": {
   "codemirror_mode": {
    "name": "ipython",
    "version": 3
   },
   "file_extension": ".py",
   "mimetype": "text/x-python",
   "name": "python",
   "nbconvert_exporter": "python",
   "pygments_lexer": "ipython3",
   "version": "3.8.8"
  }
 },
 "nbformat": 4,
 "nbformat_minor": 5
}
