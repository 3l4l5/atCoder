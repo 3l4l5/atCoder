{
 "cells": [
  {
   "cell_type": "markdown",
   "id": "0f9f5a15",
   "metadata": {},
   "source": [
    "# C - 1-SAT"
   ]
  },
  {
   "cell_type": "code",
   "execution_count": 4,
   "id": "426ef6b4",
   "metadata": {},
   "outputs": [
    {
     "name": "stdin",
     "output_type": "stream",
     "text": [
      " 10\n"
     ]
    }
   ],
   "source": [
    "N = int(input())"
   ]
  },
  {
   "cell_type": "code",
   "execution_count": null,
   "id": "260625f1",
   "metadata": {},
   "outputs": [
    {
     "name": "stdin",
     "output_type": "stream",
     "text": [
      " red\n",
      " red\n"
     ]
    }
   ],
   "source": [
    "buffer1 = set()\n",
    "buffer2 = set()\n",
    "for n in [0]*N:\n",
    "    inp = input()\n",
    "    if inp[0]==\"!\":\n",
    "        if inp[1:] in buffer1:\n",
    "            print(inp[1:])\n",
    "            break\n",
    "        else:\n",
    "            buffer2.add(inp[1:])\n",
    "    else:\n",
    "        if inp[0:] in buffer2:\n",
    "            print(inp[0:])\n",
    "            break\n",
    "        buffer1.add(inp[0:])\n",
    "else:\n",
    "    print(\"satisfiable\")"
   ]
  },
  {
   "cell_type": "code",
   "execution_count": null,
   "id": "8a4a8be6",
   "metadata": {},
   "outputs": [],
   "source": [
    "buffer1 = []\n",
    "buffer2 = []\n",
    "for n in [0]*N:\n",
    "    inp = input()\n",
    "    if inp[0]==\"!\":\n",
    "        if inp[1:] in buffer1:\n",
    "            print(inp[1:])\n",
    "            break\n",
    "        else:\n",
    "            buffer2.append(inp[1:])\n",
    "    else:\n",
    "        if inp[0:] in buffer2:\n",
    "            print(inp[0:])\n",
    "            break\n",
    "        buffer1.append(inp[0:])\n",
    "else:\n",
    "    print(\"satisfiable\")"
   ]
  }
 ],
 "metadata": {
  "kernelspec": {
   "display_name": "Python 3",
   "language": "python",
   "name": "python3"
  },
  "language_info": {
   "codemirror_mode": {
    "name": "ipython",
    "version": 3
   },
   "file_extension": ".py",
   "mimetype": "text/x-python",
   "name": "python",
   "nbconvert_exporter": "python",
   "pygments_lexer": "ipython3",
   "version": "3.8.8"
  }
 },
 "nbformat": 4,
 "nbformat_minor": 5
}
