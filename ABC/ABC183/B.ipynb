{
 "cells": [
  {
   "cell_type": "code",
   "execution_count": 10,
   "id": "6ab8cc2c",
   "metadata": {},
   "outputs": [
    {
     "name": "stdin",
     "output_type": "stream",
     "text": [
      " 1 1 3 2\n"
     ]
    }
   ],
   "source": [
    "Sx, Sy, Gx, Gy = [int(a) for a in input().split(\" \")]"
   ]
  },
  {
   "cell_type": "code",
   "execution_count": 14,
   "id": "3ad1b21c",
   "metadata": {},
   "outputs": [
    {
     "name": "stdout",
     "output_type": "stream",
     "text": [
      "1.6666666666666667\n"
     ]
    }
   ],
   "source": [
    "A = (Sy + Gy)/(Sx - Gx)\n",
    "print((A*Sx - Sy)/A)"
   ]
  },
  {
   "cell_type": "code",
   "execution_count": null,
   "id": "d526cbb7",
   "metadata": {},
   "outputs": [],
   "source": [
    "Sx, Sy, Gx, Gy = [int(a) for a in input().split(\" \")]\n",
    "A = (Sy + Gy)/(Sx - Gx)\n",
    "print((A*Sx - Sy)/A)"
   ]
  }
 ],
 "metadata": {
  "kernelspec": {
   "display_name": "Python 3",
   "language": "python",
   "name": "python3"
  },
  "language_info": {
   "codemirror_mode": {
    "name": "ipython",
    "version": 3
   },
   "file_extension": ".py",
   "mimetype": "text/x-python",
   "name": "python",
   "nbconvert_exporter": "python",
   "pygments_lexer": "ipython3",
   "version": "3.8.8"
  }
 },
 "nbformat": 4,
 "nbformat_minor": 5
}
