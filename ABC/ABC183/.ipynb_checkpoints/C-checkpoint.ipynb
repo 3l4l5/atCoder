{
 "cells": [
  {
   "cell_type": "code",
   "execution_count": 50,
   "id": "6fbbf0d1",
   "metadata": {
    "tags": []
   },
   "outputs": [
    {
     "name": "stdin",
     "output_type": "stream",
     "text": [
      " 4 330\n",
      " 0 1 10 100\n",
      " 1 0 20 200\n",
      " 10 20 0 300\n",
      " 100 200 300 0\n"
     ]
    }
   ],
   "source": [
    "N, K = [int(a) for a in input().split(\" \")]\n",
    "T = []\n",
    "for a in [0]*N:\n",
    "    T.append([int(a) for a in input().split(\" \")])"
   ]
  },
  {
   "cell_type": "code",
   "execution_count": 15,
   "id": "4baee387",
   "metadata": {},
   "outputs": [],
   "source": [
    "from itertools import product, permutations\n",
    "import math"
   ]
  },
  {
   "cell_type": "code",
   "execution_count": 40,
   "id": "57e6a05a",
   "metadata": {},
   "outputs": [
    {
     "data": {
      "text/plain": [
       "[[1, 2, 3]]"
      ]
     },
     "execution_count": 40,
     "metadata": {},
     "output_type": "execute_result"
    }
   ],
   "source": [
    "T"
   ]
  },
  {
   "cell_type": "code",
   "execution_count": 51,
   "id": "782045a8",
   "metadata": {},
   "outputs": [
    {
     "name": "stdout",
     "output_type": "stream",
     "text": [
      "2\n"
     ]
    }
   ],
   "source": [
    "count = 0\n",
    "roop_times = math.factorial(N - 1)//2\n",
    "times = 0\n",
    "for a in permutations(list(range(N)[1:]), r=N-1):\n",
    "    now = 0\n",
    "    time = 0\n",
    "    for b in a:\n",
    "        time += T[now][b]\n",
    "        now = b\n",
    "    time += T[now][0]\n",
    "    if time == K:\n",
    "        count += 1\n",
    "    times += 1\n",
    "print(count)"
   ]
  },
  {
   "cell_type": "code",
   "execution_count": 52,
   "id": "01cbc59e",
   "metadata": {},
   "outputs": [
    {
     "name": "stdin",
     "output_type": "stream",
     "text": [
      " 5 5\n",
      " 0 1 1 1 1\n",
      " 1 0 1 1 1\n",
      " 1 1 0 1 1\n",
      " 1 1 1 0 1\n",
      " 1 1 1 1 0\n"
     ]
    },
    {
     "name": "stdout",
     "output_type": "stream",
     "text": [
      "24\n"
     ]
    }
   ],
   "source": [
    "from itertools import product, permutations\n",
    "import math\n",
    "\n",
    "N, K = [int(a) for a in input().split(\" \")]\n",
    "T = []\n",
    "for a in [0]*N:\n",
    "    T.append([int(a) for a in input().split(\" \")])\n",
    "\n",
    "count = 0\n",
    "roop_times = math.factorial(N - 1)//2\n",
    "times = 0\n",
    "for a in permutations(list(range(N)[1:]), r=N-1):\n",
    "    now = 0\n",
    "    time = 0\n",
    "    for b in a:\n",
    "        time += T[now][b]\n",
    "        now = b\n",
    "    time += T[now][0]\n",
    "    if time == K:\n",
    "        count += 1\n",
    "    times += 1\n",
    "    if times == roop_times:\n",
    "        break\n",
    "print(count * 2)"
   ]
  },
  {
   "cell_type": "code",
   "execution_count": null,
   "id": "5eb51b59",
   "metadata": {},
   "outputs": [],
   "source": []
  }
 ],
 "metadata": {
  "kernelspec": {
   "display_name": "Python 3",
   "language": "python",
   "name": "python3"
  },
  "language_info": {
   "codemirror_mode": {
    "name": "ipython",
    "version": 3
   },
   "file_extension": ".py",
   "mimetype": "text/x-python",
   "name": "python",
   "nbconvert_exporter": "python",
   "pygments_lexer": "ipython3",
   "version": "3.8.8"
  }
 },
 "nbformat": 4,
 "nbformat_minor": 5
}
