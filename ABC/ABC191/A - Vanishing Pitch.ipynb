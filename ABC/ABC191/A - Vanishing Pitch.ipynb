{
 "cells": [
  {
   "cell_type": "markdown",
   "id": "940d7f86",
   "metadata": {},
   "source": [
    "# A - Vanishing Pitch"
   ]
  },
  {
   "cell_type": "code",
   "execution_count": 6,
   "id": "521f128b",
   "metadata": {},
   "outputs": [
    {
     "name": "stdin",
     "output_type": "stream",
     "text": [
      " 10 3 5 30\n"
     ]
    }
   ],
   "source": [
    "V, T, S, D = [int(a) for a in input().split(\" \")]"
   ]
  },
  {
   "cell_type": "code",
   "execution_count": 7,
   "id": "607c502e",
   "metadata": {},
   "outputs": [
    {
     "name": "stdout",
     "output_type": "stream",
     "text": [
      "Yes\n"
     ]
    }
   ],
   "source": [
    "print(\"Yes\" if (V * S > D) or (V * T < D) else \"No\")"
   ]
  },
  {
   "cell_type": "code",
   "execution_count": 12,
   "id": "b9af4208",
   "metadata": {},
   "outputs": [
    {
     "name": "stdin",
     "output_type": "stream",
     "text": [
      " 10 3 5 20\n"
     ]
    },
    {
     "name": "stdout",
     "output_type": "stream",
     "text": [
      "Yes\n"
     ]
    }
   ],
   "source": [
    "V, T, S, D = [int(a) for a in input().split(\" \")]\n",
    "print(\"Yes\" if (V * S < D) or (V * T > D) else \"No\")"
   ]
  },
  {
   "cell_type": "code",
   "execution_count": 13,
   "id": "747719c2",
   "metadata": {},
   "outputs": [
    {
     "name": "stdout",
     "output_type": "stream",
     "text": [
      "Yes\n"
     ]
    }
   ],
   "source": [
    "print(\"Yes\" if (V * S < D) or (V * T > D) else \"No\")"
   ]
  },
  {
   "cell_type": "code",
   "execution_count": null,
   "id": "677cb5a2",
   "metadata": {},
   "outputs": [],
   "source": []
  },
  {
   "cell_type": "code",
   "execution_count": null,
   "id": "cec4ff26",
   "metadata": {},
   "outputs": [],
   "source": []
  }
 ],
 "metadata": {
  "kernelspec": {
   "display_name": "Python 3",
   "language": "python",
   "name": "python3"
  },
  "language_info": {
   "codemirror_mode": {
    "name": "ipython",
    "version": 3
   },
   "file_extension": ".py",
   "mimetype": "text/x-python",
   "name": "python",
   "nbconvert_exporter": "python",
   "pygments_lexer": "ipython3",
   "version": "3.8.8"
  }
 },
 "nbformat": 4,
 "nbformat_minor": 5
}
