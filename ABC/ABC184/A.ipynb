{
 "cells": [
  {
   "cell_type": "code",
   "execution_count": 6,
   "id": "d99f7f77",
   "metadata": {},
   "outputs": [
    {
     "name": "stdin",
     "output_type": "stream",
     "text": [
      " 100 100\n",
      " 100 100\n"
     ]
    }
   ],
   "source": [
    "a, b = [int(a) for a in input().split(\" \")]\n",
    "c, d = [int(a) for a in input().split(\" \")]\n",
    "print(a*d-b*c)"
   ]
  },
  {
   "cell_type": "code",
   "execution_count": 7,
   "id": "8722bdc1",
   "metadata": {},
   "outputs": [
    {
     "name": "stdout",
     "output_type": "stream",
     "text": [
      "0\n"
     ]
    }
   ],
   "source": [
    "print(a*d-b*c)"
   ]
  },
  {
   "cell_type": "code",
   "execution_count": null,
   "id": "4a40763b",
   "metadata": {},
   "outputs": [],
   "source": []
  }
 ],
 "metadata": {
  "kernelspec": {
   "display_name": "Python 3",
   "language": "python",
   "name": "python3"
  },
  "language_info": {
   "codemirror_mode": {
    "name": "ipython",
    "version": 3
   },
   "file_extension": ".py",
   "mimetype": "text/x-python",
   "name": "python",
   "nbconvert_exporter": "python",
   "pygments_lexer": "ipython3",
   "version": "3.8.8"
  }
 },
 "nbformat": 4,
 "nbformat_minor": 5
}
