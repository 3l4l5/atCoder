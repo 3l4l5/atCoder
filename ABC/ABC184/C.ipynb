{
 "cells": [
  {
   "cell_type": "code",
   "execution_count": 59,
   "id": "360798c3",
   "metadata": {},
   "outputs": [
    {
     "name": "stdin",
     "output_type": "stream",
     "text": [
      " 1 1\n",
      " 5 6\n"
     ]
    }
   ],
   "source": [
    "r1, c1 = [int(a) for a in input().split(\" \")]\n",
    "r2, c2 = [int(a) for a in input().split(\" \")]"
   ]
  },
  {
   "cell_type": "code",
   "execution_count": 60,
   "id": "6e114b15",
   "metadata": {},
   "outputs": [],
   "source": [
    "if (r1, c1)==(r2, c2):\n",
    "    print(0)\n",
    "elif abs(r1 - r2) + abs(c1 - c2) <= 6:\n",
    "    if abs(r1 - r2) + abs(c1 - c2) <= 3:\n",
    "        print(1)\n",
    "    else:\n",
    "        print(2)\n"
   ]
  },
  {
   "cell_type": "code",
   "execution_count": null,
   "id": "7e352cea",
   "metadata": {},
   "outputs": [],
   "source": [
    "r1, c1 = [int(a) for a in input().split(\" \")]\n",
    "r2, c2 = [int(a) for a in input().split(\" \")]\n",
    "\n",
    "fin = False\n",
    "if (r1, c1)==(r2, c2):\n",
    "    print(0)\n",
    "    fin = not fin\n",
    "elif abs(r1 - r2) + abs(c1 - c2) <= 6:\n",
    "    if abs(r1 - r2) + abs(c1 - c2) <= 3:\n",
    "        print(1)\n",
    "        fin = not fin\n",
    "    else:\n",
    "        print(2)\n",
    "        fin = not fin\n",
    "elif ((r2 - r1 + c1 - c2) / 2 ).is_integer():\n",
    "    print(2)\n",
    "    fin = not fin\n",
    "    \n",
    "\n",
    "elif ((r2 - r1)/(c1 - c2)) == 1 or ((r2 - r1)/(c1 - c2)) == -1:\n",
    "    print(1)\n",
    "    fin = not fin\n",
    "r11 = r1 + 1\n",
    "if ((r2 - r1)/(c1 - c2)) == 1 or ((r2 - r1)/(c1 - c2)) == -1 and not fin:\n",
    "    print(2)\n",
    "    fin = not fin\n",
    "r11 = r1 + 1\n",
    "if ((r2 - r1)/(c1 - c2)) == 1 or ((r2 - r1)/(c1 - c2)) == -1 and not fin:\n",
    "    print(2)\n",
    "    fin = not fin\n",
    "r11 = r1 + 1\n",
    "if ((r2 - r1)/(c1 - c2)) == 1 or ((r2 - r1)/(c1 - c2)) == -1 and not fin:\n",
    "    print(2)\n",
    "    fin = not fin\n",
    "c11 = c1 + 1\n",
    "if ((r2 - r1)/(c11 - c2)) == 1 or ((r2 - r1)/(c11 - c2)) == -1 and not fin:\n",
    "    print(2)\n",
    "    fin = not fin\n",
    "c11 = c1 + 1\n",
    "if ((r2 - r1)/(c11 - c2)) == 1 or ((r2 - r1)/(c11 - c2)) == -1 and not fin:\n",
    "    print(2)\n",
    "    fin = not fin\n",
    "c11 = c1 + 1\n",
    "if ((r2 - r1)/(c11 - c2)) == 1 or ((r2 - r1)/(c11 - c2)) == -1 and not fin:\n",
    "    print(2)\n",
    "    fin = not fin\n",
    "c11 = c1 + 1\n",
    "if ((r2 - r1)/(c11 - c2)) == 1 or ((r2 - r1)/(c11 - c2)) == -1 and not fin:\n",
    "    print(2)\n",
    "    fin = not fin\n",
    "elif not fin:\n",
    "    print(3)"
   ]
  }
 ],
 "metadata": {
  "kernelspec": {
   "display_name": "Python 3",
   "language": "python",
   "name": "python3"
  },
  "language_info": {
   "codemirror_mode": {
    "name": "ipython",
    "version": 3
   },
   "file_extension": ".py",
   "mimetype": "text/x-python",
   "name": "python",
   "nbconvert_exporter": "python",
   "pygments_lexer": "ipython3",
   "version": "3.8.8"
  }
 },
 "nbformat": 4,
 "nbformat_minor": 5
}
