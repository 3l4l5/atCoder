{
 "cells": [
  {
   "cell_type": "code",
   "execution_count": 6,
   "id": "c30dcaf2",
   "metadata": {},
   "outputs": [
    {
     "name": "stdin",
     "output_type": "stream",
     "text": [
      " 20 10\n",
      " xxxxxxxxxxxxxxxxxxxx\n"
     ]
    }
   ],
   "source": [
    "N, X = [int(a) for a in input().split(\" \")]\n",
    "S = input()"
   ]
  },
  {
   "cell_type": "code",
   "execution_count": 7,
   "id": "04bbbb2d",
   "metadata": {},
   "outputs": [
    {
     "name": "stdout",
     "output_type": "stream",
     "text": [
      "0\n"
     ]
    }
   ],
   "source": [
    "point = X\n",
    "for s in S:\n",
    "    if s==\"x\":\n",
    "        point -= 1 if point > 0 else 0\n",
    "    if s==\"o\":\n",
    "        point += 1\n",
    "print(point)"
   ]
  },
  {
   "cell_type": "code",
   "execution_count": null,
   "id": "c72083e4",
   "metadata": {},
   "outputs": [],
   "source": [
    "N, X = [int(a) for a in input().split(\" \")]\n",
    "S = input()\n",
    "point = X\n",
    "for s in S:\n",
    "    if s==\"x\":\n",
    "        point -= 1 if point > 0 else 0\n",
    "    if s==\"o\":\n",
    "        point += 1\n",
    "print(point)"
   ]
  },
  {
   "cell_type": "code",
   "execution_count": null,
   "id": "999683f9",
   "metadata": {},
   "outputs": [],
   "source": []
  }
 ],
 "metadata": {
  "kernelspec": {
   "display_name": "Python 3",
   "language": "python",
   "name": "python3"
  },
  "language_info": {
   "codemirror_mode": {
    "name": "ipython",
    "version": 3
   },
   "file_extension": ".py",
   "mimetype": "text/x-python",
   "name": "python",
   "nbconvert_exporter": "python",
   "pygments_lexer": "ipython3",
   "version": "3.8.8"
  }
 },
 "nbformat": 4,
 "nbformat_minor": 5
}
