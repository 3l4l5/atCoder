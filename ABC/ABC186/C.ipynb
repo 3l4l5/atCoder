{
 "cells": [
  {
   "cell_type": "code",
   "execution_count": 16,
   "id": "6268ed0c",
   "metadata": {},
   "outputs": [
    {
     "name": "stdin",
     "output_type": "stream",
     "text": [
      " 100000\n"
     ]
    }
   ],
   "source": [
    "N = int(input())"
   ]
  },
  {
   "cell_type": "code",
   "execution_count": 17,
   "id": "4aab9095",
   "metadata": {},
   "outputs": [
    {
     "name": "stdout",
     "output_type": "stream",
     "text": [
      "30555\n"
     ]
    }
   ],
   "source": [
    "count = 0\n",
    "set7 = set()\n",
    "for a in range(1, N+1):\n",
    "    if \"7\" in str(a):\n",
    "        set7.add(a)\n",
    "    if \"7\" in str(oct(a)):\n",
    "        set7.add(a)        \n",
    "print(N - len(set7))"
   ]
  },
  {
   "cell_type": "code",
   "execution_count": 10,
   "id": "f8243b87",
   "metadata": {},
   "outputs": [
    {
     "data": {
      "text/plain": [
       "'0o17'"
      ]
     },
     "execution_count": 10,
     "metadata": {},
     "output_type": "execute_result"
    }
   ],
   "source": [
    "oct(15)"
   ]
  },
  {
   "cell_type": "code",
   "execution_count": null,
   "id": "b72a47ed",
   "metadata": {},
   "outputs": [],
   "source": [
    "N = int(input())\n",
    "count = 0\n",
    "set7 = set()\n",
    "for a in range(1, N+1):\n",
    "    if \"7\" in str(a):\n",
    "        set7.add(a)\n",
    "    if \"7\" in str(oct(a)):\n",
    "        set7.add(a)        \n",
    "print(N - len(set7))"
   ]
  }
 ],
 "metadata": {
  "kernelspec": {
   "display_name": "Python 3",
   "language": "python",
   "name": "python3"
  },
  "language_info": {
   "codemirror_mode": {
    "name": "ipython",
    "version": 3
   },
   "file_extension": ".py",
   "mimetype": "text/x-python",
   "name": "python",
   "nbconvert_exporter": "python",
   "pygments_lexer": "ipython3",
   "version": "3.8.8"
  }
 },
 "nbformat": 4,
 "nbformat_minor": 5
}
