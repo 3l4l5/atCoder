{
 "cells": [
  {
   "cell_type": "code",
   "execution_count": 10,
   "id": "81e90236",
   "metadata": {},
   "outputs": [
    {
     "name": "stdin",
     "output_type": "stream",
     "text": [
      " 2 3\n",
      " 2 2 3\n",
      " 3 2 2\n"
     ]
    }
   ],
   "source": [
    "H, W = [int(a) for a  in input().split(\" \")]\n",
    "mi = 0\n",
    "list_ = []\n",
    "for h in range(H):\n",
    "    list_ + [int(a) for a in input().split(\" \")]"
   ]
  },
  {
   "cell_type": "code",
   "execution_count": 11,
   "id": "255af8d9",
   "metadata": {},
   "outputs": [
    {
     "data": {
      "text/plain": [
       "[]"
      ]
     },
     "execution_count": 11,
     "metadata": {},
     "output_type": "execute_result"
    }
   ],
   "source": [
    "list_"
   ]
  },
  {
   "cell_type": "code",
   "execution_count": 15,
   "id": "2e4006c7",
   "metadata": {},
   "outputs": [
    {
     "name": "stdin",
     "output_type": "stream",
     "text": [
      " 2 3\n",
      " 2 2 3\n",
      " 3 2 2\n"
     ]
    }
   ],
   "source": [
    "H, W = [int(a) for a  in input().split(\" \")]\n",
    "mi = 0\n",
    "list_ = []\n",
    "for h in range(H):\n",
    "    list_ += [int(a) for a in input().split(\" \")]\n",
    "    "
   ]
  },
  {
   "cell_type": "code",
   "execution_count": 18,
   "id": "705b8d7f",
   "metadata": {},
   "outputs": [
    {
     "data": {
      "text/plain": [
       "2"
      ]
     },
     "execution_count": 18,
     "metadata": {},
     "output_type": "execute_result"
    }
   ],
   "source": [
    "print(sum([a - min(list_) for a in  list_]))"
   ]
  },
  {
   "cell_type": "code",
   "execution_count": 20,
   "id": "a7501828",
   "metadata": {},
   "outputs": [
    {
     "name": "stdin",
     "output_type": "stream",
     "text": [
      " 3 3\n",
      " 99 99 99\n",
      " 99 99 99\n",
      " 99 99 0\n"
     ]
    },
    {
     "name": "stdout",
     "output_type": "stream",
     "text": [
      "792\n"
     ]
    }
   ],
   "source": [
    "H, W = [int(a) for a  in input().split(\" \")]\n",
    "mi = 0\n",
    "list_ = []\n",
    "for h in range(H):\n",
    "    list_ += [int(a) for a in input().split(\" \")]\n",
    "print(sum([a - min(list_) for a in  list_]))"
   ]
  },
  {
   "cell_type": "code",
   "execution_count": null,
   "id": "68404c6d",
   "metadata": {},
   "outputs": [],
   "source": []
  }
 ],
 "metadata": {
  "kernelspec": {
   "display_name": "Python 3",
   "language": "python",
   "name": "python3"
  },
  "language_info": {
   "codemirror_mode": {
    "name": "ipython",
    "version": 3
   },
   "file_extension": ".py",
   "mimetype": "text/x-python",
   "name": "python",
   "nbconvert_exporter": "python",
   "pygments_lexer": "ipython3",
   "version": "3.8.8"
  }
 },
 "nbformat": 4,
 "nbformat_minor": 5
}
