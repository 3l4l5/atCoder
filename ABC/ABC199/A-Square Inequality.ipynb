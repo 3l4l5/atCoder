{
 "cells": [
  {
   "cell_type": "markdown",
   "id": "f773d6b9",
   "metadata": {},
   "source": [
    "# A-Square Inequality"
   ]
  },
  {
   "cell_type": "code",
   "execution_count": 2,
   "id": "2a01ae8d",
   "metadata": {},
   "outputs": [
    {
     "name": "stdin",
     "output_type": "stream",
     "text": [
      " 2 2 4\n"
     ]
    }
   ],
   "source": [
    "A = [int(a) for a in input().split(\" \")]\n",
    "print(\"Yes\" if A[0]**2 + A[1]**2 < A[2]**2 else \"No\")"
   ]
  },
  {
   "cell_type": "code",
   "execution_count": 6,
   "id": "285b90e4",
   "metadata": {},
   "outputs": [
    {
     "name": "stdout",
     "output_type": "stream",
     "text": [
      "No\n"
     ]
    }
   ],
   "source": [
    "print(\"Yes\" if A[0]**2 + A[1]**2 < A[2]**2 else \"No\")"
   ]
  },
  {
   "cell_type": "code",
   "execution_count": 5,
   "id": "a1f462bc",
   "metadata": {},
   "outputs": [
    {
     "name": "stdout",
     "output_type": "stream",
     "text": [
      "[2, 2, 4]\n"
     ]
    }
   ],
   "source": [
    "print(A)"
   ]
  },
  {
   "cell_type": "code",
   "execution_count": null,
   "id": "1f18333d",
   "metadata": {},
   "outputs": [],
   "source": []
  }
 ],
 "metadata": {
  "kernelspec": {
   "display_name": "Python 3",
   "language": "python",
   "name": "python3"
  },
  "language_info": {
   "codemirror_mode": {
    "name": "ipython",
    "version": 3
   },
   "file_extension": ".py",
   "mimetype": "text/x-python",
   "name": "python",
   "nbconvert_exporter": "python",
   "pygments_lexer": "ipython3",
   "version": "3.8.8"
  }
 },
 "nbformat": 4,
 "nbformat_minor": 5
}
