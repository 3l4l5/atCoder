{
 "cells": [
  {
   "cell_type": "markdown",
   "id": "e1a872bd",
   "metadata": {},
   "source": [
    "# B-Intersection"
   ]
  },
  {
   "cell_type": "code",
   "execution_count": null,
   "id": "0c94a733",
   "metadata": {},
   "outputs": [
    {
     "name": "stdin",
     "output_type": "stream",
     "text": [
      " 3\n"
     ]
    }
   ],
   "source": [
    "N = int(input())\n",
    "A = [int(a) for a in input().split(\" \")]\n",
    "B = [int(b) for b in input().split(\" \")]\n",
    "if min(B) < max(A):\n",
    "    print(0)\n",
    "else:\n",
    "    print(min(B) - max(A) + 1)"
   ]
  },
  {
   "cell_type": "code",
   "execution_count": 8,
   "id": "b9f64f2e",
   "metadata": {},
   "outputs": [
    {
     "data": {
      "text/plain": [
       "2"
      ]
     },
     "execution_count": 8,
     "metadata": {},
     "output_type": "execute_result"
    }
   ],
   "source": [
    "min(B) - max(A) + 1"
   ]
  },
  {
   "cell_type": "code",
   "execution_count": 4,
   "id": "02268a86",
   "metadata": {},
   "outputs": [
    {
     "data": {
      "text/plain": [
       "5"
      ]
     },
     "execution_count": 4,
     "metadata": {},
     "output_type": "execute_result"
    }
   ],
   "source": [
    "min(B)"
   ]
  },
  {
   "cell_type": "code",
   "execution_count": null,
   "id": "a2800e7f",
   "metadata": {},
   "outputs": [],
   "source": []
  }
 ],
 "metadata": {
  "kernelspec": {
   "display_name": "Python 3",
   "language": "python",
   "name": "python3"
  },
  "language_info": {
   "codemirror_mode": {
    "name": "ipython",
    "version": 3
   },
   "file_extension": ".py",
   "mimetype": "text/x-python",
   "name": "python",
   "nbconvert_exporter": "python",
   "pygments_lexer": "ipython3",
   "version": "3.8.8"
  }
 },
 "nbformat": 4,
 "nbformat_minor": 5
}
