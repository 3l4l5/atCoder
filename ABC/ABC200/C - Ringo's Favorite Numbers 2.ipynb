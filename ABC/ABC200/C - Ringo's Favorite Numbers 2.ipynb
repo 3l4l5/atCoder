{
 "cells": [
  {
   "cell_type": "markdown",
   "id": "e6b80b47",
   "metadata": {},
   "source": [
    "# C - Ringo's Favorite Numbers 2"
   ]
  },
  {
   "cell_type": "code",
   "execution_count": 2,
   "id": "5c80901f",
   "metadata": {},
   "outputs": [
    {
     "name": "stdin",
     "output_type": "stream",
     "text": [
      " 6\n",
      " 123 223 123 523 200 2000\n"
     ]
    }
   ],
   "source": [
    "N = int(input())\n",
    "A = [int(a) for a in input().split(\" \")]"
   ]
  },
  {
   "cell_type": "code",
   "execution_count": 21,
   "id": "3cee74aa",
   "metadata": {},
   "outputs": [
    {
     "name": "stdin",
     "output_type": "stream",
     "text": [
      " 6\n",
      " 123 223 123 523 200 2000\n"
     ]
    },
    {
     "name": "stdout",
     "output_type": "stream",
     "text": [
      "4\n"
     ]
    }
   ],
   "source": [
    "N = int(input())\n",
    "A = [int(a) for a in input().split(\" \")]\n",
    "A.sort()\n",
    "\n",
    "count0 = 0\n",
    "ind = []\n",
    "for a in range(N):\n",
    "    count = 0\n",
    "    for b in range(a+1,N):\n",
    "        if (A[b]-A[a])%200==0:\n",
    "            \n",
    "        else:\n",
    "        count+=1\n",
    "print(count)"
   ]
  },
  {
   "cell_type": "code",
   "execution_count": 22,
   "id": "c43dacc1",
   "metadata": {},
   "outputs": [
    {
     "data": {
      "text/plain": [
       "[123, 123, 200, 223, 523, 2000]"
      ]
     },
     "execution_count": 22,
     "metadata": {},
     "output_type": "execute_result"
    }
   ],
   "source": [
    "count = 0\n",
    "for i in A:"
   ]
  },
  {
   "cell_type": "code",
   "execution_count": 37,
   "id": "7da091e9",
   "metadata": {},
   "outputs": [
    {
     "name": "stdout",
     "output_type": "stream",
     "text": [
      "[True, False, False, True, False]\n"
     ]
    }
   ],
   "source": [
    "print([(A[0]-b )%200==0 for b in A[1:]])"
   ]
  },
  {
   "cell_type": "code",
   "execution_count": 68,
   "id": "e62bf535",
   "metadata": {},
   "outputs": [
    {
     "name": "stdin",
     "output_type": "stream",
     "text": [
      " 8\n",
      " 199 100 200 400 300 500 600 200\n"
     ]
    }
   ],
   "source": [
    "N = int(input())\n",
    "A = [int(a) for a in input().split(\" \")]\n",
    "A.sort()"
   ]
  },
  {
   "cell_type": "code",
   "execution_count": 71,
   "id": "41b45dae",
   "metadata": {},
   "outputs": [
    {
     "name": "stdin",
     "output_type": "stream",
     "text": [
      " 8\n",
      " 199 100 200 400 300 500 600 200\n"
     ]
    },
    {
     "name": "stdout",
     "output_type": "stream",
     "text": [
      "9\n"
     ]
    }
   ],
   "source": [
    "N = int(input())\n",
    "A = [int(a) for a in input().split(\" \")]\n",
    "A.sort()\n",
    "counta = 0\n",
    "skip = [True]*N\n",
    "for a in range(N):\n",
    "    count = 0\n",
    "    if skip[a]:\n",
    "        for b in range(a+1,N):\n",
    "            if (A[a]-A[b])%200==0:\n",
    "                count += 1\n",
    "                skip[b] = False\n",
    "        counta += (count+1)*count//2\n",
    "print(counta)"
   ]
  },
  {
   "cell_type": "code",
   "execution_count": 70,
   "id": "cc5a02fa",
   "metadata": {},
   "outputs": [
    {
     "data": {
      "text/plain": [
       "9"
      ]
     },
     "execution_count": 70,
     "metadata": {},
     "output_type": "execute_result"
    }
   ],
   "source": [
    "counta"
   ]
  },
  {
   "cell_type": "code",
   "execution_count": null,
   "id": "0c87febd",
   "metadata": {},
   "outputs": [],
   "source": []
  }
 ],
 "metadata": {
  "kernelspec": {
   "display_name": "Python 3",
   "language": "python",
   "name": "python3"
  },
  "language_info": {
   "codemirror_mode": {
    "name": "ipython",
    "version": 3
   },
   "file_extension": ".py",
   "mimetype": "text/x-python",
   "name": "python",
   "nbconvert_exporter": "python",
   "pygments_lexer": "ipython3",
   "version": "3.8.8"
  }
 },
 "nbformat": 4,
 "nbformat_minor": 5
}
