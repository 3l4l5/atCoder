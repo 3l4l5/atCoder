{
 "cells": [
  {
   "cell_type": "markdown",
   "id": "c0655640",
   "metadata": {},
   "source": [
    "# B - Many Oranges"
   ]
  },
  {
   "cell_type": "code",
   "execution_count": 29,
   "id": "75d50607",
   "metadata": {},
   "outputs": [
    {
     "name": "stdin",
     "output_type": "stream",
     "text": [
      " 300 333 1\n"
     ]
    }
   ],
   "source": [
    "A, B, W = [float(a) for a in input().split(\" \")]\n",
    "W *= 1000"
   ]
  },
  {
   "cell_type": "code",
   "execution_count": 34,
   "id": "e9f5fd17",
   "metadata": {},
   "outputs": [
    {
     "name": "stdout",
     "output_type": "stream",
     "text": [
      "1000.0\n",
      "500.0\n",
      "333.3333333333333\n"
     ]
    }
   ],
   "source": [
    "list_ = []\n",
    "for n in range(1,int(W//A+1)):\n",
    "    print(W/n)\n",
    "    if W / n >= A and W / n <= B:\n",
    "        list_.append(n)"
   ]
  },
  {
   "cell_type": "code",
   "execution_count": 35,
   "id": "69e6745d",
   "metadata": {},
   "outputs": [
    {
     "ename": "ValueError",
     "evalue": "min() arg is an empty sequence",
     "output_type": "error",
     "traceback": [
      "\u001b[0;31m---------------------------------------------------------------------------\u001b[0m",
      "\u001b[0;31mValueError\u001b[0m                                Traceback (most recent call last)",
      "\u001b[0;32m<ipython-input-35-0ee8ebc8ef16>\u001b[0m in \u001b[0;36m<module>\u001b[0;34m\u001b[0m\n\u001b[0;32m----> 1\u001b[0;31m \u001b[0mprint\u001b[0m\u001b[0;34m(\u001b[0m\u001b[0mmin\u001b[0m\u001b[0;34m(\u001b[0m\u001b[0mlist_\u001b[0m\u001b[0;34m)\u001b[0m\u001b[0;34m,\u001b[0m \u001b[0mmax\u001b[0m\u001b[0;34m(\u001b[0m\u001b[0mlist_\u001b[0m\u001b[0;34m)\u001b[0m\u001b[0;34m)\u001b[0m\u001b[0;34m\u001b[0m\u001b[0;34m\u001b[0m\u001b[0m\n\u001b[0m",
      "\u001b[0;31mValueError\u001b[0m: min() arg is an empty sequence"
     ]
    }
   ],
   "source": [
    "print(min(list_), max(list_) if list != [] else \"UNSATISFIABLE\")"
   ]
  },
  {
   "cell_type": "code",
   "execution_count": null,
   "id": "bda35884",
   "metadata": {},
   "outputs": [],
   "source": [
    "A, B, W = [float(a) for a in input().split(\" \")]\n",
    "W *= 1000\n",
    "list_ = []\n",
    "for n in range(1,int(W//A+1)):\n",
    "    if W // n >= A and W // n <= B:\n",
    "        list_.append(n)\n",
    "print(min(list_), max(list_))"
   ]
  }
 ],
 "metadata": {
  "kernelspec": {
   "display_name": "Python 3",
   "language": "python",
   "name": "python3"
  },
  "language_info": {
   "codemirror_mode": {
    "name": "ipython",
    "version": 3
   },
   "file_extension": ".py",
   "mimetype": "text/x-python",
   "name": "python",
   "nbconvert_exporter": "python",
   "pygments_lexer": "ipython3",
   "version": "3.8.8"
  }
 },
 "nbformat": 4,
 "nbformat_minor": 5
}
