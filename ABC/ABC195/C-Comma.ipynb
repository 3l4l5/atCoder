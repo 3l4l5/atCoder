{
 "cells": [
  {
   "cell_type": "code",
   "execution_count": 37,
   "id": "a293ec61",
   "metadata": {},
   "outputs": [
    {
     "name": "stdin",
     "output_type": "stream",
     "text": [
      " 27182818284590\n"
     ]
    }
   ],
   "source": [
    "N = int(input())"
   ]
  },
  {
   "cell_type": "code",
   "execution_count": 45,
   "id": "bf07be26",
   "metadata": {},
   "outputs": [],
   "source": [
    "N = int(input())\n",
    "count = 0\n",
    "sle = 1000\n",
    "num = 0\n",
    "while True:\n",
    "    if N < sle:\n",
    "        num += ((N - sle//1000) +1) * count\n",
    "        break\n",
    "    else:\n",
    "        num += (sle - sle//1000) * count\n",
    "        count += 1\n",
    "        sle = sle * 1000\n",
    "print(num)"
   ]
  },
  {
   "cell_type": "code",
   "execution_count": 46,
   "id": "a21dae8c",
   "metadata": {},
   "outputs": [
    {
     "data": {
      "text/plain": [
       "107730272137364"
      ]
     },
     "execution_count": 46,
     "metadata": {},
     "output_type": "execute_result"
    }
   ],
   "source": [
    "num"
   ]
  },
  {
   "cell_type": "code",
   "execution_count": 47,
   "id": "15b53366",
   "metadata": {},
   "outputs": [
    {
     "data": {
      "text/plain": [
       "107730272137364"
      ]
     },
     "execution_count": 47,
     "metadata": {},
     "output_type": "execute_result"
    }
   ],
   "source": [
    "107730272137364"
   ]
  },
  {
   "cell_type": "code",
   "execution_count": null,
   "id": "56809f0e",
   "metadata": {},
   "outputs": [],
   "source": []
  }
 ],
 "metadata": {
  "kernelspec": {
   "display_name": "Python 3",
   "language": "python",
   "name": "python3"
  },
  "language_info": {
   "codemirror_mode": {
    "name": "ipython",
    "version": 3
   },
   "file_extension": ".py",
   "mimetype": "text/x-python",
   "name": "python",
   "nbconvert_exporter": "python",
   "pygments_lexer": "ipython3",
   "version": "3.8.8"
  }
 },
 "nbformat": 4,
 "nbformat_minor": 5
}
