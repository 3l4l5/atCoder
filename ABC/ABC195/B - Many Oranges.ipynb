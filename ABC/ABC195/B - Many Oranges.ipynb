{
 "cells": [
  {
   "cell_type": "markdown",
   "id": "ed615f86",
   "metadata": {},
   "source": [
    "# B - Many Oranges"
   ]
  },
  {
   "cell_type": "code",
   "execution_count": 46,
   "id": "543fe39e",
   "metadata": {},
   "outputs": [
    {
     "name": "stdin",
     "output_type": "stream",
     "text": [
      " 100 200 2\n"
     ]
    }
   ],
   "source": [
    "A, B, W = [float(a) for a in input().split(\" \")]\n",
    "W *= 1000"
   ]
  },
  {
   "cell_type": "code",
   "execution_count": 47,
   "id": "dffa56be",
   "metadata": {},
   "outputs": [
    {
     "name": "stdout",
     "output_type": "stream",
     "text": [
      "2000.0\n",
      "1000.0\n",
      "666.6666666666666\n",
      "500.0\n",
      "400.0\n",
      "333.3333333333333\n",
      "285.7142857142857\n",
      "250.0\n",
      "222.22222222222223\n",
      "200.0\n",
      "181.8181818181818\n",
      "166.66666666666666\n",
      "153.84615384615384\n",
      "142.85714285714286\n",
      "133.33333333333334\n",
      "125.0\n",
      "117.6470588235294\n",
      "111.11111111111111\n",
      "105.26315789473684\n",
      "100.0\n"
     ]
    }
   ],
   "source": [
    "list_ = []\n",
    "for n in range(1,int(W//A+1)):\n",
    "    print(W/n)\n",
    "    if W / n >= A and W / n <= B:\n",
    "        list_.append(n)"
   ]
  },
  {
   "cell_type": "code",
   "execution_count": 48,
   "id": "f1a19be2",
   "metadata": {},
   "outputs": [
    {
     "data": {
      "text/plain": [
       "True"
      ]
     },
     "execution_count": 48,
     "metadata": {},
     "output_type": "execute_result"
    }
   ],
   "source": [
    "list_ != []"
   ]
  },
  {
   "cell_type": "code",
   "execution_count": 49,
   "id": "98ca7528",
   "metadata": {},
   "outputs": [
    {
     "name": "stdout",
     "output_type": "stream",
     "text": [
      "(10, 20)\n"
     ]
    }
   ],
   "source": [
    "print((min(list_), max(list_)) if list_ != [] else \"UNSATISFIABLE\")"
   ]
  },
  {
   "cell_type": "code",
   "execution_count": 52,
   "id": "7e229ddd",
   "metadata": {},
   "outputs": [
    {
     "name": "stdin",
     "output_type": "stream",
     "text": [
      " 300 333 1\n"
     ]
    },
    {
     "name": "stdout",
     "output_type": "stream",
     "text": [
      "UNSATISFIABLE\n"
     ]
    }
   ],
   "source": [
    "A, B, W = [float(a) for a in input().split(\" \")]\n",
    "W *= 1000\n",
    "list_ = []\n",
    "for n in range(1,int(W//A+1)):\n",
    "    if W / n >= A and W / n <= B:\n",
    "        list_.append(n)\n",
    "if list_ != []:\n",
    "    print(min(list_), max(list_))\n",
    "else:\n",
    "    print(\"UNSATISFIABLE\")"
   ]
  },
  {
   "cell_type": "code",
   "execution_count": null,
   "id": "baeb8a8e",
   "metadata": {},
   "outputs": [],
   "source": []
  }
 ],
 "metadata": {
  "kernelspec": {
   "display_name": "Python 3",
   "language": "python",
   "name": "python3"
  },
  "language_info": {
   "codemirror_mode": {
    "name": "ipython",
    "version": 3
   },
   "file_extension": ".py",
   "mimetype": "text/x-python",
   "name": "python",
   "nbconvert_exporter": "python",
   "pygments_lexer": "ipython3",
   "version": "3.8.8"
  }
 },
 "nbformat": 4,
 "nbformat_minor": 5
}
