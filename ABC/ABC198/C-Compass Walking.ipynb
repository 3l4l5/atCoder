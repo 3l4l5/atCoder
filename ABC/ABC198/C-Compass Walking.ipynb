{
 "cells": [
  {
   "cell_type": "markdown",
   "id": "2b1f5cfc",
   "metadata": {},
   "source": [
    "# C-Compass Walking"
   ]
  },
  {
   "cell_type": "code",
   "execution_count": 12,
   "id": "c7981872",
   "metadata": {},
   "outputs": [
    {
     "name": "stdin",
     "output_type": "stream",
     "text": [
      " 5 11 0\n"
     ]
    }
   ],
   "source": [
    "R, X, Y = [int(a) for a in input().split(\" \")]"
   ]
  },
  {
   "cell_type": "code",
   "execution_count": 15,
   "id": "389589fa",
   "metadata": {},
   "outputs": [
    {
     "name": "stdin",
     "output_type": "stream",
     "text": [
      " 3 4 4\n"
     ]
    },
    {
     "name": "stdout",
     "output_type": "stream",
     "text": [
      "2\n"
     ]
    }
   ],
   "source": [
    "R, X, Y = [int(a) for a in input().split(\" \")]\n",
    "d_m = divmod((X ** 2 + Y **2)**0.5, R)\n",
    "print(int(2 if d_m[0]==0 else d_m[0] if d_m[1]==0 else d_m[0] + 1))"
   ]
  },
  {
   "cell_type": "code",
   "execution_count": null,
   "id": "45069487",
   "metadata": {},
   "outputs": [],
   "source": []
  }
 ],
 "metadata": {
  "kernelspec": {
   "display_name": "Python 3",
   "language": "python",
   "name": "python3"
  },
  "language_info": {
   "codemirror_mode": {
    "name": "ipython",
    "version": 3
   },
   "file_extension": ".py",
   "mimetype": "text/x-python",
   "name": "python",
   "nbconvert_exporter": "python",
   "pygments_lexer": "ipython3",
   "version": "3.8.8"
  }
 },
 "nbformat": 4,
 "nbformat_minor": 5
}
