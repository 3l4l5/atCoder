{
 "cells": [
  {
   "cell_type": "markdown",
   "id": "3ccc9e47",
   "metadata": {},
   "source": [
    "# A-Div"
   ]
  },
  {
   "cell_type": "code",
   "execution_count": null,
   "id": "38edd82e",
   "metadata": {},
   "outputs": [],
   "source": [
    "print(int(input())-1)"
   ]
  }
 ],
 "metadata": {
  "kernelspec": {
   "display_name": "Python 3",
   "language": "python",
   "name": "python3"
  },
  "language_info": {
   "codemirror_mode": {
    "name": "ipython",
    "version": 3
   },
   "file_extension": ".py",
   "mimetype": "text/x-python",
   "name": "python",
   "nbconvert_exporter": "python",
   "pygments_lexer": "ipython3",
   "version": "3.8.8"
  }
 },
 "nbformat": 4,
 "nbformat_minor": 5
}
