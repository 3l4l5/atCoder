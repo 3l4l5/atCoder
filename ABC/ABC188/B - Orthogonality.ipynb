{
 "cells": [
  {
   "cell_type": "code",
   "execution_count": 8,
   "id": "a83fdb71",
   "metadata": {},
   "outputs": [
    {
     "name": "stdin",
     "output_type": "stream",
     "text": [
      " 2\n",
      " 4 5\n",
      " -1 -3\n"
     ]
    }
   ],
   "source": [
    "N = int(input())\n",
    "A = [int(a) for a in input().split(\" \")]\n",
    "B = [int(a) for a in input().split(\" \")]\n",
    "naiseki = 0\n",
    "for a, b in zip(A, B):\n",
    "    naiseki += a*b\n",
    "print(\"Yes\" if naiseki == 0 else \"No\")"
   ]
  }
 ],
 "metadata": {
  "kernelspec": {
   "display_name": "Python 3",
   "language": "python",
   "name": "python3"
  },
  "language_info": {
   "codemirror_mode": {
    "name": "ipython",
    "version": 3
   },
   "file_extension": ".py",
   "mimetype": "text/x-python",
   "name": "python",
   "nbconvert_exporter": "python",
   "pygments_lexer": "ipython3",
   "version": "3.8.8"
  }
 },
 "nbformat": 4,
 "nbformat_minor": 5
}
