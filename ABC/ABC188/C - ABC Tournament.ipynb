{
 "cells": [
  {
   "cell_type": "markdown",
   "id": "a320b55b",
   "metadata": {},
   "source": [
    "# C - ABC Tournament"
   ]
  },
  {
   "cell_type": "code",
   "execution_count": 22,
   "id": "7d77b65a",
   "metadata": {},
   "outputs": [
    {
     "name": "stdin",
     "output_type": "stream",
     "text": [
      " 4\n",
      " 6 13 12 5 3 7 10 11 16 9 8 15 2 1 14 4\n"
     ]
    }
   ],
   "source": [
    "N = int(input())\n",
    "A = [int(a) for a in input().split(\" \")]"
   ]
  },
  {
   "cell_type": "code",
   "execution_count": 28,
   "id": "7978ac96",
   "metadata": {},
   "outputs": [
    {
     "name": "stdin",
     "output_type": "stream",
     "text": [
      " 2\n",
      " 3 1 5 4\n"
     ]
    },
    {
     "name": "stdout",
     "output_type": "stream",
     "text": [
      "1\n"
     ]
    }
   ],
   "source": [
    "N = int(input())\n",
    "A = [int(a) for a in input().split(\" \")]\n",
    "def tree(list_):\n",
    "    if len(list_)==2:\n",
    "        return min(list_)\n",
    "    else:\n",
    "        buffer = []\n",
    "        buf = 0\n",
    "        for l in range(0,len(list_),2):\n",
    "            buf = list_[l+1] if list_[l]<list_[l+1] else list_[l]\n",
    "            buffer.append(buf)\n",
    "        return tree(buffer)\n",
    "print(A.index(tree(A))+1)"
   ]
  },
  {
   "cell_type": "code",
   "execution_count": 26,
   "id": "78f0233e",
   "metadata": {},
   "outputs": [
    {
     "name": "stdout",
     "output_type": "stream",
     "text": [
      "2\n"
     ]
    }
   ],
   "source": [
    "print(A.index(tree(A))+1)"
   ]
  },
  {
   "cell_type": "code",
   "execution_count": 16,
   "id": "faa20592",
   "metadata": {},
   "outputs": [],
   "source": [
    "dic = {}\n",
    "num = 0\n",
    "for a in A:\n",
    "    dic[num] = a\n",
    "    num+=1\n",
    "    "
   ]
  },
  {
   "cell_type": "code",
   "execution_count": 17,
   "id": "e5531a7c",
   "metadata": {},
   "outputs": [
    {
     "data": {
      "text/plain": [
       "{0: 3, 1: 1, 2: 5, 3: 4}"
      ]
     },
     "execution_count": 17,
     "metadata": {},
     "output_type": "execute_result"
    }
   ],
   "source": [
    "dic"
   ]
  },
  {
   "cell_type": "code",
   "execution_count": 21,
   "id": "15893a44",
   "metadata": {},
   "outputs": [
    {
     "ename": "TypeError",
     "evalue": "'builtin_function_or_method' object is not iterable",
     "output_type": "error",
     "traceback": [
      "\u001b[0;31m---------------------------------------------------------------------------\u001b[0m",
      "\u001b[0;31mTypeError\u001b[0m                                 Traceback (most recent call last)",
      "\u001b[0;32m<ipython-input-21-d09e907362e3>\u001b[0m in \u001b[0;36m<module>\u001b[0;34m\u001b[0m\n\u001b[0;32m----> 1\u001b[0;31m \u001b[0mmin\u001b[0m\u001b[0;34m(\u001b[0m\u001b[0mdic\u001b[0m\u001b[0;34m.\u001b[0m\u001b[0mvalues\u001b[0m\u001b[0;34m)\u001b[0m\u001b[0;34m\u001b[0m\u001b[0;34m\u001b[0m\u001b[0m\n\u001b[0m",
      "\u001b[0;31mTypeError\u001b[0m: 'builtin_function_or_method' object is not iterable"
     ]
    }
   ],
   "source": [
    "min(dic.)"
   ]
  },
  {
   "cell_type": "code",
   "execution_count": null,
   "id": "30c3cd8f",
   "metadata": {},
   "outputs": [],
   "source": []
  }
 ],
 "metadata": {
  "kernelspec": {
   "display_name": "Python 3",
   "language": "python",
   "name": "python3"
  },
  "language_info": {
   "codemirror_mode": {
    "name": "ipython",
    "version": 3
   },
   "file_extension": ".py",
   "mimetype": "text/x-python",
   "name": "python",
   "nbconvert_exporter": "python",
   "pygments_lexer": "ipython3",
   "version": "3.8.8"
  }
 },
 "nbformat": 4,
 "nbformat_minor": 5
}
