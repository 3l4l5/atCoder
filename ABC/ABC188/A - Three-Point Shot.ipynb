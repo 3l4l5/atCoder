{
 "cells": [
  {
   "cell_type": "markdown",
   "id": "aa7077ec",
   "metadata": {},
   "source": [
    "# A - Three-Point Shot"
   ]
  },
  {
   "cell_type": "code",
   "execution_count": 6,
   "id": "fbfc25c5",
   "metadata": {},
   "outputs": [
    {
     "name": "stdin",
     "output_type": "stream",
     "text": [
      " 5 3\n"
     ]
    },
    {
     "name": "stdout",
     "output_type": "stream",
     "text": [
      "Yes\n"
     ]
    }
   ],
   "source": [
    "X, Y = [int(a) for a in input().split(\" \")]\n",
    "print(\"Yes\" if abs(X - Y) < 3 else \"No\")"
   ]
  },
  {
   "cell_type": "code",
   "execution_count": null,
   "id": "03c54654",
   "metadata": {},
   "outputs": [],
   "source": []
  }
 ],
 "metadata": {
  "kernelspec": {
   "display_name": "Python 3",
   "language": "python",
   "name": "python3"
  },
  "language_info": {
   "codemirror_mode": {
    "name": "ipython",
    "version": 3
   },
   "file_extension": ".py",
   "mimetype": "text/x-python",
   "name": "python",
   "nbconvert_exporter": "python",
   "pygments_lexer": "ipython3",
   "version": "3.8.8"
  }
 },
 "nbformat": 4,
 "nbformat_minor": 5
}
