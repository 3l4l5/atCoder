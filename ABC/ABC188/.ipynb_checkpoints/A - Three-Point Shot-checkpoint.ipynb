{
 "cells": [
  {
   "cell_type": "markdown",
   "id": "837277e3",
   "metadata": {},
   "source": [
    "# A - Three-Point Shot"
   ]
  },
  {
   "cell_type": "code",
   "execution_count": 4,
   "id": "1f525ac5",
   "metadata": {},
   "outputs": [
    {
     "name": "stdin",
     "output_type": "stream",
     "text": [
      " 3 5\n"
     ]
    },
    {
     "name": "stdout",
     "output_type": "stream",
     "text": [
      "Yes\n"
     ]
    }
   ],
   "source": [
    "X, Y = [int(a) for a in input().split(\" \")]\n",
    "print(\"Yes\" if abs(X - Y) < 3 else \"No\")"
   ]
  },
  {
   "cell_type": "code",
   "execution_count": null,
   "id": "65b728e7",
   "metadata": {},
   "outputs": [],
   "source": []
  }
 ],
 "metadata": {
  "kernelspec": {
   "display_name": "Python 3",
   "language": "python",
   "name": "python3"
  },
  "language_info": {
   "codemirror_mode": {
    "name": "ipython",
    "version": 3
   },
   "file_extension": ".py",
   "mimetype": "text/x-python",
   "name": "python",
   "nbconvert_exporter": "python",
   "pygments_lexer": "ipython3",
   "version": "3.8.8"
  }
 },
 "nbformat": 4,
 "nbformat_minor": 5
}
