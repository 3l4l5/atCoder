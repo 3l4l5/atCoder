{
 "cells": [
  {
   "cell_type": "code",
   "execution_count": 68,
   "id": "29d192c1",
   "metadata": {},
   "outputs": [
    {
     "name": "stdin",
     "output_type": "stream",
     "text": [
      " 10 2 20\n",
      " 9 11\n",
      " 13 17\n"
     ]
    }
   ],
   "source": [
    "N, M, T = [int(a) for a in input().split(\" \")]\n",
    "AB = []\n",
    "for ab in [0]*M:\n",
    "    AB += [int(a) for a in input().split(\" \")]\n",
    "AB1 = [0]+AB+[T]\n"
   ]
  },
  {
   "cell_type": "code",
   "execution_count": 76,
   "id": "e58a4f4b",
   "metadata": {},
   "outputs": [
    {
     "name": "stdout",
     "output_type": "stream",
     "text": [
      "False 9 0 1\n",
      "True 11 9 3\n",
      "False 13 11 1\n",
      "True 17 13 5\n",
      "False 20 17 2\n",
      "Yes\n"
     ]
    }
   ],
   "source": [
    "AB1 = [0]+AB+[T]\n",
    "N1 = N\n",
    "add = False\n",
    "for a in range(M*2+1):\n",
    "    \n",
    "    if not add:\n",
    "        N1 -= (AB1[a  + 1] - AB1[a ])\n",
    "        print(add, AB1[a + 1], AB1[a], N1)\n",
    "        add = not add\n",
    "        if N1 <= 0:\n",
    "            print(\"No\")\n",
    "            break\n",
    "    else:\n",
    "        N1 += (AB1[a + 1] - AB1[a])\n",
    "        print(add, AB1[a + 1], AB1[a ], N1)\n",
    "        add = not add\n",
    "else:\n",
    "    print(\"Yes\")"
   ]
  },
  {
   "cell_type": "code",
   "execution_count": 81,
   "id": "abc8b048",
   "metadata": {},
   "outputs": [
    {
     "name": "stdin",
     "output_type": "stream",
     "text": [
      " 20 1 30\n",
      " 1 10\n"
     ]
    },
    {
     "name": "stdout",
     "output_type": "stream",
     "text": [
      "False 1 0 19\n",
      "True 10 1 20\n",
      "False 30 10 0\n",
      "No\n"
     ]
    }
   ],
   "source": [
    "N, M, T = [int(a) for a in input().split(\" \")]\n",
    "AB = []\n",
    "for ab in [0]*M:\n",
    "    AB += [int(a) for a in input().split(\" \")]\n",
    "AB1 = [0]+AB+[T]\n",
    "N1 = N\n",
    "add = False\n",
    "for a in range(M*2+1):\n",
    "    \n",
    "    if not add:\n",
    "        N1 -= (AB1[a  + 1] - AB1[a ])\n",
    "        #print(add, AB1[a + 1], AB1[a], N1)\n",
    "        add = not add\n",
    "        if N1 <= 0:\n",
    "            print(\"No\")\n",
    "            break\n",
    "    else:\n",
    "        N1 += N - N1 if N1 + (AB1[a + 1] - AB1[a]) > N else (AB1[a + 1] - AB1[a])\n",
    "        #print(add, AB1[a + 1], AB1[a ], N1)\n",
    "        add = not add\n",
    "else:\n",
    "    print(\"Yes\")\n",
    "    "
   ]
  },
  {
   "cell_type": "code",
   "execution_count": null,
   "id": "89c90d19",
   "metadata": {},
   "outputs": [],
   "source": []
  }
 ],
 "metadata": {
  "kernelspec": {
   "display_name": "Python 3",
   "language": "python",
   "name": "python3"
  },
  "language_info": {
   "codemirror_mode": {
    "name": "ipython",
    "version": 3
   },
   "file_extension": ".py",
   "mimetype": "text/x-python",
   "name": "python",
   "nbconvert_exporter": "python",
   "pygments_lexer": "ipython3",
   "version": "3.8.8"
  }
 },
 "nbformat": 4,
 "nbformat_minor": 5
}
