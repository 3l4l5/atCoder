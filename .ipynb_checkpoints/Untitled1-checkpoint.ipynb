{
 "cells": [
  {
   "cell_type": "code",
   "execution_count": 14,
   "id": "708f4813",
   "metadata": {},
   "outputs": [
    {
     "name": "stdin",
     "output_type": "stream",
     "text": [
      " 4\n",
      " Kita 3193\n",
      " Aino 3189\n",
      " Fuji 3776\n",
      " Okuhotaka 3190\n"
     ]
    }
   ],
   "source": [
    "N = int(input())\n",
    "S = []\n",
    "T = []\n",
    "for i in [0]*N:\n",
    "    s, t = input().split(\" \")\n",
    "    S.append(s)\n",
    "    T.append(int(t))\n",
    "print(S[T.index(sorted(T)[-2])])"
   ]
  },
  {
   "cell_type": "code",
   "execution_count": 15,
   "id": "de33141e",
   "metadata": {},
   "outputs": [
    {
     "data": {
      "text/plain": [
       "'Kita'"
      ]
     },
     "execution_count": 15,
     "metadata": {},
     "output_type": "execute_result"
    }
   ],
   "source": [
    "print(S[T.index(sorted(T)[-2])])"
   ]
  },
  {
   "cell_type": "code",
   "execution_count": null,
   "id": "0dfc76a2",
   "metadata": {},
   "outputs": [],
   "source": []
  },
  {
   "cell_type": "code",
   "execution_count": null,
   "id": "056346b1",
   "metadata": {},
   "outputs": [],
   "source": []
  }
 ],
 "metadata": {
  "kernelspec": {
   "display_name": "Python 3",
   "language": "python",
   "name": "python3"
  },
  "language_info": {
   "codemirror_mode": {
    "name": "ipython",
    "version": 3
   },
   "file_extension": ".py",
   "mimetype": "text/x-python",
   "name": "python",
   "nbconvert_exporter": "python",
   "pygments_lexer": "ipython3",
   "version": "3.8.8"
  }
 },
 "nbformat": 4,
 "nbformat_minor": 5
}
